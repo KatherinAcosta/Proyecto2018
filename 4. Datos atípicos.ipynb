{
 "cells": [
  {
   "cell_type": "code",
   "execution_count": 1,
   "metadata": {},
   "outputs": [],
   "source": [
    "import pandas as pd      #IMPORTANTE NO OLVIDAR ヽ(•‿ •)ノ\n",
    "import numpy as np\n",
    "pd.set_option(\"display.max_rows\", 9) # Especificar el número de filas a mostrar\n",
    "from scipy import stats # importando scipy.stats\n",
    "%matplotlib inline\n",
    "import matplotlib.pyplot as plt # importando matplotlib\n",
    "from matplotlib.ticker import NullFormatter\n",
    "import seaborn as sns # importando seaborn\n",
    "import calendar\n",
    "plt.style.use('seaborn-whitegrid') # Se define el estilo, en este caso se elige la visualización clásica de Matlab"
   ]
  },
  {
   "cell_type": "markdown",
   "metadata": {},
   "source": [
    "# Datos Atípicos\n",
    "Un valor atípico es una observación que se aleja demasiado de la moda; esta muy lejos de la tendencia principal del resto de los datos. Pueden ser causados por errores en la recolección de datos o medidas inusuales. Generalmente se recomienda eliminarlos del conjunto de datos. Los diagramas de cajas son una presentación visual que describe varias características importantes al mismo tiempo, tales como la dispersión y simetría. Para su realización se representan los tres cuartiles y los valores mínimo y máximo de los datos, sobre un rectángulo, alineado horizontal o verticalmente. Estos gráficos nos proporcionan abundante información y son sumamente útiles para encontrar valores atípicos y comparar dos conjunto de datos."
   ]
  },
  {
   "cell_type": "code",
   "execution_count": 3,
   "metadata": {},
   "outputs": [
    {
     "data": {
      "text/html": [
       "<div>\n",
       "<style scoped>\n",
       "    .dataframe tbody tr th:only-of-type {\n",
       "        vertical-align: middle;\n",
       "    }\n",
       "\n",
       "    .dataframe tbody tr th {\n",
       "        vertical-align: top;\n",
       "    }\n",
       "\n",
       "    .dataframe thead th {\n",
       "        text-align: right;\n",
       "    }\n",
       "</style>\n",
       "<table border=\"1\" class=\"dataframe\">\n",
       "  <thead>\n",
       "    <tr style=\"text-align: right;\">\n",
       "      <th></th>\n",
       "      <th>ESTABLECIMIENTO</th>\n",
       "      <th>DPTO</th>\n",
       "      <th>CIIU</th>\n",
       "      <th>PERIODO</th>\n",
       "      <th>SOCIOSMUJ</th>\n",
       "      <th>SOCIOSHOM</th>\n",
       "      <th>PERMANENTEMUJ</th>\n",
       "      <th>PERMANENTEHOM</th>\n",
       "      <th>APRENDIZMUJ</th>\n",
       "      <th>APRENDIZHOM</th>\n",
       "      <th>...</th>\n",
       "      <th>PROD_BRUTA</th>\n",
       "      <th>PROD_INDUST</th>\n",
       "      <th>INVERBRUTA</th>\n",
       "      <th>TEMPORALDIRECTO</th>\n",
       "      <th>PERMANENTE</th>\n",
       "      <th>VAL_AGREGADO</th>\n",
       "      <th>MPCOMPRADA</th>\n",
       "      <th>COMPRAS_MP_EXTERIOR</th>\n",
       "      <th>EXPORTACIONES</th>\n",
       "      <th>VENTAS</th>\n",
       "    </tr>\n",
       "    <tr>\n",
       "      <th>EMPRESA</th>\n",
       "      <th></th>\n",
       "      <th></th>\n",
       "      <th></th>\n",
       "      <th></th>\n",
       "      <th></th>\n",
       "      <th></th>\n",
       "      <th></th>\n",
       "      <th></th>\n",
       "      <th></th>\n",
       "      <th></th>\n",
       "      <th></th>\n",
       "      <th></th>\n",
       "      <th></th>\n",
       "      <th></th>\n",
       "      <th></th>\n",
       "      <th></th>\n",
       "      <th></th>\n",
       "      <th></th>\n",
       "      <th></th>\n",
       "      <th></th>\n",
       "      <th></th>\n",
       "    </tr>\n",
       "  </thead>\n",
       "  <tbody>\n",
       "    <tr>\n",
       "      <th>145973</th>\n",
       "      <td>145898</td>\n",
       "      <td>11</td>\n",
       "      <td>1810</td>\n",
       "      <td>2008</td>\n",
       "      <td>0</td>\n",
       "      <td>0</td>\n",
       "      <td>0</td>\n",
       "      <td>2</td>\n",
       "      <td>0</td>\n",
       "      <td>0</td>\n",
       "      <td>...</td>\n",
       "      <td>3525900</td>\n",
       "      <td>3525900</td>\n",
       "      <td>0</td>\n",
       "      <td>0</td>\n",
       "      <td>2</td>\n",
       "      <td>912761</td>\n",
       "      <td>2602400</td>\n",
       "      <td>0</td>\n",
       "      <td>0</td>\n",
       "      <td>3460300</td>\n",
       "    </tr>\n",
       "    <tr>\n",
       "      <th>145979</th>\n",
       "      <td>145904</td>\n",
       "      <td>11</td>\n",
       "      <td>1810</td>\n",
       "      <td>2008</td>\n",
       "      <td>1</td>\n",
       "      <td>1</td>\n",
       "      <td>5</td>\n",
       "      <td>2</td>\n",
       "      <td>0</td>\n",
       "      <td>0</td>\n",
       "      <td>...</td>\n",
       "      <td>296411</td>\n",
       "      <td>296411</td>\n",
       "      <td>9406</td>\n",
       "      <td>0</td>\n",
       "      <td>7</td>\n",
       "      <td>122106</td>\n",
       "      <td>102941</td>\n",
       "      <td>0</td>\n",
       "      <td>0</td>\n",
       "      <td>296411</td>\n",
       "    </tr>\n",
       "    <tr>\n",
       "      <th>145987</th>\n",
       "      <td>145912</td>\n",
       "      <td>11</td>\n",
       "      <td>1810</td>\n",
       "      <td>2008</td>\n",
       "      <td>0</td>\n",
       "      <td>0</td>\n",
       "      <td>0</td>\n",
       "      <td>0</td>\n",
       "      <td>0</td>\n",
       "      <td>0</td>\n",
       "      <td>...</td>\n",
       "      <td>1594496</td>\n",
       "      <td>1594496</td>\n",
       "      <td>3200</td>\n",
       "      <td>46</td>\n",
       "      <td>0</td>\n",
       "      <td>366562</td>\n",
       "      <td>867491</td>\n",
       "      <td>0</td>\n",
       "      <td>194621</td>\n",
       "      <td>1597520</td>\n",
       "    </tr>\n",
       "    <tr>\n",
       "      <th>145988</th>\n",
       "      <td>145913</td>\n",
       "      <td>11</td>\n",
       "      <td>1741</td>\n",
       "      <td>2008</td>\n",
       "      <td>0</td>\n",
       "      <td>1</td>\n",
       "      <td>0</td>\n",
       "      <td>0</td>\n",
       "      <td>0</td>\n",
       "      <td>0</td>\n",
       "      <td>...</td>\n",
       "      <td>166200</td>\n",
       "      <td>166200</td>\n",
       "      <td>-2000</td>\n",
       "      <td>0</td>\n",
       "      <td>0</td>\n",
       "      <td>92868</td>\n",
       "      <td>26720</td>\n",
       "      <td>0</td>\n",
       "      <td>0</td>\n",
       "      <td>231480</td>\n",
       "    </tr>\n",
       "    <tr>\n",
       "      <th>...</th>\n",
       "      <td>...</td>\n",
       "      <td>...</td>\n",
       "      <td>...</td>\n",
       "      <td>...</td>\n",
       "      <td>...</td>\n",
       "      <td>...</td>\n",
       "      <td>...</td>\n",
       "      <td>...</td>\n",
       "      <td>...</td>\n",
       "      <td>...</td>\n",
       "      <td>...</td>\n",
       "      <td>...</td>\n",
       "      <td>...</td>\n",
       "      <td>...</td>\n",
       "      <td>...</td>\n",
       "      <td>...</td>\n",
       "      <td>...</td>\n",
       "      <td>...</td>\n",
       "      <td>...</td>\n",
       "      <td>...</td>\n",
       "      <td>...</td>\n",
       "    </tr>\n",
       "    <tr>\n",
       "      <th>987525</th>\n",
       "      <td>987525</td>\n",
       "      <td>8</td>\n",
       "      <td>139</td>\n",
       "      <td>2016</td>\n",
       "      <td>0</td>\n",
       "      <td>0</td>\n",
       "      <td>0</td>\n",
       "      <td>0</td>\n",
       "      <td>4</td>\n",
       "      <td>0</td>\n",
       "      <td>...</td>\n",
       "      <td>11257778</td>\n",
       "      <td>11907721</td>\n",
       "      <td>25885</td>\n",
       "      <td>84</td>\n",
       "      <td>0</td>\n",
       "      <td>3431145</td>\n",
       "      <td>4925968</td>\n",
       "      <td>0</td>\n",
       "      <td>654653</td>\n",
       "      <td>11002090</td>\n",
       "    </tr>\n",
       "    <tr>\n",
       "      <th>987529</th>\n",
       "      <td>987529</td>\n",
       "      <td>8</td>\n",
       "      <td>139</td>\n",
       "      <td>2016</td>\n",
       "      <td>0</td>\n",
       "      <td>0</td>\n",
       "      <td>7</td>\n",
       "      <td>11</td>\n",
       "      <td>0</td>\n",
       "      <td>1</td>\n",
       "      <td>...</td>\n",
       "      <td>1554335</td>\n",
       "      <td>1566400</td>\n",
       "      <td>0</td>\n",
       "      <td>0</td>\n",
       "      <td>18</td>\n",
       "      <td>794639</td>\n",
       "      <td>279709</td>\n",
       "      <td>244803</td>\n",
       "      <td>0</td>\n",
       "      <td>1657388</td>\n",
       "    </tr>\n",
       "    <tr>\n",
       "      <th>987530</th>\n",
       "      <td>987530</td>\n",
       "      <td>8</td>\n",
       "      <td>139</td>\n",
       "      <td>2016</td>\n",
       "      <td>0</td>\n",
       "      <td>0</td>\n",
       "      <td>33</td>\n",
       "      <td>32</td>\n",
       "      <td>2</td>\n",
       "      <td>1</td>\n",
       "      <td>...</td>\n",
       "      <td>86282095</td>\n",
       "      <td>85785462</td>\n",
       "      <td>262072</td>\n",
       "      <td>2</td>\n",
       "      <td>65</td>\n",
       "      <td>22787632</td>\n",
       "      <td>46732723</td>\n",
       "      <td>2530882</td>\n",
       "      <td>49583775</td>\n",
       "      <td>85991402</td>\n",
       "    </tr>\n",
       "    <tr>\n",
       "      <th>987533</th>\n",
       "      <td>987533</td>\n",
       "      <td>8</td>\n",
       "      <td>139</td>\n",
       "      <td>2016</td>\n",
       "      <td>0</td>\n",
       "      <td>0</td>\n",
       "      <td>5</td>\n",
       "      <td>5</td>\n",
       "      <td>1</td>\n",
       "      <td>1</td>\n",
       "      <td>...</td>\n",
       "      <td>7892838</td>\n",
       "      <td>7892838</td>\n",
       "      <td>0</td>\n",
       "      <td>36</td>\n",
       "      <td>10</td>\n",
       "      <td>3682753</td>\n",
       "      <td>4038309</td>\n",
       "      <td>0</td>\n",
       "      <td>0</td>\n",
       "      <td>8600884</td>\n",
       "    </tr>\n",
       "  </tbody>\n",
       "</table>\n",
       "<p>11645 rows × 75 columns</p>\n",
       "</div>"
      ],
      "text/plain": [
       "         ESTABLECIMIENTO  DPTO  CIIU  PERIODO  SOCIOSMUJ  SOCIOSHOM  \\\n",
       "EMPRESA                                                               \n",
       "145973            145898    11  1810     2008          0          0   \n",
       "145979            145904    11  1810     2008          1          1   \n",
       "145987            145912    11  1810     2008          0          0   \n",
       "145988            145913    11  1741     2008          0          1   \n",
       "...                  ...   ...   ...      ...        ...        ...   \n",
       "987525            987525     8   139     2016          0          0   \n",
       "987529            987529     8   139     2016          0          0   \n",
       "987530            987530     8   139     2016          0          0   \n",
       "987533            987533     8   139     2016          0          0   \n",
       "\n",
       "         PERMANENTEMUJ  PERMANENTEHOM  APRENDIZMUJ  APRENDIZHOM    ...     \\\n",
       "EMPRESA                                                            ...      \n",
       "145973               0              2            0            0    ...      \n",
       "145979               5              2            0            0    ...      \n",
       "145987               0              0            0            0    ...      \n",
       "145988               0              0            0            0    ...      \n",
       "...                ...            ...          ...          ...    ...      \n",
       "987525               0              0            4            0    ...      \n",
       "987529               7             11            0            1    ...      \n",
       "987530              33             32            2            1    ...      \n",
       "987533               5              5            1            1    ...      \n",
       "\n",
       "         PROD_BRUTA  PROD_INDUST  INVERBRUTA  TEMPORALDIRECTO  PERMANENTE  \\\n",
       "EMPRESA                                                                     \n",
       "145973      3525900      3525900           0                0           2   \n",
       "145979       296411       296411        9406                0           7   \n",
       "145987      1594496      1594496        3200               46           0   \n",
       "145988       166200       166200       -2000                0           0   \n",
       "...             ...          ...         ...              ...         ...   \n",
       "987525     11257778     11907721       25885               84           0   \n",
       "987529      1554335      1566400           0                0          18   \n",
       "987530     86282095     85785462      262072                2          65   \n",
       "987533      7892838      7892838           0               36          10   \n",
       "\n",
       "         VAL_AGREGADO  MPCOMPRADA  COMPRAS_MP_EXTERIOR  EXPORTACIONES  \\\n",
       "EMPRESA                                                                 \n",
       "145973         912761     2602400                    0              0   \n",
       "145979         122106      102941                    0              0   \n",
       "145987         366562      867491                    0         194621   \n",
       "145988          92868       26720                    0              0   \n",
       "...               ...         ...                  ...            ...   \n",
       "987525        3431145     4925968                    0         654653   \n",
       "987529         794639      279709               244803              0   \n",
       "987530       22787632    46732723              2530882       49583775   \n",
       "987533        3682753     4038309                    0              0   \n",
       "\n",
       "           VENTAS  \n",
       "EMPRESA            \n",
       "145973    3460300  \n",
       "145979     296411  \n",
       "145987    1597520  \n",
       "145988     231480  \n",
       "...           ...  \n",
       "987525   11002090  \n",
       "987529    1657388  \n",
       "987530   85991402  \n",
       "987533    8600884  \n",
       "\n",
       "[11645 rows x 75 columns]"
      ]
     },
     "execution_count": 3,
     "metadata": {},
     "output_type": "execute_result"
    }
   ],
   "source": [
    "total=pd.read_excel(\"TOTAL.xlsx\",index_col=0)\n",
    "total"
   ]
  },
  {
   "cell_type": "markdown",
   "metadata": {},
   "source": [
    "En esta sección se realiza un gráfico de cajas de las variables de estudio utilizando la función boxplot()"
   ]
  },
  {
   "cell_type": "code",
   "execution_count": 23,
   "metadata": {},
   "outputs": [
    {
     "data": {
      "image/png": "[encoded data removed]",
      "text/plain": [
       "<Figure size 432x288 with 1 Axes>"
      ]
     },
     "metadata": {
      "needs_background": "light"
     },
     "output_type": "display_data"
    }
   ],
   "source": [
    "k=plt.boxplot([total.GASTOSCARTERA_ADM,total.GASTOSCARTERA],sym=\"b+\",widths=0.5,whis=1.5)\n",
    "plt.xticks([1,2],[\"GASTOSCARTERA_ADM\",\"GASTOSCARTERA\"],size=\"small\")\n",
    "plt.title(\"Diagrama de cajas gastos cartera\");\n",
    "\n",
    "# visualizar mas fácil los atípicos\n",
    "for flier in k['fliers']:\n",
    "    flier.set(marker='o', color='red', alpha=0.5)   # los puntos aislados son valores atípicos\n",
    "\n",
    "plt.savefig(\"Diagrama de cajas gastos cartera.png\")"
   ]
  },
  {
   "cell_type": "code",
   "execution_count": 24,
   "metadata": {},
   "outputs": [
    {
     "data": {
      "image/png": "[encoded data removed]",
      "text/plain": [
       "<Figure size 432x288 with 1 Axes>"
      ]
     },
     "metadata": {
      "needs_background": "light"
     },
     "output_type": "display_data"
    }
   ],
   "source": [
    "k=plt.boxplot([total.INV_MP,total.INV_PP,total.INV_PT,total.INV_PTNOFAB,total.TOTALINV],sym=\"b+\",widths=0.5,whis=1.5)\n",
    "plt.xticks([1,2,3,4,5],[\"INV_MP\",\"INV_PP\",\"INV_PT\",\"INV_PTNOFAB\",\"TOTALINV\"],size=\"small\")\n",
    "plt.title(\"Diagrama de cajas inventarios\");\n",
    "\n",
    "# visualizar mas fácil los atípicos\n",
    "for flier in k['fliers']:\n",
    "    flier.set(marker='o', color='red', alpha=0.5)   # los puntos aislados son valores atípicos\n",
    "\n",
    "plt.savefig(\"Diagrama de cajas inventarios.png\")"
   ]
  },
  {
   "cell_type": "code",
   "execution_count": 28,
   "metadata": {},
   "outputs": [
    {
     "data": {
      "image/png": "[encoded data removed]",
      "text/plain": [
       "<Figure size 432x288 with 1 Axes>"
      ]
     },
     "metadata": {
      "needs_background": "light"
     },
     "output_type": "display_data"
    }
   ],
   "source": [
    "k=plt.boxplot([total.GASTOSEDIF_USOPROPIO,total.GASTOSMAQ_USOPROPIO,total.GASTOSEINFORMATICA_USOPROPIO,total.GASTOSEOFICINA_USOPROPIO,total.GASTOSEQTRANSP_USOPROPIO,total.TOTALGASTOS_USOPROPIO],sym=\"b+\",widths=0.5,whis=1.5)\n",
    "plt.xticks([1,2,3,4,5,6],[\"EDIF\",\"MAQ\",\"EINFOR\",\"EOFI\",\"EQTRANSP\",\"TOTAL\"],size=\"small\")\n",
    "plt.title(\"Diagrama de cajas gastos activos de uso propio\");\n",
    "\n",
    "# visualizar mas fácil los atípicos\n",
    "for flier in k['fliers']:\n",
    "    flier.set(marker='o', color='red', alpha=0.5)   # los puntos aislados son valores atípicos\n",
    "\n",
    "plt.savefig(\"Diagrama de cajas gastos activos de uso propio.png\")"
   ]
  },
  {
   "cell_type": "code",
   "execution_count": 29,
   "metadata": {},
   "outputs": [
    {
     "data": {
      "image/png": "[encoded data removed]",
      "text/plain": [
       "<Figure size 432x288 with 1 Axes>"
      ]
     },
     "metadata": {
      "needs_background": "light"
     },
     "output_type": "display_data"
    }
   ],
   "source": [
    "k=plt.boxplot([total.INVER_TERRENO,total.INVER_EDIF,total.INVER_MAQ,total.TOTALINV_EINFORMATICA,total.INVER_OFICINA,total.INVER_EQTRANSP,total.TOTALINVER],sym=\"b+\",widths=0.5,whis=1.5)\n",
    "plt.xticks([1,2,3,4,5,6,7],[\"TERRENO\",\"EDIF\",\"MAQ\",\"EINF\",\"OFI\",\"EQTRANSP\",\"TOTAL\"],size=\"small\")\n",
    "plt.title(\"Diagrama de cajas inversión activos\");\n",
    "\n",
    "# visualizar mas fácil los atípicos\n",
    "for flier in k['fliers']:\n",
    "    flier.set(marker='o', color='red', alpha=0.5)   # los puntos aislados son valores atípicos\n",
    "\n",
    "plt.savefig(\"Diagrama de cajas inversión activos.png\")"
   ]
  },
  {
   "cell_type": "code",
   "execution_count": 32,
   "metadata": {},
   "outputs": [
    {
     "data": {
      "image/png": "[encoded data removed]",
      "text/plain": [
       "<Figure size 432x288 with 1 Axes>"
      ]
     },
     "metadata": {
      "needs_background": "light"
     },
     "output_type": "display_data"
    }
   ],
   "source": [
    "k=plt.boxplot([total.VAL_TERRENO,total.VAL_EDIF,total.VAL_MAQ,total.VAL_EINFORMATICA,total.VAL_OFICINA,total.VAL_EQTRANSP,total.VALORACTIVOS],sym=\"b+\",widths=0.5,whis=1.5)\n",
    "plt.xticks([1,2,3,4,5,6,7],[\"TERRENO\",\"EDIF\",\"MAQ\",\"EINF\",\"OFI\",\"EQTRANSP\",\"TOTAL\"],size=\"small\")\n",
    "plt.title(\"Diagrama de cajas valor activos\");\n",
    "\n",
    "# visualizar mas fácil los atípicos\n",
    "for flier in k['fliers']:\n",
    "    flier.set(marker='o', color='red', alpha=0.5)   # los puntos aislados son valores atípicos\n",
    "\n",
    "plt.savefig(\"Diagrama de cajas valor activos.png\")"
   ]
  },
  {
   "cell_type": "code",
   "execution_count": 33,
   "metadata": {},
   "outputs": [
    {
     "data": {
      "image/png": "[encoded data removed]",
      "text/plain": [
       "<Figure size 432x288 with 1 Axes>"
      ]
     },
     "metadata": {
      "needs_background": "light"
     },
     "output_type": "display_data"
    }
   ],
   "source": [
    "k=plt.boxplot([total.PROD_BRUTA,total.PROD_INDUST],sym=\"b+\",widths=0.5,whis=1.5)\n",
    "plt.xticks([1,2],[\"PROD_BRUTA\",\"PROD_INDUST\"],size=\"small\")\n",
    "plt.title(\"Diagrama de cajas producción\");\n",
    "\n",
    "# visualizar mas fácil los atípicos\n",
    "for flier in k['fliers']:\n",
    "    flier.set(marker='o', color='red', alpha=0.5)   # los puntos aislados son valores atípicos\n",
    "\n",
    "plt.savefig(\"Diagrama de cajas producción.png\")"
   ]
  },
  {
   "cell_type": "code",
   "execution_count": 34,
   "metadata": {},
   "outputs": [
    {
     "data": {
      "image/png": "[encoded data removed]",
      "text/plain": [
       "<Figure size 432x288 with 1 Axes>"
      ]
     },
     "metadata": {
      "needs_background": "light"
     },
     "output_type": "display_data"
    }
   ],
   "source": [
    "k=plt.boxplot([total.INVERBRUTA],sym=\"b+\",widths=0.5,whis=1.5)\n",
    "plt.xticks([1],[\"INVERBRUTA\"],size=\"small\")\n",
    "plt.title(\"Diagrama de cajas inversión bruta\");\n",
    "\n",
    "# visualizar mas fácil los atípicos\n",
    "for flier in k['fliers']:\n",
    "    flier.set(marker='o', color='red', alpha=0.5)   # los puntos aislados son valores atípicos\n",
    "\n",
    "plt.savefig(\"Diagrama de cajas inversión bruta.png\")"
   ]
  },
  {
   "cell_type": "code",
   "execution_count": 37,
   "metadata": {},
   "outputs": [
    {
     "data": {
      "image/png": "[encoded data removed]",
      "text/plain": [
       "<Figure size 432x288 with 1 Axes>"
      ]
     },
     "metadata": {
      "needs_background": "light"
     },
     "output_type": "display_data"
    }
   ],
   "source": [
    "k=plt.boxplot([total.VAL_AGREGADO,total.EXPORTACIONES,total.VENTAS],sym=\"b+\",widths=0.5,whis=1.5)\n",
    "plt.xticks([1,2,3],[\"VAL_AGREGADO\",\"EXPORTACIONES\",\"VENTAS\"],size=\"small\")\n",
    "plt.title(\"Diagrama de cajas resultados financieros\");\n",
    "\n",
    "# visualizar mas fácil los atípicos\n",
    "for flier in k['fliers']:\n",
    "    flier.set(marker='o', color='red', alpha=0.5)   # los puntos aislados son valores atípicos\n",
    "\n",
    "plt.savefig(\"Diagrama de cajas resultados financieros.png\")"
   ]
  }
 ],
 "metadata": {
  "kernelspec": {
   "display_name": "Python 3",
   "language": "python",
   "name": "python3"
  },
  "language_info": {
   "codemirror_mode": {
    "name": "ipython",
    "version": 3
   },
   "file_extension": ".py",
   "mimetype": "text/x-python",
   "name": "python",
   "nbconvert_exporter": "python",
   "pygments_lexer": "ipython3",
   "version": "3.7.0"
  }
 },
 "nbformat": 4,
 "nbformat_minor": 2
}
