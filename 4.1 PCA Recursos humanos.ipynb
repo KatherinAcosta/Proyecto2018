
     },
     "metadata": {
      "needs_background": "light"
     },
     "output_type": "display_data"
    }
   ],
   "source": [
    "b = sns.pairplot(PCA, vars=[\"Componente principal 1\",\"Componente principal 2\",\"Componente principal 3\",\"Componente principal 4\",\"Componente principal 5\",\"Componente principal 6\"],kind=\"reg\") \n",
    "b # Resumen gráfico con histogramas y diagramas de dispersión de las variables"
   ]
  }
 ],
 "metadata": {
  "kernelspec": {
   "display_name": "Python 3",
   "language": "python",
   "name": "python3"
  },
  "language_info": {
   "codemirror_mode": {
    "name": "ipython",
    "version": 3
   },
   "file_extension": ".py",
   "mimetype": "text/x-python",
   "name": "python",
   "nbconvert_exporter": "python",
   "pygments_lexer": "ipython3",
   "version": "3.7.0"
  }
 },
 "nbformat": 4,
 "nbformat_minor": 2
}
