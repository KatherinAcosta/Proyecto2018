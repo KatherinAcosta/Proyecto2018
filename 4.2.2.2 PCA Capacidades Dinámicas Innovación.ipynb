{
 "cells": [
  {
   "cell_type": "code",
   "execution_count": 1,
   "metadata": {},
   "outputs": [],
   "source": [
    "import pandas as pd      #IMPORTANTE NO OLVIDAR ヽ(•‿ •)ノ\n",
    "import numpy as np\n",
    "pd.set_option(\"display.max_rows\", 9) # Especificar el número de filas a mostrar\n",
    "from scipy import stats # importando scipy.stats\n",
    "%matplotlib inline\n",
    "import matplotlib.pyplot as plt # importando matplotlib\n",
    "from matplotlib.ticker import NullFormatter\n",
    "import seaborn as sns # importando seaborn\n",
    "import calendar\n",
    "plt.style.use('seaborn-whitegrid') # Se define el estilo, en este caso se elige la visualización clásica de Matlab"
   ]
  },
  {
   "cell_type": "markdown",
   "metadata": {},
   "source": [
    "# PCA CAPACIDADES\n",
    "\n",
    "1. Abrir el archivo\n",
    "2. Separar las variables dependientes de las independientes (CAPACIDADES) y normalizarlas\n",
    "3. Construcción de las matrices de varianza y covarianza\n",
    "4. Cálculo de los valores propios\n",
    "5. PCA"
   ]
  },
  {
   "cell_type": "code",
   "execution_count": 2,
   "metadata": {},
   "outputs": [],
   "source": [
    "#Se importan las librerias necesarias\n",
    "from sklearn.decomposition import PCA\n",
    "from sklearn.preprocessing import StandardScaler\n",
    "%matplotlib inline"
   ]
  },
  {
   "cell_type": "markdown",
   "metadata": {},
   "source": [
    "1.Abrir el archivo"
   ]
  },
  {
   "cell_type": "code",
   "execution_count": 3,
   "metadata": {},
   "outputs": [
    {
     "data": {
      "text/html": [
       "<div>\n",
       "<style scoped>\n",
       "    .dataframe tbody tr th:only-of-type {\n",
       "        vertical-align: middle;\n",
       "    }\n",
       "\n",
       "    .dataframe tbody tr th {\n",
       "        vertical-align: top;\n",
       "    }\n",
       "\n",
       "    .dataframe thead th {\n",
       "        text-align: right;\n",
       "    }\n",
       "</style>\n",
       "<table border=\"1\" class=\"dataframe\">\n",
       "  <thead>\n",
       "    <tr style=\"text-align: right;\">\n",
       "      <th></th>\n",
       "      <th>ESTABLECIMIENTO</th>\n",
       "      <th>DPTO</th>\n",
       "      <th>CIIU</th>\n",
       "      <th>PERIODO</th>\n",
       "      <th>SOCIOS</th>\n",
       "      <th>PERMANENTE</th>\n",
       "      <th>APRENDIZ</th>\n",
       "      <th>PROD_NAL</th>\n",
       "      <th>PROD_EXT</th>\n",
       "      <th>OBRERO</th>\n",
       "      <th>...</th>\n",
       "      <th>VALORACTIVOS</th>\n",
       "      <th>PROD_BRUTA</th>\n",
       "      <th>PROD_INDUST</th>\n",
       "      <th>INVERBRUTA</th>\n",
       "      <th>TEMPORALDIRECTO</th>\n",
       "      <th>VAL_AGREGADO</th>\n",
       "      <th>MPCOMPRADA</th>\n",
       "      <th>COMPRAS_MP_EXTERIOR</th>\n",
       "      <th>EXPORTACIONES</th>\n",
       "      <th>VENTAS</th>\n",
       "    </tr>\n",
       "  </thead>\n",
       "  <tbody>\n",
       "    <tr>\n",
       "      <th>0</th>\n",
       "      <td>145898</td>\n",
       "      <td>11</td>\n",
       "      <td>1810</td>\n",
       "      <td>2008</td>\n",
       "      <td>1.665038</td>\n",
       "      <td>2.000000</td>\n",
       "      <td>5.370346</td>\n",
       "      <td>2.000000</td>\n",
       "      <td>2.2875</td>\n",
       "      <td>10.0</td>\n",
       "      <td>...</td>\n",
       "      <td>641984.0</td>\n",
       "      <td>3525900</td>\n",
       "      <td>3525900</td>\n",
       "      <td>343423.189677</td>\n",
       "      <td>79.846659</td>\n",
       "      <td>912761</td>\n",
       "      <td>2602400.0</td>\n",
       "      <td>5.155038e+06</td>\n",
       "      <td>4.996960e+06</td>\n",
       "      <td>3460300.0</td>\n",
       "    </tr>\n",
       "    <tr>\n",
       "      <th>1</th>\n",
       "      <td>145904</td>\n",
       "      <td>11</td>\n",
       "      <td>1810</td>\n",
       "      <td>2008</td>\n",
       "      <td>2.000000</td>\n",
       "      <td>7.000000</td>\n",
       "      <td>5.370346</td>\n",
       "      <td>12.562613</td>\n",
       "      <td>2.2875</td>\n",
       "      <td>3.0</td>\n",
       "      <td>...</td>\n",
       "      <td>201817.0</td>\n",
       "      <td>296411</td>\n",
       "      <td>296411</td>\n",
       "      <td>9406.000000</td>\n",
       "      <td>79.846659</td>\n",
       "      <td>122106</td>\n",
       "      <td>102941.0</td>\n",
       "      <td>5.155038e+06</td>\n",
       "      <td>4.996960e+06</td>\n",
       "      <td>296411.0</td>\n",
       "    </tr>\n",
       "    <tr>\n",
       "      <th>2</th>\n",
       "      <td>145912</td>\n",
       "      <td>11</td>\n",
       "      <td>1810</td>\n",
       "      <td>2008</td>\n",
       "      <td>1.665038</td>\n",
       "      <td>46.562075</td>\n",
       "      <td>5.370346</td>\n",
       "      <td>1.000000</td>\n",
       "      <td>2.2875</td>\n",
       "      <td>30.0</td>\n",
       "      <td>...</td>\n",
       "      <td>143460.0</td>\n",
       "      <td>1594496</td>\n",
       "      <td>1594496</td>\n",
       "      <td>3200.000000</td>\n",
       "      <td>46.000000</td>\n",
       "      <td>366562</td>\n",
       "      <td>867491.0</td>\n",
       "      <td>5.155038e+06</td>\n",
       "      <td>1.946210e+05</td>\n",
       "      <td>1597520.0</td>\n",
       "    </tr>\n",
       "    <tr>\n",
       "      <th>3</th>\n",
       "      <td>145913</td>\n",
       "      <td>11</td>\n",
       "      <td>1741</td>\n",
       "      <td>2008</td>\n",
       "      <td>1.000000</td>\n",
       "      <td>46.562075</td>\n",
       "      <td>5.370346</td>\n",
       "      <td>2.000000</td>\n",
       "      <td>2.2875</td>\n",
       "      <td>3.0</td>\n",
       "      <td>...</td>\n",
       "      <td>8704.0</td>\n",
       "      <td>166200</td>\n",
       "      <td>166200</td>\n",
       "      <td>-2000.000000</td>\n",
       "      <td>79.846659</td>\n",
       "      <td>92868</td>\n",
       "      <td>26720.0</td>\n",
       "      <td>5.155038e+06</td>\n",
       "      <td>4.996960e+06</td>\n",
       "      <td>231480.0</td>\n",
       "    </tr>\n",
       "    <tr>\n",
       "      <th>...</th>\n",
       "      <td>...</td>\n",
       "      <td>...</td>\n",
       "      <td>...</td>\n",
       "      <td>...</td>\n",
       "      <td>...</td>\n",
       "      <td>...</td>\n",
       "      <td>...</td>\n",
       "      <td>...</td>\n",
       "      <td>...</td>\n",
       "      <td>...</td>\n",
       "      <td>...</td>\n",
       "      <td>...</td>\n",
       "      <td>...</td>\n",
       "      <td>...</td>\n",
       "      <td>...</td>\n",
       "      <td>...</td>\n",
       "      <td>...</td>\n",
       "      <td>...</td>\n",
       "      <td>...</td>\n",
       "      <td>...</td>\n",
       "      <td>...</td>\n",
       "    </tr>\n",
       "    <tr>\n",
       "      <th>11635</th>\n",
       "      <td>987459</td>\n",
       "      <td>8</td>\n",
       "      <td>1410</td>\n",
       "      <td>2016</td>\n",
       "      <td>2.000000</td>\n",
       "      <td>46.562075</td>\n",
       "      <td>3.000000</td>\n",
       "      <td>12.562613</td>\n",
       "      <td>2.2875</td>\n",
       "      <td>27.0</td>\n",
       "      <td>...</td>\n",
       "      <td>188741.0</td>\n",
       "      <td>1290356</td>\n",
       "      <td>1290356</td>\n",
       "      <td>11182.000000</td>\n",
       "      <td>54.000000</td>\n",
       "      <td>790408</td>\n",
       "      <td>618268.0</td>\n",
       "      <td>5.155038e+06</td>\n",
       "      <td>4.996960e+06</td>\n",
       "      <td>1100444.0</td>\n",
       "    </tr>\n",
       "    <tr>\n",
       "      <th>11636</th>\n",
       "      <td>987465</td>\n",
       "      <td>8</td>\n",
       "      <td>1410</td>\n",
       "      <td>2016</td>\n",
       "      <td>1.665038</td>\n",
       "      <td>40.000000</td>\n",
       "      <td>2.000000</td>\n",
       "      <td>12.562613</td>\n",
       "      <td>2.2875</td>\n",
       "      <td>29.0</td>\n",
       "      <td>...</td>\n",
       "      <td>465071.0</td>\n",
       "      <td>3679414</td>\n",
       "      <td>3679414</td>\n",
       "      <td>343423.189677</td>\n",
       "      <td>8.000000</td>\n",
       "      <td>1476328</td>\n",
       "      <td>2164604.0</td>\n",
       "      <td>5.155038e+06</td>\n",
       "      <td>4.996960e+06</td>\n",
       "      <td>3300208.0</td>\n",
       "    </tr>\n",
       "    <tr>\n",
       "      <th>11637</th>\n",
       "      <td>987467</td>\n",
       "      <td>8</td>\n",
       "      <td>1410</td>\n",
       "      <td>2016</td>\n",
       "      <td>1.665038</td>\n",
       "      <td>36.000000</td>\n",
       "      <td>12.000000</td>\n",
       "      <td>9.000000</td>\n",
       "      <td>2.2875</td>\n",
       "      <td>260.0</td>\n",
       "      <td>...</td>\n",
       "      <td>2874293.0</td>\n",
       "      <td>15549225</td>\n",
       "      <td>15550083</td>\n",
       "      <td>503083.000000</td>\n",
       "      <td>400.000000</td>\n",
       "      <td>7454626</td>\n",
       "      <td>6940062.0</td>\n",
       "      <td>5.155038e+06</td>\n",
       "      <td>1.608454e+06</td>\n",
       "      <td>15443532.0</td>\n",
       "    </tr>\n",
       "    <tr>\n",
       "      <th>11638</th>\n",
       "      <td>987483</td>\n",
       "      <td>8</td>\n",
       "      <td>1410</td>\n",
       "      <td>2016</td>\n",
       "      <td>1.000000</td>\n",
       "      <td>3.000000</td>\n",
       "      <td>2.000000</td>\n",
       "      <td>12.562613</td>\n",
       "      <td>2.2875</td>\n",
       "      <td>11.0</td>\n",
       "      <td>...</td>\n",
       "      <td>300842.0</td>\n",
       "      <td>1284882</td>\n",
       "      <td>1284882</td>\n",
       "      <td>343423.189677</td>\n",
       "      <td>18.000000</td>\n",
       "      <td>835716</td>\n",
       "      <td>421689.0</td>\n",
       "      <td>5.155038e+06</td>\n",
       "      <td>1.717450e+05</td>\n",
       "      <td>1180126.0</td>\n",
       "    </tr>\n",
       "  </tbody>\n",
       "</table>\n",
       "<p>10295 rows × 61 columns</p>\n",
       "</div>"
      ],
      "text/plain": [
       "       ESTABLECIMIENTO  DPTO  CIIU  PERIODO    SOCIOS  PERMANENTE   APRENDIZ  \\\n",
       "0               145898    11  1810     2008  1.665038    2.000000   5.370346   \n",
       "1               145904    11  1810     2008  2.000000    7.000000   5.370346   \n",
       "2               145912    11  1810     2008  1.665038   46.562075   5.370346   \n",
       "3               145913    11  1741     2008  1.000000   46.562075   5.370346   \n",
       "...                ...   ...   ...      ...       ...         ...        ...   \n",
       "11635           987459     8  1410     2016  2.000000   46.562075   3.000000   \n",
       "11636           987465     8  1410     2016  1.665038   40.000000   2.000000   \n",
       "11637           987467     8  1410     2016  1.665038   36.000000  12.000000   \n",
       "11638           987483     8  1410     2016  1.000000    3.000000   2.000000   \n",
       "\n",
       "        PROD_NAL  PROD_EXT  OBRERO     ...      VALORACTIVOS  PROD_BRUTA  \\\n",
       "0       2.000000    2.2875    10.0     ...          641984.0     3525900   \n",
       "1      12.562613    2.2875     3.0     ...          201817.0      296411   \n",
       "2       1.000000    2.2875    30.0     ...          143460.0     1594496   \n",
       "3       2.000000    2.2875     3.0     ...            8704.0      166200   \n",
       "...          ...       ...     ...     ...               ...         ...   \n",
       "11635  12.562613    2.2875    27.0     ...          188741.0     1290356   \n",
       "11636  12.562613    2.2875    29.0     ...          465071.0     3679414   \n",
       "11637   9.000000    2.2875   260.0     ...         2874293.0    15549225   \n",
       "11638  12.562613    2.2875    11.0     ...          300842.0     1284882   \n",
       "\n",
       "       PROD_INDUST     INVERBRUTA  TEMPORALDIRECTO  VAL_AGREGADO  MPCOMPRADA  \\\n",
       "0          3525900  343423.189677        79.846659        912761   2602400.0   \n",
       "1           296411    9406.000000        79.846659        122106    102941.0   \n",
       "2          1594496    3200.000000        46.000000        366562    867491.0   \n",
       "3           166200   -2000.000000        79.846659         92868     26720.0   \n",
       "...            ...            ...              ...           ...         ...   \n",
       "11635      1290356   11182.000000        54.000000        790408    618268.0   \n",
       "11636      3679414  343423.189677         8.000000       1476328   2164604.0   \n",
       "11637     15550083  503083.000000       400.000000       7454626   6940062.0   \n",
       "11638      1284882  343423.189677        18.000000        835716    421689.0   \n",
       "\n",
       "       COMPRAS_MP_EXTERIOR  EXPORTACIONES      VENTAS  \n",
       "0             5.155038e+06   4.996960e+06   3460300.0  \n",
       "1             5.155038e+06   4.996960e+06    296411.0  \n",
       "2             5.155038e+06   1.946210e+05   1597520.0  \n",
       "3             5.155038e+06   4.996960e+06    231480.0  \n",
       "...                    ...            ...         ...  \n",
       "11635         5.155038e+06   4.996960e+06   1100444.0  \n",
       "11636         5.155038e+06   4.996960e+06   3300208.0  \n",
       "11637         5.155038e+06   1.608454e+06  15443532.0  \n",
       "11638         5.155038e+06   1.717450e+05   1180126.0  \n",
       "\n",
       "[10295 rows x 61 columns]"
      ]
     },
     "execution_count": 3,
     "metadata": {},
     "output_type": "execute_result"
    }
   ],
   "source": [
    "#Se cargan el archivo limpios sin variables respetidas, imputados los datos y sin atípicos\n",
    "\n",
    "total=pd.read_excel(\"TOTALULIMPIO2.xlsx\",index_col=0) #Recursos:amarillo #Capacidades:rojo #Resultados:azul\n",
    "total"
   ]
  },
  {
   "cell_type": "markdown",
   "metadata": {},
   "source": [
    "2.Separar las variables dependientes de las independientes (RECURSOS) y normalizarlas"
   ]
  },
  {
   "cell_type": "code",
   "execution_count": 4,
   "metadata": {},
   "outputs": [],
   "source": [
    "variables = ['GASTOSEDIF_USOPROPIO','GASTOSMAQ_USOPROPIO','TOTALGASTOS_USOPROPIO','VENTAS']\n",
    "# Separando los Recursos (Varibles independientes)\n",
    "X=total.loc[:,variables].values \n",
    "# Separando el objetivo que es ventas (Variable dependiente)\n",
    "y=total.loc [:, ['VENTAS']].values \n",
    "x_std= StandardScaler().fit_transform(X)"
   ]
  },
  {
   "cell_type": "code",
   "execution_count": 5,
   "metadata": {},
   "outputs": [
    {
     "data": {
      "text/html": [
       "<div>\n",
       "<style scoped>\n",
       "    .dataframe tbody tr th:only-of-type {\n",
       "        vertical-align: middle;\n",
       "    }\n",
       "\n",
       "    .dataframe tbody tr th {\n",
       "        vertical-align: top;\n",
       "    }\n",
       "\n",
       "    .dataframe thead th {\n",
       "        text-align: right;\n",
       "    }\n",
       "</style>\n",
       "<table border=\"1\" class=\"dataframe\">\n",
       "  <thead>\n",
       "    <tr style=\"text-align: right;\">\n",
       "      <th></th>\n",
       "      <th>GASTOSEDIF_USOPROPIO</th>\n",
       "      <th>GASTOSMAQ_USOPROPIO</th>\n",
       "      <th>TOTALGASTOS_USOPROPIO</th>\n",
       "      <th>VENTAS</th>\n",
       "    </tr>\n",
       "  </thead>\n",
       "  <tbody>\n",
       "    <tr>\n",
       "      <th>0</th>\n",
       "      <td>322080.84466</td>\n",
       "      <td>246692.380952</td>\n",
       "      <td>568773.225613</td>\n",
       "      <td>3460300.0</td>\n",
       "    </tr>\n",
       "    <tr>\n",
       "      <th>1</th>\n",
       "      <td>322080.84466</td>\n",
       "      <td>246692.380952</td>\n",
       "      <td>568773.225613</td>\n",
       "      <td>296411.0</td>\n",
       "    </tr>\n",
       "    <tr>\n",
       "      <th>2</th>\n",
       "      <td>322080.84466</td>\n",
       "      <td>246692.380952</td>\n",
       "      <td>568773.225613</td>\n",
       "      <td>1597520.0</td>\n",
       "    </tr>\n",
       "    <tr>\n",
       "      <th>3</th>\n",
       "      <td>322080.84466</td>\n",
       "      <td>246692.380952</td>\n",
       "      <td>568773.225613</td>\n",
       "      <td>231480.0</td>\n",
       "    </tr>\n",
       "    <tr>\n",
       "      <th>...</th>\n",
       "      <td>...</td>\n",
       "      <td>...</td>\n",
       "      <td>...</td>\n",
       "      <td>...</td>\n",
       "    </tr>\n",
       "    <tr>\n",
       "      <th>10291</th>\n",
       "      <td>322080.84466</td>\n",
       "      <td>246692.380952</td>\n",
       "      <td>568773.225613</td>\n",
       "      <td>1100444.0</td>\n",
       "    </tr>\n",
       "    <tr>\n",
       "      <th>10292</th>\n",
       "      <td>322080.84466</td>\n",
       "      <td>246692.380952</td>\n",
       "      <td>568773.225613</td>\n",
       "      <td>3300208.0</td>\n",
       "    </tr>\n",
       "    <tr>\n",
       "      <th>10293</th>\n",
       "      <td>322080.84466</td>\n",
       "      <td>246692.380952</td>\n",
       "      <td>568773.225613</td>\n",
       "      <td>15443532.0</td>\n",
       "    </tr>\n",
       "    <tr>\n",
       "      <th>10294</th>\n",
       "      <td>322080.84466</td>\n",
       "      <td>246692.380952</td>\n",
       "      <td>568773.225613</td>\n",
       "      <td>1180126.0</td>\n",
       "    </tr>\n",
       "  </tbody>\n",
       "</table>\n",
       "<p>10295 rows × 4 columns</p>\n",
       "</div>"
      ],
      "text/plain": [
       "       GASTOSEDIF_USOPROPIO  GASTOSMAQ_USOPROPIO  TOTALGASTOS_USOPROPIO  \\\n",
       "0              322080.84466        246692.380952          568773.225613   \n",
       "1              322080.84466        246692.380952          568773.225613   \n",
       "2              322080.84466        246692.380952          568773.225613   \n",
       "3              322080.84466        246692.380952          568773.225613   \n",
       "...                     ...                  ...                    ...   \n",
       "10291          322080.84466        246692.380952          568773.225613   \n",
       "10292          322080.84466        246692.380952          568773.225613   \n",
       "10293          322080.84466        246692.380952          568773.225613   \n",
       "10294          322080.84466        246692.380952          568773.225613   \n",
       "\n",
       "           VENTAS  \n",
       "0       3460300.0  \n",
       "1        296411.0  \n",
       "2       1597520.0  \n",
       "3        231480.0  \n",
       "...           ...  \n",
       "10291   1100444.0  \n",
       "10292   3300208.0  \n",
       "10293  15443532.0  \n",
       "10294   1180126.0  \n",
       "\n",
       "[10295 rows x 4 columns]"
      ]
     },
     "execution_count": 5,
     "metadata": {},
     "output_type": "execute_result"
    }
   ],
   "source": [
    "capacidades = pd.DataFrame(data = X, columns = variables).head(10295)\n",
    "capacidades"
   ]
  },
  {
   "cell_type": "code",
   "execution_count": 6,
   "metadata": {},
   "outputs": [
    {
     "data": {
      "text/plain": [
       "Index(['GASTOSEDIF_USOPROPIO', 'GASTOSMAQ_USOPROPIO', 'TOTALGASTOS_USOPROPIO',\n",
       "       'VENTAS'],\n",
       "      dtype='object')"
      ]
     },
     "execution_count": 6,
     "metadata": {},
     "output_type": "execute_result"
    }
   ],
   "source": [
    "#No hay datos perdidos pues se esta utilizando el archivo de los datos limpios\n",
    "\n",
    "capacidades.isnull().sum() # Saber si hay casos con NA\n",
    "capacidades.dropna(how=\"all\", inplace=True) # Eliminar las observaciones con NA\n",
    "capacidades.columns"
   ]
  },
  {
   "cell_type": "code",
   "execution_count": 7,
   "metadata": {},
   "outputs": [],
   "source": [
    "#Se elimina la variable ventas pues X=VARIABLES INDEPENDIENTES=Recursos\n",
    "x=capacidades.drop(\"VENTAS\",axis = 1)\n",
    "\n",
    "y=capacidades[\"VENTAS\"]  #Y=VARIABLE DEPENDIENTE= Ventas\n",
    "names=capacidades.columns\n",
    "X_std= StandardScaler().fit_transform(x) #Normalizando"
   ]
  },
  {
   "cell_type": "code",
   "execution_count": 8,
   "metadata": {},
   "outputs": [
    {
     "data": {
      "text/plain": [
       "<Figure size 432x288 with 0 Axes>"
      ]
     },
     "metadata": {},
     "output_type": "display_data"
    },
    {
     "data": {
      "image/png": "[encoded data removed]",
      "text/plain": [
       "<Figure size 432x288 with 1 Axes>"
      ]
     },
     "metadata": {
      "needs_background": "light"
     },
     "output_type": "display_data"
    },
    {
     "data": {
      "image/png": "[encoded data removed]",
      "text/plain": [
       "<Figure size 360x360 with 1 Axes>"
      ]
     },
     "metadata": {},
     "output_type": "display_data"
    }
   ],
   "source": [
    "plt.figure(\"Histograma\")\n",
    "capacidades.plot.hist(alpha=0.4)\n",
    "plt.figure(\"Gráfico de pie\",figsize=(5,5))\n",
    "capacidades.VENTAS.value_counts().plot(kind=\"pie\",autopct='%1.1f%%', fontsize=15)\n",
    "plt.show()"
   ]
  },
  {
   "cell_type": "markdown",
   "metadata": {},
   "source": [
    "3.Construcción de las matrices de varianza y covarianza\n",
    "\n",
    "Para que se pueda realizar el PCA, es necesario que las variables presenten factores comunes. Es decir, que estén muy correlacionadas entre sí. Los coeficientes de la matriz de correlaciones deben ser grandes en valor absoluto."
   ]
  },
  {
   "cell_type": "code",
   "execution_count": 9,
   "metadata": {},
   "outputs": [],
   "source": [
    "# Matriz de covarianza\n",
    "\n",
    "mean_vec=np.mean(X_std,axis=0)\n",
    "cov_mat=(X_std-mean_vec).T.dot((X_std-mean_vec))/(X_std.shape[0]-1)"
   ]
  },
  {
   "cell_type": "code",
   "execution_count": 11,
   "metadata": {},
   "outputs": [
    {
     "data": {
      "image/png": "[encoded data removed]",
      "text/plain": [
       "<Figure size 360x360 with 1 Axes>"
      ]
     },
     "metadata": {
      "needs_background": "light"
     },
     "output_type": "display_data"
    }
   ],
   "source": [
    "#Gráficar en un mapa de calor las covarianzas\n",
    "\n",
    "corMat=np.asarray(cov_mat)\n",
    "\n",
    "fig, ax = plt.subplots(figsize=(5,5))\n",
    "im = ax.imshow(corMat,cmap=\"RdBu\")\n",
    "\n",
    "# Mostrar las etiquetas de las variables\n",
    "ax.set_xticks(np.arange(len(names)-1))\n",
    "ax.set_yticks(np.arange(len(names)-1))\n",
    "# Asignar los nombres a las etiquetas\n",
    "ax.set_xticklabels(names[:27])\n",
    "ax.set_yticklabels(names[:27])\n",
    "\n",
    "# Rotar los nombres\n",
    "plt.setp(ax.get_xticklabels(), rotation=45, ha=\"right\",\n",
    "         rotation_mode=\"anchor\")\n",
    "\n",
    "# Loop para asignar los valores de las correlaciones en el mapa de calor\n",
    "for i in range(len(names)-1):\n",
    "    for j in range(len(names)-1):\n",
    "        text = ax.text(j, i, round(corMat[i, j],2),\n",
    "                       ha=\"center\", va=\"center\", color=\"w\")\n",
    "\n",
    "plt.title(\"Matriz de covarianzas\", fontdict={\"fontsize\":15}) \n",
    "# o de correlación si los datos están normalizados\n",
    "plt.show()"
   ]
  },
  {
   "cell_type": "code",
   "execution_count": 12,
   "metadata": {},
   "outputs": [
    {
     "data": {
      "text/plain": [
       "<matplotlib.axes._subplots.AxesSubplot at 0x812c348be0>"
      ]
     },
     "execution_count": 12,
     "metadata": {},
     "output_type": "execute_result"
    },
    {
     "data": {
      "image/png": "[encoded data removed]",
      "text/plain": [
       "<Figure size 360x360 with 2 Axes>"
      ]
     },
     "metadata": {
      "needs_background": "light"
     },
     "output_type": "display_data"
    }
   ],
   "source": [
    "#Matriz de covarianzas\n",
    "plt.subplots(figsize=(5,5))\n",
    "sns.heatmap(x.corr(), square=True, annot=True, linewidths =0.4)"
   ]
  },
  {
   "cell_type": "markdown",
   "metadata": {},
   "source": [
    "4.Cálculo de los valores propios"
   ]
  },
  {
   "cell_type": "code",
   "execution_count": 14,
   "metadata": {},
   "outputs": [
    {
     "name": "stdout",
     "output_type": "stream",
     "text": [
      "Valores propios ordenados:\n",
      "1.9998875314792768\n",
      "1.0001124685207203\n",
      "3.552713678800501e-15\n"
     ]
    }
   ],
   "source": [
    "eigen_value, eigen_vector =np.linalg.eig(x.corr()) \n",
    "\n",
    "\n",
    "# Make a list of (eigenvalue, eigenvector) tuples\n",
    "eig_pairs = [(np.abs(eigen_value[i]), eigen_vector[:,i]) for i in range(len(eigen_value))]\n",
    "\n",
    "# Sort the (eigenvalue, eigenvector) tuples from high to low\n",
    "eig_pairs.sort()\n",
    "eig_pairs.reverse()\n",
    "\n",
    "# Visually confirm that the list is correctly sorted by decreasing eigenvalues\n",
    "print('Valores propios ordenados:')\n",
    "for i in eig_pairs:\n",
    "    print(i[0])"
   ]
  },
  {
   "cell_type": "code",
   "execution_count": 15,
   "metadata": {},
   "outputs": [
    {
     "name": "stdout",
     "output_type": "stream",
     "text": [
      "Valores propios ordenados con su vector propio:\n"
     ]
    },
    {
     "data": {
      "text/plain": [
       "[(1.9998875314792768, array([0.18519607, 0.1849234 , 0.96514546])),\n",
       " (1.0001124685207203,\n",
       "  array([-7.07086885e-01,  7.07126651e-01,  1.92141992e-04])),\n",
       " (3.552713678800501e-15, array([ 0.68244454,  0.68247728, -0.26171399]))]"
      ]
     },
     "execution_count": 15,
     "metadata": {},
     "output_type": "execute_result"
    }
   ],
   "source": [
    "# Make a list of (eigenvalue, eigenvector) tuples\n",
    "eig_pairs = [(np.abs(eigen_value[i]), eigen_vector[i]) for i in range(len(eigen_value))]\n",
    "\n",
    "# Sort the (eigenvalue, eigenvector) tuples from high to low\n",
    "eig_pairs.sort()\n",
    "eig_pairs.reverse()\n",
    "\n",
    "print('Valores propios ordenados con su vector propio:')\n",
    "eig_pairs"
   ]
  },
  {
   "cell_type": "code",
   "execution_count": 18,
   "metadata": {},
   "outputs": [
    {
     "name": "stdout",
     "output_type": "stream",
     "text": [
      "Varianza ordenada:\n"
     ]
    },
    {
     "data": {
      "text/plain": [
       "[66.6629177159759, 33.337082284024014, 1.1842378929335001e-13]"
      ]
     },
     "execution_count": 18,
     "metadata": {},
     "output_type": "execute_result"
    }
   ],
   "source": [
    "Tot = sum(eigen_value)\n",
    "var_exp = [(i / 3)*100 for i in sorted(eigen_value, reverse=True)]\n",
    "cum_var_exp = np.cumsum(var_exp)\n",
    "print('Varianza ordenada:')\n",
    "var_exp\n",
    "#Varianza ordenada"
   ]
  },
  {
   "cell_type": "code",
   "execution_count": 19,
   "metadata": {},
   "outputs": [
    {
     "name": "stdout",
     "output_type": "stream",
     "text": [
      "Varianza acumulada:\n"
     ]
    },
    {
     "data": {
      "text/plain": [
       "array([ 66.66291772, 100.        , 100.        ])"
      ]
     },
     "execution_count": 19,
     "metadata": {},
     "output_type": "execute_result"
    }
   ],
   "source": [
    "print('Varianza acumulada:')\n",
    "cum_var_exp"
   ]
  },
  {
   "cell_type": "markdown",
   "metadata": {},
   "source": [
    "Gráfico de la varianza asociada a cada factor. Se utiliza para determinar cuántos factores deben retenerse. Típicamente el gráfico muestra la clara ruptura entre la pronunciada pendiente de los factores más importantes. "
   ]
  },
  {
   "cell_type": "code",
   "execution_count": 21,
   "metadata": {},
   "outputs": [
    {
     "data": {
      "image/png": "[encoded data removed]",
      "text/plain": [
       "<Figure size 432x288 with 1 Axes>"
      ]
     },
     "metadata": {
      "needs_background": "light"
     },
     "output_type": "display_data"
    }
   ],
   "source": [
    "#El nuúmero de componentes esta determinado por el punto donde se encuentra una clara ruptura o punto de inflexión\n",
    "\n",
    "plt.plot(cum_var_exp,linestyle=\"-\")\n",
    "plt.xlabel(\"Número de componentes\")\n",
    "plt.ylabel(\"Varianza explicada (%)\")\n",
    "plt.show()"
   ]
  },
  {
   "cell_type": "markdown",
   "metadata": {},
   "source": [
    "Se toman las primeras dos componentes cuya varianza explicada es del 100%"
   ]
  },
  {
   "cell_type": "code",
   "execution_count": 23,
   "metadata": {},
   "outputs": [],
   "source": [
    "M_w=eigen_vector[:,0:2]\n",
    "Y=X_std.dot(M_w) # Nuevos Y"
   ]
  },
  {
   "cell_type": "markdown",
   "metadata": {},
   "source": [
    "5.PCA"
   ]
  },
  {
   "cell_type": "code",
   "execution_count": 24,
   "metadata": {},
   "outputs": [],
   "source": [
    "from sklearn.decomposition import PCA\n",
    "\n",
    "sklearn_PCA= PCA(n_components=2)\n",
    "Y_1=sklearn_PCA.fit_transform(X_std)"
   ]
  },
  {
   "cell_type": "code",
   "execution_count": 25,
   "metadata": {},
   "outputs": [
    {
     "data": {
      "text/html": [
       "<div>\n",
       "<style scoped>\n",
       "    .dataframe tbody tr th:only-of-type {\n",
       "        vertical-align: middle;\n",
       "    }\n",
       "\n",
       "    .dataframe tbody tr th {\n",
       "        vertical-align: top;\n",
       "    }\n",
       "\n",
       "    .dataframe thead th {\n",
       "        text-align: right;\n",
       "    }\n",
       "</style>\n",
       "<table border=\"1\" class=\"dataframe\">\n",
       "  <thead>\n",
       "    <tr style=\"text-align: right;\">\n",
       "      <th></th>\n",
       "      <th>Componente principal 1</th>\n",
       "      <th>Componente principal 2</th>\n",
       "    </tr>\n",
       "  </thead>\n",
       "  <tbody>\n",
       "    <tr>\n",
       "      <th>0</th>\n",
       "      <td>0.026921</td>\n",
       "      <td>-0.009318</td>\n",
       "    </tr>\n",
       "    <tr>\n",
       "      <th>1</th>\n",
       "      <td>0.026921</td>\n",
       "      <td>-0.009318</td>\n",
       "    </tr>\n",
       "    <tr>\n",
       "      <th>2</th>\n",
       "      <td>0.026921</td>\n",
       "      <td>-0.009318</td>\n",
       "    </tr>\n",
       "    <tr>\n",
       "      <th>3</th>\n",
       "      <td>0.026921</td>\n",
       "      <td>-0.009318</td>\n",
       "    </tr>\n",
       "    <tr>\n",
       "      <th>...</th>\n",
       "      <td>...</td>\n",
       "      <td>...</td>\n",
       "    </tr>\n",
       "    <tr>\n",
       "      <th>10291</th>\n",
       "      <td>0.026921</td>\n",
       "      <td>-0.009318</td>\n",
       "    </tr>\n",
       "    <tr>\n",
       "      <th>10292</th>\n",
       "      <td>0.026921</td>\n",
       "      <td>-0.009318</td>\n",
       "    </tr>\n",
       "    <tr>\n",
       "      <th>10293</th>\n",
       "      <td>0.026921</td>\n",
       "      <td>-0.009318</td>\n",
       "    </tr>\n",
       "    <tr>\n",
       "      <th>10294</th>\n",
       "      <td>0.026921</td>\n",
       "      <td>-0.009318</td>\n",
       "    </tr>\n",
       "  </tbody>\n",
       "</table>\n",
       "<p>10295 rows × 2 columns</p>\n",
       "</div>"
      ],
      "text/plain": [
       "       Componente principal 1  Componente principal 2\n",
       "0                    0.026921               -0.009318\n",
       "1                    0.026921               -0.009318\n",
       "2                    0.026921               -0.009318\n",
       "3                    0.026921               -0.009318\n",
       "...                       ...                     ...\n",
       "10291                0.026921               -0.009318\n",
       "10292                0.026921               -0.009318\n",
       "10293                0.026921               -0.009318\n",
       "10294                0.026921               -0.009318\n",
       "\n",
       "[10295 rows x 2 columns]"
      ]
     },
     "execution_count": 25,
     "metadata": {},
     "output_type": "execute_result"
    }
   ],
   "source": [
    "PCAcapacidades = pd.DataFrame(data = Y_1, columns = ['Componente principal 1', 'Componente principal 2'])\n",
    "PCAcapacidades.head(10295)"
   ]
  },
  {
   "cell_type": "code",
   "execution_count": 26,
   "metadata": {},
   "outputs": [
    {
     "data": {
      "text/html": [
       "<div>\n",
       "<style scoped>\n",
       "    .dataframe tbody tr th:only-of-type {\n",
       "        vertical-align: middle;\n",
       "    }\n",
       "\n",
       "    .dataframe tbody tr th {\n",
       "        vertical-align: top;\n",
       "    }\n",
       "\n",
       "    .dataframe thead th {\n",
       "        text-align: right;\n",
       "    }\n",
       "</style>\n",
       "<table border=\"1\" class=\"dataframe\">\n",
       "  <thead>\n",
       "    <tr style=\"text-align: right;\">\n",
       "      <th></th>\n",
       "      <th>VENTAS</th>\n",
       "    </tr>\n",
       "  </thead>\n",
       "  <tbody>\n",
       "    <tr>\n",
       "      <th>0</th>\n",
       "      <td>3460300.0</td>\n",
       "    </tr>\n",
       "    <tr>\n",
       "      <th>1</th>\n",
       "      <td>296411.0</td>\n",
       "    </tr>\n",
       "    <tr>\n",
       "      <th>2</th>\n",
       "      <td>1597520.0</td>\n",
       "    </tr>\n",
       "    <tr>\n",
       "      <th>3</th>\n",
       "      <td>231480.0</td>\n",
       "    </tr>\n",
       "    <tr>\n",
       "      <th>...</th>\n",
       "      <td>...</td>\n",
       "    </tr>\n",
       "    <tr>\n",
       "      <th>11635</th>\n",
       "      <td>1100444.0</td>\n",
       "    </tr>\n",
       "    <tr>\n",
       "      <th>11636</th>\n",
       "      <td>3300208.0</td>\n",
       "    </tr>\n",
       "    <tr>\n",
       "      <th>11637</th>\n",
       "      <td>15443532.0</td>\n",
       "    </tr>\n",
       "    <tr>\n",
       "      <th>11638</th>\n",
       "      <td>1180126.0</td>\n",
       "    </tr>\n",
       "  </tbody>\n",
       "</table>\n",
       "<p>10295 rows × 1 columns</p>\n",
       "</div>"
      ],
      "text/plain": [
       "           VENTAS\n",
       "0       3460300.0\n",
       "1        296411.0\n",
       "2       1597520.0\n",
       "3        231480.0\n",
       "...           ...\n",
       "11635   1100444.0\n",
       "11636   3300208.0\n",
       "11637  15443532.0\n",
       "11638   1180126.0\n",
       "\n",
       "[10295 rows x 1 columns]"
      ]
     },
     "execution_count": 26,
     "metadata": {},
     "output_type": "execute_result"
    }
   ],
   "source": [
    "ventas=total[['VENTAS']].head(10295)\n",
    "ventas"
   ]
  },
  {
   "cell_type": "code",
   "execution_count": 27,
   "metadata": {},
   "outputs": [
    {
     "data": {
      "text/html": [
       "<div>\n",
       "<style scoped>\n",
       "    .dataframe tbody tr th:only-of-type {\n",
       "        vertical-align: middle;\n",
       "    }\n",
       "\n",
       "    .dataframe tbody tr th {\n",
       "        vertical-align: top;\n",
       "    }\n",
       "\n",
       "    .dataframe thead th {\n",
       "        text-align: right;\n",
       "    }\n",
       "</style>\n",
       "<table border=\"1\" class=\"dataframe\">\n",
       "  <thead>\n",
       "    <tr style=\"text-align: right;\">\n",
       "      <th></th>\n",
       "      <th>VENTAS</th>\n",
       "      <th>Componente principal 1</th>\n",
       "      <th>Componente principal 2</th>\n",
       "    </tr>\n",
       "  </thead>\n",
       "  <tbody>\n",
       "    <tr>\n",
       "      <th>0</th>\n",
       "      <td>3460300.0</td>\n",
       "      <td>0.026921</td>\n",
       "      <td>-0.009318</td>\n",
       "    </tr>\n",
       "    <tr>\n",
       "      <th>1</th>\n",
       "      <td>296411.0</td>\n",
       "      <td>0.026921</td>\n",
       "      <td>-0.009318</td>\n",
       "    </tr>\n",
       "    <tr>\n",
       "      <th>2</th>\n",
       "      <td>1597520.0</td>\n",
       "      <td>0.026921</td>\n",
       "      <td>-0.009318</td>\n",
       "    </tr>\n",
       "    <tr>\n",
       "      <th>3</th>\n",
       "      <td>231480.0</td>\n",
       "      <td>0.026921</td>\n",
       "      <td>-0.009318</td>\n",
       "    </tr>\n",
       "    <tr>\n",
       "      <th>...</th>\n",
       "      <td>...</td>\n",
       "      <td>...</td>\n",
       "      <td>...</td>\n",
       "    </tr>\n",
       "    <tr>\n",
       "      <th>10291</th>\n",
       "      <td>1100444.0</td>\n",
       "      <td>0.026921</td>\n",
       "      <td>-0.009318</td>\n",
       "    </tr>\n",
       "    <tr>\n",
       "      <th>10292</th>\n",
       "      <td>3300208.0</td>\n",
       "      <td>0.026921</td>\n",
       "      <td>-0.009318</td>\n",
       "    </tr>\n",
       "    <tr>\n",
       "      <th>10293</th>\n",
       "      <td>15443532.0</td>\n",
       "      <td>0.026921</td>\n",
       "      <td>-0.009318</td>\n",
       "    </tr>\n",
       "    <tr>\n",
       "      <th>10294</th>\n",
       "      <td>1180126.0</td>\n",
       "      <td>0.026921</td>\n",
       "      <td>-0.009318</td>\n",
       "    </tr>\n",
       "  </tbody>\n",
       "</table>\n",
       "<p>10295 rows × 3 columns</p>\n",
       "</div>"
      ],
      "text/plain": [
       "           VENTAS  Componente principal 1  Componente principal 2\n",
       "0       3460300.0                0.026921               -0.009318\n",
       "1        296411.0                0.026921               -0.009318\n",
       "2       1597520.0                0.026921               -0.009318\n",
       "3        231480.0                0.026921               -0.009318\n",
       "...           ...                     ...                     ...\n",
       "10291   1100444.0                0.026921               -0.009318\n",
       "10292   3300208.0                0.026921               -0.009318\n",
       "10293  15443532.0                0.026921               -0.009318\n",
       "10294   1180126.0                0.026921               -0.009318\n",
       "\n",
       "[10295 rows x 3 columns]"
      ]
     },
     "execution_count": 27,
     "metadata": {},
     "output_type": "execute_result"
    }
   ],
   "source": [
    "PCAcapacidades.reset_index(drop=True, inplace=True) \n",
    "ventas.reset_index(drop=True, inplace=True) \n",
    "PCA_C = pd.concat([ventas,PCAcapacidades], axis=1)\n",
    "PCA_C"
   ]
  },
  {
   "cell_type": "code",
   "execution_count": 28,
   "metadata": {},
   "outputs": [
    {
     "name": "stderr",
     "output_type": "stream",
     "text": [
      "C:\\Users\\Invitado\\Anaconda3\\lib\\site-packages\\scipy\\stats\\stats.py:1713: FutureWarning: Using a non-tuple sequence for multidimensional indexing is deprecated; use `arr[tuple(seq)]` instead of `arr[seq]`. In the future this will be interpreted as an array index, `arr[np.array(seq)]`, which will result either in an error or a different result.\n",
      "  return np.add.reduce(sorted[indexer] * weights, axis=axis) / sumval\n"
     ]
    },
    {
     "data": {
      "text/plain": [
       "<seaborn.axisgrid.PairGrid at 0x812d2b93c8>"
      ]
     },
     "execution_count": 28,
     "metadata": {},
     "output_type": "execute_result"
    },
    {
     "data": {
      "image/png": "[encoded data removed]",
      "text/plain": [
       "<Figure size 360x360 with 6 Axes>"
      ]
     },
     "metadata": {
      "needs_background": "light"
     },
     "output_type": "display_data"
    }
   ],
   "source": [
    "b = sns.pairplot(PCA_C, vars=[\"Componente principal 1\",\"Componente principal 2\"],kind=\"reg\") \n",
    "b # Resumen gráfico con histogramas y diagramas de dispersión de las variables"
   ]
  },
  {
   "cell_type": "code",
   "execution_count": 29,
   "metadata": {},
   "outputs": [
    {
     "name": "stdout",
     "output_type": "stream",
     "text": [
      "[0.66662918 0.33337082]\n"
     ]
    }
   ],
   "source": [
    "print(sklearn_PCA.explained_variance_ratio_) "
   ]
  }
 ],
 "metadata": {
  "kernelspec": {
   "display_name": "Python 3",
   "language": "python",
   "name": "python3"
  },
  "language_info": {
   "codemirror_mode": {
    "name": "ipython",
    "version": 3
   },
   "file_extension": ".py",
   "mimetype": "text/x-python",
   "name": "python",
   "nbconvert_exporter": "python",
   "pygments_lexer": "ipython3",
   "version": "3.7.1"
  }
 },
 "nbformat": 4,
 "nbformat_minor": 2
}
