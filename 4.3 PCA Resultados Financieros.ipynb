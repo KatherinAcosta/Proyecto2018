{
 "cells": [
  {
   "cell_type": "markdown",
   "metadata": {},
   "source": [
    "# GUÍA PASO A PASO DE PCA\n",
    "http://www.ub.edu/stat/docencia/Mates/ejemploACP.PDF"
   ]
  },
  {
   "cell_type": "code",
   "execution_count": 2,
   "metadata": {},
   "outputs": [],
   "source": [
    "import pandas as pd      #IMPORTANTE NO OLVIDAR ヽ(•‿ •)ノ\n",
    "import numpy as np\n",
    "pd.set_option(\"display.max_rows\", 9) # Especificar el número de filas a mostrar\n",
    "from scipy import stats # importando scipy.stats\n",
    "%matplotlib inline\n",
    "import matplotlib.pyplot as plt # importando matplotlib\n",
    "from matplotlib.ticker import NullFormatter\n",
    "import seaborn as sns # importando seaborn\n",
    "import calendar\n",
    "plt.style.use('seaborn-whitegrid') # Se define el estilo, en este caso se elige la visualización clásica de Matlab"
   ]
  },
  {
   "cell_type": "markdown",
   "metadata": {},
   "source": [
    "# PCA RESULTADOS FINANCIEROS\n",
    "\n",
    "1. Abrir el archivo\n",
    "2. Separar las variables dependientes de las independientes y normalizarlas\n",
    "3. Construcción de las matrices de varianza y covarianza\n",
    "4. Cálculo de los valores propios"
   ]
  },
  {
   "cell_type": "code",
   "execution_count": 3,
   "metadata": {},
   "outputs": [],
   "source": [
    "#Se importan las librerias necesarias\n",
    "from sklearn.decomposition import PCA\n",
    "from sklearn.preprocessing import StandardScaler\n",
    "%matplotlib inline"
   ]
  },
  {
   "cell_type": "markdown",
   "metadata": {},
   "source": [
    "1.Abrir el archivo"
   ]
  },
  {
   "cell_type": "code",
   "execution_count": 4,
   "metadata": {},
   "outputs": [
    {
     "data": {
      "text/html": [
       "<div>\n",
       "<style scoped>\n",
       "    .dataframe tbody tr th:only-of-type {\n",
       "        vertical-align: middle;\n",
       "    }\n",
       "\n",
       "    .dataframe tbody tr th {\n",
       "        vertical-align: top;\n",
       "    }\n",
       "\n",
       "    .dataframe thead th {\n",
       "        text-align: right;\n",
       "    }\n",
       "</style>\n",
       "<table border=\"1\" class=\"dataframe\">\n",
       "  <thead>\n",
       "    <tr style=\"text-align: right;\">\n",
       "      <th></th>\n",
       "      <th>ESTABLECIMIENTO</th>\n",
       "      <th>DPTO</th>\n",
       "      <th>CIIU</th>\n",
       "      <th>PERIODO</th>\n",
       "      <th>SOCIOS</th>\n",
       "      <th>PERMANENTE</th>\n",
       "      <th>APRENDIZ</th>\n",
       "      <th>PROD_NAL</th>\n",
       "      <th>PROD_EXT</th>\n",
       "      <th>OBRERO</th>\n",
       "      <th>...</th>\n",
       "      <th>VALORACTIVOS</th>\n",
       "      <th>PROD_BRUTA</th>\n",
       "      <th>PROD_INDUST</th>\n",
       "      <th>INVERBRUTA</th>\n",
       "      <th>TEMPORALDIRECTO</th>\n",
       "      <th>VAL_AGREGADO</th>\n",
       "      <th>MPCOMPRADA</th>\n",
       "      <th>COMPRAS_MP_EXTERIOR</th>\n",
       "      <th>EXPORTACIONES</th>\n",
       "      <th>VENTAS</th>\n",
       "    </tr>\n",
       "  </thead>\n",
       "  <tbody>\n",
       "    <tr>\n",
       "      <th>0</th>\n",
       "      <td>145898</td>\n",
       "      <td>11</td>\n",
       "      <td>1810</td>\n",
       "      <td>2008</td>\n",
       "      <td>1.665038</td>\n",
       "      <td>2.000000</td>\n",
       "      <td>5.370346</td>\n",
       "      <td>2.000000</td>\n",
       "      <td>2.2875</td>\n",
       "      <td>10.0</td>\n",
       "      <td>...</td>\n",
       "      <td>641984.0</td>\n",
       "      <td>3525900</td>\n",
       "      <td>3525900</td>\n",
       "      <td>343423.189677</td>\n",
       "      <td>79.846659</td>\n",
       "      <td>912761</td>\n",
       "      <td>2602400.0</td>\n",
       "      <td>5.155038e+06</td>\n",
       "      <td>4.996960e+06</td>\n",
       "      <td>3460300.0</td>\n",
       "    </tr>\n",
       "    <tr>\n",
       "      <th>1</th>\n",
       "      <td>145904</td>\n",
       "      <td>11</td>\n",
       "      <td>1810</td>\n",
       "      <td>2008</td>\n",
       "      <td>2.000000</td>\n",
       "      <td>7.000000</td>\n",
       "      <td>5.370346</td>\n",
       "      <td>12.562613</td>\n",
       "      <td>2.2875</td>\n",
       "      <td>3.0</td>\n",
       "      <td>...</td>\n",
       "      <td>201817.0</td>\n",
       "      <td>296411</td>\n",
       "      <td>296411</td>\n",
       "      <td>9406.000000</td>\n",
       "      <td>79.846659</td>\n",
       "      <td>122106</td>\n",
       "      <td>102941.0</td>\n",
       "      <td>5.155038e+06</td>\n",
       "      <td>4.996960e+06</td>\n",
       "      <td>296411.0</td>\n",
       "    </tr>\n",
       "    <tr>\n",
       "      <th>2</th>\n",
       "      <td>145912</td>\n",
       "      <td>11</td>\n",
       "      <td>1810</td>\n",
       "      <td>2008</td>\n",
       "      <td>1.665038</td>\n",
       "      <td>46.562075</td>\n",
       "      <td>5.370346</td>\n",
       "      <td>1.000000</td>\n",
       "      <td>2.2875</td>\n",
       "      <td>30.0</td>\n",
       "      <td>...</td>\n",
       "      <td>143460.0</td>\n",
       "      <td>1594496</td>\n",
       "      <td>1594496</td>\n",
       "      <td>3200.000000</td>\n",
       "      <td>46.000000</td>\n",
       "      <td>366562</td>\n",
       "      <td>867491.0</td>\n",
       "      <td>5.155038e+06</td>\n",
       "      <td>1.946210e+05</td>\n",
       "      <td>1597520.0</td>\n",
       "    </tr>\n",
       "    <tr>\n",
       "      <th>3</th>\n",
       "      <td>145913</td>\n",
       "      <td>11</td>\n",
       "      <td>1741</td>\n",
       "      <td>2008</td>\n",
       "      <td>1.000000</td>\n",
       "      <td>46.562075</td>\n",
       "      <td>5.370346</td>\n",
       "      <td>2.000000</td>\n",
       "      <td>2.2875</td>\n",
       "      <td>3.0</td>\n",
       "      <td>...</td>\n",
       "      <td>8704.0</td>\n",
       "      <td>166200</td>\n",
       "      <td>166200</td>\n",
       "      <td>-2000.000000</td>\n",
       "      <td>79.846659</td>\n",
       "      <td>92868</td>\n",
       "      <td>26720.0</td>\n",
       "      <td>5.155038e+06</td>\n",
       "      <td>4.996960e+06</td>\n",
       "      <td>231480.0</td>\n",
       "    </tr>\n",
       "    <tr>\n",
       "      <th>...</th>\n",
       "      <td>...</td>\n",
       "      <td>...</td>\n",
       "      <td>...</td>\n",
       "      <td>...</td>\n",
       "      <td>...</td>\n",
       "      <td>...</td>\n",
       "      <td>...</td>\n",
       "      <td>...</td>\n",
       "      <td>...</td>\n",
       "      <td>...</td>\n",
       "      <td>...</td>\n",
       "      <td>...</td>\n",
       "      <td>...</td>\n",
       "      <td>...</td>\n",
       "      <td>...</td>\n",
       "      <td>...</td>\n",
       "      <td>...</td>\n",
       "      <td>...</td>\n",
       "      <td>...</td>\n",
       "      <td>...</td>\n",
       "      <td>...</td>\n",
       "    </tr>\n",
       "    <tr>\n",
       "      <th>11635</th>\n",
       "      <td>987459</td>\n",
       "      <td>8</td>\n",
       "      <td>1410</td>\n",
       "      <td>2016</td>\n",
       "      <td>2.000000</td>\n",
       "      <td>46.562075</td>\n",
       "      <td>3.000000</td>\n",
       "      <td>12.562613</td>\n",
       "      <td>2.2875</td>\n",
       "      <td>27.0</td>\n",
       "      <td>...</td>\n",
       "      <td>188741.0</td>\n",
       "      <td>1290356</td>\n",
       "      <td>1290356</td>\n",
       "      <td>11182.000000</td>\n",
       "      <td>54.000000</td>\n",
       "      <td>790408</td>\n",
       "      <td>618268.0</td>\n",
       "      <td>5.155038e+06</td>\n",
       "      <td>4.996960e+06</td>\n",
       "      <td>1100444.0</td>\n",
       "    </tr>\n",
       "    <tr>\n",
       "      <th>11636</th>\n",
       "      <td>987465</td>\n",
       "      <td>8</td>\n",
       "      <td>1410</td>\n",
       "      <td>2016</td>\n",
       "      <td>1.665038</td>\n",
       "      <td>40.000000</td>\n",
       "      <td>2.000000</td>\n",
       "      <td>12.562613</td>\n",
       "      <td>2.2875</td>\n",
       "      <td>29.0</td>\n",
       "      <td>...</td>\n",
       "      <td>465071.0</td>\n",
       "      <td>3679414</td>\n",
       "      <td>3679414</td>\n",
       "      <td>343423.189677</td>\n",
       "      <td>8.000000</td>\n",
       "      <td>1476328</td>\n",
       "      <td>2164604.0</td>\n",
       "      <td>5.155038e+06</td>\n",
       "      <td>4.996960e+06</td>\n",
       "      <td>3300208.0</td>\n",
       "    </tr>\n",
       "    <tr>\n",
       "      <th>11637</th>\n",
       "      <td>987467</td>\n",
       "      <td>8</td>\n",
       "      <td>1410</td>\n",
       "      <td>2016</td>\n",
       "      <td>1.665038</td>\n",
       "      <td>36.000000</td>\n",
       "      <td>12.000000</td>\n",
       "      <td>9.000000</td>\n",
       "      <td>2.2875</td>\n",
       "      <td>260.0</td>\n",
       "      <td>...</td>\n",
       "      <td>2874293.0</td>\n",
       "      <td>15549225</td>\n",
       "      <td>15550083</td>\n",
       "      <td>503083.000000</td>\n",
       "      <td>400.000000</td>\n",
       "      <td>7454626</td>\n",
       "      <td>6940062.0</td>\n",
       "      <td>5.155038e+06</td>\n",
       "      <td>1.608454e+06</td>\n",
       "      <td>15443532.0</td>\n",
       "    </tr>\n",
       "    <tr>\n",
       "      <th>11638</th>\n",
       "      <td>987483</td>\n",
       "      <td>8</td>\n",
       "      <td>1410</td>\n",
       "      <td>2016</td>\n",
       "      <td>1.000000</td>\n",
       "      <td>3.000000</td>\n",
       "      <td>2.000000</td>\n",
       "      <td>12.562613</td>\n",
       "      <td>2.2875</td>\n",
       "      <td>11.0</td>\n",
       "      <td>...</td>\n",
       "      <td>300842.0</td>\n",
       "      <td>1284882</td>\n",
       "      <td>1284882</td>\n",
       "      <td>343423.189677</td>\n",
       "      <td>18.000000</td>\n",
       "      <td>835716</td>\n",
       "      <td>421689.0</td>\n",
       "      <td>5.155038e+06</td>\n",
       "      <td>1.717450e+05</td>\n",
       "      <td>1180126.0</td>\n",
       "    </tr>\n",
       "  </tbody>\n",
       "</table>\n",
       "<p>10295 rows × 64 columns</p>\n",
       "</div>"
      ],
      "text/plain": [
       "       ESTABLECIMIENTO  DPTO  CIIU  PERIODO    SOCIOS  PERMANENTE   APRENDIZ  \\\n",
       "0               145898    11  1810     2008  1.665038    2.000000   5.370346   \n",
       "1               145904    11  1810     2008  2.000000    7.000000   5.370346   \n",
       "2               145912    11  1810     2008  1.665038   46.562075   5.370346   \n",
       "3               145913    11  1741     2008  1.000000   46.562075   5.370346   \n",
       "...                ...   ...   ...      ...       ...         ...        ...   \n",
       "11635           987459     8  1410     2016  2.000000   46.562075   3.000000   \n",
       "11636           987465     8  1410     2016  1.665038   40.000000   2.000000   \n",
       "11637           987467     8  1410     2016  1.665038   36.000000  12.000000   \n",
       "11638           987483     8  1410     2016  1.000000    3.000000   2.000000   \n",
       "\n",
       "        PROD_NAL  PROD_EXT  OBRERO     ...      VALORACTIVOS  PROD_BRUTA  \\\n",
       "0       2.000000    2.2875    10.0     ...          641984.0     3525900   \n",
       "1      12.562613    2.2875     3.0     ...          201817.0      296411   \n",
       "2       1.000000    2.2875    30.0     ...          143460.0     1594496   \n",
       "3       2.000000    2.2875     3.0     ...            8704.0      166200   \n",
       "...          ...       ...     ...     ...               ...         ...   \n",
       "11635  12.562613    2.2875    27.0     ...          188741.0     1290356   \n",
       "11636  12.562613    2.2875    29.0     ...          465071.0     3679414   \n",
       "11637   9.000000    2.2875   260.0     ...         2874293.0    15549225   \n",
       "11638  12.562613    2.2875    11.0     ...          300842.0     1284882   \n",
       "\n",
       "       PROD_INDUST     INVERBRUTA  TEMPORALDIRECTO  VAL_AGREGADO  MPCOMPRADA  \\\n",
       "0          3525900  343423.189677        79.846659        912761   2602400.0   \n",
       "1           296411    9406.000000        79.846659        122106    102941.0   \n",
       "2          1594496    3200.000000        46.000000        366562    867491.0   \n",
       "3           166200   -2000.000000        79.846659         92868     26720.0   \n",
       "...            ...            ...              ...           ...         ...   \n",
       "11635      1290356   11182.000000        54.000000        790408    618268.0   \n",
       "11636      3679414  343423.189677         8.000000       1476328   2164604.0   \n",
       "11637     15550083  503083.000000       400.000000       7454626   6940062.0   \n",
       "11638      1284882  343423.189677        18.000000        835716    421689.0   \n",
       "\n",
       "       COMPRAS_MP_EXTERIOR  EXPORTACIONES      VENTAS  \n",
       "0             5.155038e+06   4.996960e+06   3460300.0  \n",
       "1             5.155038e+06   4.996960e+06    296411.0  \n",
       "2             5.155038e+06   1.946210e+05   1597520.0  \n",
       "3             5.155038e+06   4.996960e+06    231480.0  \n",
       "...                    ...            ...         ...  \n",
       "11635         5.155038e+06   4.996960e+06   1100444.0  \n",
       "11636         5.155038e+06   4.996960e+06   3300208.0  \n",
       "11637         5.155038e+06   1.608454e+06  15443532.0  \n",
       "11638         5.155038e+06   1.717450e+05   1180126.0  \n",
       "\n",
       "[10295 rows x 64 columns]"
      ]
     },
     "execution_count": 4,
     "metadata": {},
     "output_type": "execute_result"
    }
   ],
   "source": [
    "#Se cargan los archivos limpios sin variables respetidas, imputados los datos y sin atípicos\n",
    "\n",
    "#SIEMPRE USAR EL ARCHIVO TOTALULIMPIO2 QUE ES EL DE LOS DATOS LIMPIOS\n",
    "\n",
    "total=pd.read_excel(\"TOTALULIMPIO2.xlsx\",index_col=0) #Recursos:amarillo #Capacidades:rojo #Resultados:azul\n",
    "total"
   ]
  },
  {
   "cell_type": "markdown",
   "metadata": {},
   "source": [
    "2.Separar las variables dependientes de las independientes (RECURSOS HUMANOS) y normalizarlas"
   ]
  },
  {
   "cell_type": "code",
   "execution_count": 45,
   "metadata": {},
   "outputs": [],
   "source": [
    "variables = ['EXPORTACIONES','VAL_AGREGADO','VENTAS','ESTABLECIMIENTO']\n",
    "\n",
    "X=total.loc[:,variables].values \n",
    "\n",
    "y=total.loc [:, ['ESTABLECIMIENTO']].values "
   ]
  },
  {
   "cell_type": "code",
   "execution_count": 46,
   "metadata": {},
   "outputs": [],
   "source": [
    "x_std= StandardScaler().fit_transform(X)"
   ]
  },
  {
   "cell_type": "code",
   "execution_count": 47,
   "metadata": {},
   "outputs": [
    {
     "data": {
      "text/html": [
       "<div>\n",
       "<style scoped>\n",
       "    .dataframe tbody tr th:only-of-type {\n",
       "        vertical-align: middle;\n",
       "    }\n",
       "\n",
       "    .dataframe tbody tr th {\n",
       "        vertical-align: top;\n",
       "    }\n",
       "\n",
       "    .dataframe thead th {\n",
       "        text-align: right;\n",
       "    }\n",
       "</style>\n",
       "<table border=\"1\" class=\"dataframe\">\n",
       "  <thead>\n",
       "    <tr style=\"text-align: right;\">\n",
       "      <th></th>\n",
       "      <th>EXPORTACIONES</th>\n",
       "      <th>VAL_AGREGADO</th>\n",
       "      <th>VENTAS</th>\n",
       "      <th>ESTABLECIMIENTO</th>\n",
       "    </tr>\n",
       "  </thead>\n",
       "  <tbody>\n",
       "    <tr>\n",
       "      <th>0</th>\n",
       "      <td>4.996960e+06</td>\n",
       "      <td>912761.0</td>\n",
       "      <td>3460300.0</td>\n",
       "      <td>145898.0</td>\n",
       "    </tr>\n",
       "    <tr>\n",
       "      <th>1</th>\n",
       "      <td>4.996960e+06</td>\n",
       "      <td>122106.0</td>\n",
       "      <td>296411.0</td>\n",
       "      <td>145904.0</td>\n",
       "    </tr>\n",
       "    <tr>\n",
       "      <th>2</th>\n",
       "      <td>1.946210e+05</td>\n",
       "      <td>366562.0</td>\n",
       "      <td>1597520.0</td>\n",
       "      <td>145912.0</td>\n",
       "    </tr>\n",
       "    <tr>\n",
       "      <th>3</th>\n",
       "      <td>4.996960e+06</td>\n",
       "      <td>92868.0</td>\n",
       "      <td>231480.0</td>\n",
       "      <td>145913.0</td>\n",
       "    </tr>\n",
       "    <tr>\n",
       "      <th>...</th>\n",
       "      <td>...</td>\n",
       "      <td>...</td>\n",
       "      <td>...</td>\n",
       "      <td>...</td>\n",
       "    </tr>\n",
       "    <tr>\n",
       "      <th>10291</th>\n",
       "      <td>4.996960e+06</td>\n",
       "      <td>790408.0</td>\n",
       "      <td>1100444.0</td>\n",
       "      <td>987459.0</td>\n",
       "    </tr>\n",
       "    <tr>\n",
       "      <th>10292</th>\n",
       "      <td>4.996960e+06</td>\n",
       "      <td>1476328.0</td>\n",
       "      <td>3300208.0</td>\n",
       "      <td>987465.0</td>\n",
       "    </tr>\n",
       "    <tr>\n",
       "      <th>10293</th>\n",
       "      <td>1.608454e+06</td>\n",
       "      <td>7454626.0</td>\n",
       "      <td>15443532.0</td>\n",
       "      <td>987467.0</td>\n",
       "    </tr>\n",
       "    <tr>\n",
       "      <th>10294</th>\n",
       "      <td>1.717450e+05</td>\n",
       "      <td>835716.0</td>\n",
       "      <td>1180126.0</td>\n",
       "      <td>987483.0</td>\n",
       "    </tr>\n",
       "  </tbody>\n",
       "</table>\n",
       "<p>10295 rows × 4 columns</p>\n",
       "</div>"
      ],
      "text/plain": [
       "       EXPORTACIONES  VAL_AGREGADO      VENTAS  ESTABLECIMIENTO\n",
       "0       4.996960e+06      912761.0   3460300.0         145898.0\n",
       "1       4.996960e+06      122106.0    296411.0         145904.0\n",
       "2       1.946210e+05      366562.0   1597520.0         145912.0\n",
       "3       4.996960e+06       92868.0    231480.0         145913.0\n",
       "...              ...           ...         ...              ...\n",
       "10291   4.996960e+06      790408.0   1100444.0         987459.0\n",
       "10292   4.996960e+06     1476328.0   3300208.0         987465.0\n",
       "10293   1.608454e+06     7454626.0  15443532.0         987467.0\n",
       "10294   1.717450e+05      835716.0   1180126.0         987483.0\n",
       "\n",
       "[10295 rows x 4 columns]"
      ]
     },
     "execution_count": 47,
     "metadata": {},
     "output_type": "execute_result"
    }
   ],
   "source": [
    "recursosh = pd.DataFrame(data = X, columns = variables).head(10295)\n",
    "recursosh"
   ]
  },
  {
   "cell_type": "code",
   "execution_count": 38,
   "metadata": {},
   "outputs": [
    {
     "data": {
      "text/plain": [
       "Index(['EXPORTACIONES', 'VAL_AGREGADO', 'VENTAS', 'PERIODO'], dtype='object')"
      ]
     },
     "execution_count": 38,
     "metadata": {},
     "output_type": "execute_result"
    }
   ],
   "source": [
    "#No hay datos perdidos pues se esta utilizando el archivo de los datos limpios\n",
    "\n",
    "recursosh.isnull().sum() # Saber si hay casos con NA\n",
    "recursosh.dropna(how=\"all\", inplace=True) # Eliminar las observaciones con NA\n",
    "recursosh.columns"
   ]
  },
  {
   "cell_type": "code",
   "execution_count": 48,
   "metadata": {},
   "outputs": [],
   "source": [
    "x=recursosh.drop(\"ESTABLECIMIENTO\",axis = 1) #Se elimina la variable ventas pues X=Recursos Humanos\n",
    "y=recursosh[\"ESTABLECIMIENTO\"]  #Y=Ventas\n",
    "names=recursosh.columns\n",
    "X_std= StandardScaler().fit_transform(x)"
   ]
  },
  {
   "cell_type": "code",
   "execution_count": 12,
   "metadata": {},
   "outputs": [
    {
     "data": {
      "text/plain": [
       "<Figure size 432x288 with 0 Axes>"
      ]
     },
     "metadata": {},
     "output_type": "display_data"
    },
    {
     "data": {
      "image/png": "[encoded data removed]",
      "text/plain": [
       "<Figure size 432x288 with 1 Axes>"
      ]
     },
     "metadata": {
      "needs_background": "light"
     },
     "output_type": "display_data"
    },
    {
     "data": {
      "image/png": "[encoded data removed]",
      "text/plain": [
       "<Figure size 360x360 with 1 Axes>"
      ]
     },
     "metadata": {},
     "output_type": "display_data"
    }
   ],
   "source": [
    "plt.figure(\"Histograma\")\n",
    "recursosh.plot.hist(alpha=0.4)\n",
    "plt.figure(\"Gráfico de pie\",figsize=(5,5))\n",
    "recursosh.VENTAS.value_counts().plot(kind=\"pie\",autopct='%1.1f%%', fontsize=15)\n",
    "plt.show()"
   ]
  },
  {
   "cell_type": "markdown",
   "metadata": {},
   "source": [
    "3.Construcción de las matrices de varianza y covarianza \n",
    "\n",
    "Para que se pueda realizar el PCA, es necesario que las variables presenten factores comunes. Es decir, que estén muy correlacionadas entre sí. Los coeficientes de la matriz de correlaciones deben ser grandes en valor absoluto. "
   ]
  },
  {
   "cell_type": "markdown",
   "metadata": {},
   "source": [
    "# POR FAVOR AYUDA"
   ]
  },
  {
   "cell_type": "code",
   "execution_count": 10,
   "metadata": {},
   "outputs": [
    {
     "name": "stdout",
     "output_type": "stream",
     "text": [
      "Requirement already satisfied: factor_analyzer in c:\\programdata\\anaconda3\\lib\\site-packages (0.2.3)\n",
      "Requirement already satisfied: scipy in c:\\programdata\\anaconda3\\lib\\site-packages (from factor_analyzer) (1.1.0)\n",
      "Requirement already satisfied: numpy in c:\\programdata\\anaconda3\\lib\\site-packages (from factor_analyzer) (1.15.1)\n",
      "Requirement already satisfied: pandas in c:\\programdata\\anaconda3\\lib\\site-packages (from factor_analyzer) (0.23.4)\n",
      "Requirement already satisfied: python-dateutil>=2.5.0 in c:\\programdata\\anaconda3\\lib\\site-packages (from pandas->factor_analyzer) (2.7.3)\n",
      "Requirement already satisfied: pytz>=2011k in c:\\programdata\\anaconda3\\lib\\site-packages (from pandas->factor_analyzer) (2018.5)\n",
      "Requirement already satisfied: six>=1.5 in c:\\programdata\\anaconda3\\lib\\site-packages (from python-dateutil>=2.5.0->pandas->factor_analyzer) (1.11.0)\n"
     ]
    },
    {
     "name": "stderr",
     "output_type": "stream",
     "text": [
      "twisted 18.7.0 requires PyHamcrest>=1.9.0, which is not installed.\n",
      "You are using pip version 10.0.1, however version 18.1 is available.\n",
      "You should consider upgrading via the 'python -m pip install --upgrade pip' command.\n"
     ]
    }
   ],
   "source": [
    "#INTENTAR EJECUTAR ESTE CÓDIGO\n",
    "\n",
    "! pip install factor_analyzer"
   ]
  },
  {
   "cell_type": "code",
   "execution_count": null,
   "metadata": {},
   "outputs": [],
   "source": [
    "#EN CASO DE QUE NO SIRVA LA LINEA ANTERIOR INTENTAR EJECUTAR ESTE CÓDIGO\n",
    "$ conda install -c desilinguist factor_analyzer"
   ]
  },
  {
   "cell_type": "markdown",
   "metadata": {},
   "source": [
    "SI NO FUNCIONAN LAS DOS OPCIONES ANTERIORES INTENTAR POR FAVOR DESCARGAR Y EJECUTAR factor_analyzer DESDE ESTE ENLACE https://anaconda.org/desilinguist/factor_analyzer/files"
   ]
  },
  {
   "cell_type": "code",
   "execution_count": 53,
   "metadata": {},
   "outputs": [],
   "source": [
    "#EN CASO DE FNCIONAR ALGUNA DE LAS TRES OPCIONES ANTERIORES EJECUTAR ESTA LÍNEA\n",
    "\n",
    "import logging\n",
    "import warnings\n",
    "\n",
    "from factor_analyzer import Rotator\n",
    "from scipy.stats import chi2\n",
    "from scipy.optimize import minimize\n",
    "\n",
    "from factor_analyzer.rotator import Rotator\n",
    "from factor_analyzer.rotator import POSSIBLE_ROTATIONS, OBLIQUE_ROTATIONS"
   ]
  },
  {
   "cell_type": "code",
   "execution_count": 75,
   "metadata": {},
   "outputs": [],
   "source": [
    "def calculate_kmo(X):\n",
    "\n",
    "    # calculate the partial correlations\n",
    "    partial_corr = partial_correlations(X)\n",
    "    partial_corr = partial_corr.values\n",
    "\n",
    "    # calcualte the pair-wise correlations\n",
    "    corr = data.corr()\n",
    "    corr = corr.values\n",
    "\n",
    "    # fill matrix diagonals with zeros\n",
    "    # and square all elements\n",
    "    np.fill_diagonal(corr, 0)\n",
    "    np.fill_diagonal(partial_corr, 0)\n",
    "\n",
    "    partial_corr = partial_corr**2\n",
    "    corr = corr**2\n",
    "\n",
    "    # calculate KMO per item\n",
    "    partial_corr_sum = partial_corr.sum(0)\n",
    "    corr_sum = corr.sum(0)\n",
    "    kmo_per_item = corr_sum / (corr_sum + partial_corr_sum)\n",
    "    kmo_per_item = pd.DataFrame(kmo_per_item,\n",
    "                                index=X.columns,\n",
    "                                columns=['KMO'])\n",
    "\n",
    "    # calculate KMO overall\n",
    "    corr_sum_total = corr.sum()\n",
    "    partial_corr_sum_total = partial_corr.sum()\n",
    "    kmo_total = corr_sum_total / (corr_sum_total + partial_corr_sum_total)\n",
    "    \n",
    "    return kmo_per_item, kmo_total"
   ]
  },
  {
   "cell_type": "code",
   "execution_count": 83,
   "metadata": {},
   "outputs": [],
   "source": [
    "def test_calculate_kmo (): \n",
    "  \n",
    "  expected_overall = 0.81498469767761361 \n",
    "  \n",
    "  expected_by_item = pd.DataFrame (X, columns = [ ' KMO ' ], \n",
    "  índice = índice) \n",
    "  (kmo_by_item, \n",
    "  kmo_overall) = calcular_kmo (X) \n",
    "  print (calcular_kmo (X) )"
   ]
  },
  {
   "cell_type": "markdown",
   "metadata": {},
   "source": [
    "\n",
    "0,90 > KMO Muy bueno\n",
    "\n",
    "0,90 > KMO > 0,80 Bueno\n",
    "\n",
    "0,80 > KMO > 0,70 Aceptable\n",
    "\n",
    "0,70 > KMO > 0,60 Mediocre o regular\n",
    "\n",
    "0,60 > KMO > 0,50 Malo\n",
    "\n",
    "0,50 > KMO Inaceptable o muy malo3"
   ]
  },
  {
   "cell_type": "code",
   "execution_count": 49,
   "metadata": {},
   "outputs": [],
   "source": [
    "# Matriz de covarianza\n",
    "\n",
    "mean_vec=np.mean(X_std,axis=0)\n",
    "cov_mat=(X_std-mean_vec).T.dot((X_std-mean_vec))/(X_std.shape[0]-1)"
   ]
  },
  {
   "cell_type": "code",
   "execution_count": 50,
   "metadata": {},
   "outputs": [
    {
     "data": {
      "image/png": "[encoded data removed]",
      "text/plain": [
       "<Figure size 360x360 with 1 Axes>"
      ]
     },
     "metadata": {
      "needs_background": "light"
     },
     "output_type": "display_data"
    }
   ],
   "source": [
    "import matplotlib.pyplot as plt\n",
    "#Gráficar en un mapa de calor las covarianzas\n",
    "\n",
    "corMat=np.asarray(cov_mat)\n",
    "\n",
    "fig, ax = plt.subplots(figsize=(5,5)) #Figsize para aumentar el tamaño\n",
    "im = ax.imshow(corMat,cmap=\"RdBu\")\n",
    "\n",
    "# Mostrar las etiquetas de las variables\n",
    "ax.set_xticks(np.arange(len(names)-1))\n",
    "ax.set_yticks(np.arange(len(names)-1))\n",
    "# Asignar los nombres a las etiquetas\n",
    "ax.set_xticklabels(names[:9])\n",
    "ax.set_yticklabels(names[:9])\n",
    "\n",
    "# Rotar los nombres\n",
    "plt.setp(ax.get_xticklabels(), rotation=45, ha=\"right\",\n",
    "         rotation_mode=\"anchor\")\n",
    "\n",
    "# Loop para asignar los valores de las correlaciones en el mapa de calor\n",
    "for i in range(len(names)-1):\n",
    "    for j in range(len(names)-1):\n",
    "        text = ax.text(j, i, round(corMat[i, j],2),\n",
    "                       ha=\"center\", va=\"center\", color=\"w\")\n",
    "\n",
    "plt.title(\"Matriz de covarianzas\", fontdict={\"fontsize\":15}) \n",
    "# o de correlación si los datos están normalizados\n",
    "plt.show()"
   ]
  },
  {
   "cell_type": "code",
   "execution_count": 51,
   "metadata": {},
   "outputs": [
    {
     "data": {
      "text/plain": [
       "<matplotlib.axes._subplots.AxesSubplot at 0x7060f90>"
      ]
     },
     "execution_count": 51,
     "metadata": {},
     "output_type": "execute_result"
    },
    {
     "data": {
      "image/png": "[encoded data removed]",
      "text/plain": [
       "<Figure size 360x360 with 2 Axes>"
      ]
     },
     "metadata": {
      "needs_background": "light"
     },
     "output_type": "display_data"
    }
   ],
   "source": [
    "#Otra forma de visualizar la Matriz de covarianzas #ESTA ES MÁS BONITA\n",
    "plt.subplots(figsize=(5,5))\n",
    "sns.heatmap(x.corr(), square=True, annot=True, linewidths =0.4)"
   ]
  },
  {
   "cell_type": "markdown",
   "metadata": {},
   "source": [
    "4.Cálculo de los valores propios"
   ]
  },
  {
   "cell_type": "code",
   "execution_count": 52,
   "metadata": {},
   "outputs": [
    {
     "name": "stdout",
     "output_type": "stream",
     "text": [
      "Valores propios \n",
      "  [1.00009717 0.12196995 1.87793287] \n",
      "\n",
      "Vectores propios \n",
      " [[ 0.9993798  -0.02598552 -0.02376504]\n",
      " [-0.00157012 -0.70708634  0.70712547]\n",
      " [ 0.03517896  0.7066496   0.70668861]]\n"
     ]
    }
   ],
   "source": [
    "#KAREN da el mismo resultado utilizando CorMat o utilizando x.corr\n",
    "eigen_value, eigen_vector =np.linalg.eig(x.corr()) \n",
    "print(\"Valores propios \\n  %s \\n\" %eigen_value)\n",
    "print(\"Vectores propios \\n %s\" %eigen_vector)\n",
    "\n",
    "#LOS VALORES PROPIOS DEBEN SER ORDENADOS DE MAYOR A MENOR PARA PODER ESCOGER LA CANTIDAD DE COMPONENTES OJO...."
   ]
  },
  {
   "cell_type": "code",
   "execution_count": 53,
   "metadata": {},
   "outputs": [
    {
     "data": {
      "text/plain": [
       "[33.336572384565216, 4.065665152985185, 62.597762462449595]"
      ]
     },
     "execution_count": 53,
     "metadata": {},
     "output_type": "execute_result"
    }
   ],
   "source": [
    "var=[(eigen_value[i]/3)*100 for i in range(len(eigen_value))]\n",
    "var"
   ]
  },
  {
   "cell_type": "code",
   "execution_count": 54,
   "metadata": {},
   "outputs": [
    {
     "data": {
      "text/plain": [
       "[33.336572384565216, 37.4022375375504, 100.0]"
      ]
     },
     "execution_count": 54,
     "metadata": {},
     "output_type": "execute_result"
    }
   ],
   "source": [
    "var_cum=[]\n",
    "for i in range(len(var)):\n",
    "    var_cum.append(sum(var[:i+1]))\n",
    "var_cum"
   ]
  },
  {
   "cell_type": "markdown",
   "metadata": {},
   "source": [
    "Gráfico de la varianza asociada a cada factor. Se utiliza para determinar cuántos factores deben retenerse. Típicamente el gráfico muestra la clara ruptura entre la pronunciada pendiente de los factores más importantes. \n",
    "\n",
    "http://halweb.uc3m.es/esp/Personal/personas/jmmarin/esp/AMult/tema3am.pdf\n",
    "\n",
    "PARA ESTA GRÁFICA LOS VALORES PROPIOS DEBEN ESTAR ORDENADOS DE MAYOR A MENOR O DE MAYOR A MENOR VARIANZA EXPLICADA"
   ]
  },
  {
   "cell_type": "code",
   "execution_count": 23,
   "metadata": {},
   "outputs": [
    {
     "data": {
      "image/png": "[encoded data removed]",
      "text/plain": [
       "<Figure size 432x288 with 1 Axes>"
      ]
     },
     "metadata": {
      "needs_background": "light"
     },
     "output_type": "display_data"
    }
   ],
   "source": [
    "#El nuúmero de componentes esta determinado por el punto donde se encuentra una clara ruptura o punto de inflexión\n",
    "\n",
    "plt.plot(var_cum,linestyle=\"-\")\n",
    "plt.xlabel(\"Número de componentes\")\n",
    "plt.ylabel(\"Varianza explicada (%)\")\n",
    "plt.show()\n",
    "\n",
    "#ESTA GRÁFICA ESTA MAL PORQUE LOS VALORES PROPIOS DEBEN ESTAR ORDENADOS DE MAYOR A MENOR"
   ]
  },
  {
   "cell_type": "code",
   "execution_count": 24,
   "metadata": {},
   "outputs": [
    {
     "data": {
      "image/png": "[encoded data removed]",
      "text/plain": [
       "<Figure size 432x288 with 1 Axes>"
      ]
     },
     "metadata": {
      "needs_background": "light"
     },
     "output_type": "display_data"
    }
   ],
   "source": [
    "plt.plot(eigen_value,linestyle=\"-\")\n",
    "plt.xlabel(\"Número de componentes\")\n",
    "plt.ylabel(\"Valor propio\")\n",
    "plt.show()\n",
    "\n",
    "#ESTA GRÁFICA ESTA MAL PORQUE LOS VALORES PROPIOS DEBEN ESTAR ORDENADOS DE MAYOR A MENOR"
   ]
  },
  {
   "attachments": {},
   "cell_type": "markdown",
   "metadata": {},
   "source": [
    "Analizando la gráfica Valor propio vs Número de componentes se toman los dos primeros componentes \n",
    "\n",
    "En el caso de Python se toman las componentes 3 Y 1"
   ]
  },
  {
   "cell_type": "markdown",
   "metadata": {},
   "source": [
    "5.Proyección de los datos"
   ]
  },
  {
   "cell_type": "code",
   "execution_count": null,
   "metadata": {},
   "outputs": [],
   "source": [
    "#Creo que no se pueden proyectar los datos\n",
    "\n",
    "for name in ('11002090', '1657388', '8600884'):\n",
    "    plt.scatter(x=Y[y==name,0],y=Y[y==name,1],VENTAS=name)\n",
    "plt.legend()\n",
    "plt.show()"
   ]
  },
  {
   "cell_type": "code",
   "execution_count": 55,
   "metadata": {},
   "outputs": [],
   "source": [
    "M_w=eigen_vector[:,0:2]\n",
    "Y=X_std.dot(M_w) # Nuevos Y"
   ]
  },
  {
   "cell_type": "markdown",
   "metadata": {},
   "source": [
    "# PCA"
   ]
  },
  {
   "cell_type": "code",
   "execution_count": 56,
   "metadata": {},
   "outputs": [],
   "source": [
    "from sklearn.decomposition import PCA\n",
    "\n",
    "sklearn_PCA= PCA(n_components=2)\n",
    "Y_1=sklearn_PCA.fit_transform(X_std)"
   ]
  },
  {
   "cell_type": "markdown",
   "metadata": {},
   "source": []
  },
  {
   "cell_type": "code",
   "execution_count": 57,
   "metadata": {},
   "outputs": [
    {
     "data": {
      "text/html": [
       "<div>\n",
       "<style scoped>\n",
       "    .dataframe tbody tr th:only-of-type {\n",
       "        vertical-align: middle;\n",
       "    }\n",
       "\n",
       "    .dataframe tbody tr th {\n",
       "        vertical-align: top;\n",
       "    }\n",
       "\n",
       "    .dataframe thead th {\n",
       "        text-align: right;\n",
       "    }\n",
       "</style>\n",
       "<table border=\"1\" class=\"dataframe\">\n",
       "  <thead>\n",
       "    <tr style=\"text-align: right;\">\n",
       "      <th></th>\n",
       "      <th>RESULTADOS_FINANCIEROS</th>\n",
       "      <th>VENTAS</th>\n",
       "    </tr>\n",
       "  </thead>\n",
       "  <tbody>\n",
       "    <tr>\n",
       "      <th>0</th>\n",
       "      <td>-0.128186</td>\n",
       "      <td>0.396362</td>\n",
       "    </tr>\n",
       "    <tr>\n",
       "      <th>1</th>\n",
       "      <td>-0.742689</td>\n",
       "      <td>0.376404</td>\n",
       "    </tr>\n",
       "    <tr>\n",
       "      <th>2</th>\n",
       "      <td>-0.451469</td>\n",
       "      <td>-2.112449</td>\n",
       "    </tr>\n",
       "    <tr>\n",
       "      <th>3</th>\n",
       "      <td>-0.758665</td>\n",
       "      <td>0.376002</td>\n",
       "    </tr>\n",
       "    <tr>\n",
       "      <th>...</th>\n",
       "      <td>...</td>\n",
       "      <td>...</td>\n",
       "    </tr>\n",
       "    <tr>\n",
       "      <th>10291</th>\n",
       "      <td>-0.465659</td>\n",
       "      <td>0.381208</td>\n",
       "    </tr>\n",
       "    <tr>\n",
       "      <th>10292</th>\n",
       "      <td>-0.003190</td>\n",
       "      <td>0.395005</td>\n",
       "    </tr>\n",
       "    <tr>\n",
       "      <th>10293</th>\n",
       "      <td>3.158495</td>\n",
       "      <td>-1.292033</td>\n",
       "    </tr>\n",
       "    <tr>\n",
       "      <th>10294</th>\n",
       "      <td>-0.383952</td>\n",
       "      <td>-2.127307</td>\n",
       "    </tr>\n",
       "  </tbody>\n",
       "</table>\n",
       "<p>10295 rows × 2 columns</p>\n",
       "</div>"
      ],
      "text/plain": [
       "       RESULTADOS_FINANCIEROS    VENTAS\n",
       "0                   -0.128186  0.396362\n",
       "1                   -0.742689  0.376404\n",
       "2                   -0.451469 -2.112449\n",
       "3                   -0.758665  0.376002\n",
       "...                       ...       ...\n",
       "10291               -0.465659  0.381208\n",
       "10292               -0.003190  0.395005\n",
       "10293                3.158495 -1.292033\n",
       "10294               -0.383952 -2.127307\n",
       "\n",
       "[10295 rows x 2 columns]"
      ]
     },
     "execution_count": 57,
     "metadata": {},
     "output_type": "execute_result"
    }
   ],
   "source": [
    "PCArecursosh = pd.DataFrame(data = Y_1, columns = ['RESULTADOS_FINANCIEROS', 'VENTAS'])\n",
    "PCArecursosh.head(10295)"
   ]
  },
  {
   "cell_type": "code",
   "execution_count": 58,
   "metadata": {},
   "outputs": [
    {
     "data": {
      "text/html": [
       "<div>\n",
       "<style scoped>\n",
       "    .dataframe tbody tr th:only-of-type {\n",
       "        vertical-align: middle;\n",
       "    }\n",
       "\n",
       "    .dataframe tbody tr th {\n",
       "        vertical-align: top;\n",
       "    }\n",
       "\n",
       "    .dataframe thead th {\n",
       "        text-align: right;\n",
       "    }\n",
       "</style>\n",
       "<table border=\"1\" class=\"dataframe\">\n",
       "  <thead>\n",
       "    <tr style=\"text-align: right;\">\n",
       "      <th></th>\n",
       "      <th>ESTABLECIMIENTO</th>\n",
       "    </tr>\n",
       "  </thead>\n",
       "  <tbody>\n",
       "    <tr>\n",
       "      <th>0</th>\n",
       "      <td>145898</td>\n",
       "    </tr>\n",
       "    <tr>\n",
       "      <th>1</th>\n",
       "      <td>145904</td>\n",
       "    </tr>\n",
       "    <tr>\n",
       "      <th>2</th>\n",
       "      <td>145912</td>\n",
       "    </tr>\n",
       "    <tr>\n",
       "      <th>3</th>\n",
       "      <td>145913</td>\n",
       "    </tr>\n",
       "    <tr>\n",
       "      <th>...</th>\n",
       "      <td>...</td>\n",
       "    </tr>\n",
       "    <tr>\n",
       "      <th>11635</th>\n",
       "      <td>987459</td>\n",
       "    </tr>\n",
       "    <tr>\n",
       "      <th>11636</th>\n",
       "      <td>987465</td>\n",
       "    </tr>\n",
       "    <tr>\n",
       "      <th>11637</th>\n",
       "      <td>987467</td>\n",
       "    </tr>\n",
       "    <tr>\n",
       "      <th>11638</th>\n",
       "      <td>987483</td>\n",
       "    </tr>\n",
       "  </tbody>\n",
       "</table>\n",
       "<p>10295 rows × 1 columns</p>\n",
       "</div>"
      ],
      "text/plain": [
       "       ESTABLECIMIENTO\n",
       "0               145898\n",
       "1               145904\n",
       "2               145912\n",
       "3               145913\n",
       "...                ...\n",
       "11635           987459\n",
       "11636           987465\n",
       "11637           987467\n",
       "11638           987483\n",
       "\n",
       "[10295 rows x 1 columns]"
      ]
     },
     "execution_count": 58,
     "metadata": {},
     "output_type": "execute_result"
    }
   ],
   "source": [
    "establecimiento=total[['ESTABLECIMIENTO']].head(10295)\n",
    "establecimiento"
   ]
  },
  {
   "cell_type": "code",
   "execution_count": 59,
   "metadata": {},
   "outputs": [
    {
     "data": {
      "text/html": [
       "<div>\n",
       "<style scoped>\n",
       "    .dataframe tbody tr th:only-of-type {\n",
       "        vertical-align: middle;\n",
       "    }\n",
       "\n",
       "    .dataframe tbody tr th {\n",
       "        vertical-align: top;\n",
       "    }\n",
       "\n",
       "    .dataframe thead th {\n",
       "        text-align: right;\n",
       "    }\n",
       "</style>\n",
       "<table border=\"1\" class=\"dataframe\">\n",
       "  <thead>\n",
       "    <tr style=\"text-align: right;\">\n",
       "      <th></th>\n",
       "      <th>ESTABLECIMIENTO</th>\n",
       "      <th>RESULTADOS_FINANCIEROS</th>\n",
       "      <th>VENTAS</th>\n",
       "    </tr>\n",
       "  </thead>\n",
       "  <tbody>\n",
       "    <tr>\n",
       "      <th>0</th>\n",
       "      <td>145898</td>\n",
       "      <td>-0.128186</td>\n",
       "      <td>0.396362</td>\n",
       "    </tr>\n",
       "    <tr>\n",
       "      <th>1</th>\n",
       "      <td>145904</td>\n",
       "      <td>-0.742689</td>\n",
       "      <td>0.376404</td>\n",
       "    </tr>\n",
       "    <tr>\n",
       "      <th>2</th>\n",
       "      <td>145912</td>\n",
       "      <td>-0.451469</td>\n",
       "      <td>-2.112449</td>\n",
       "    </tr>\n",
       "    <tr>\n",
       "      <th>3</th>\n",
       "      <td>145913</td>\n",
       "      <td>-0.758665</td>\n",
       "      <td>0.376002</td>\n",
       "    </tr>\n",
       "    <tr>\n",
       "      <th>...</th>\n",
       "      <td>...</td>\n",
       "      <td>...</td>\n",
       "      <td>...</td>\n",
       "    </tr>\n",
       "    <tr>\n",
       "      <th>10291</th>\n",
       "      <td>987459</td>\n",
       "      <td>-0.465659</td>\n",
       "      <td>0.381208</td>\n",
       "    </tr>\n",
       "    <tr>\n",
       "      <th>10292</th>\n",
       "      <td>987465</td>\n",
       "      <td>-0.003190</td>\n",
       "      <td>0.395005</td>\n",
       "    </tr>\n",
       "    <tr>\n",
       "      <th>10293</th>\n",
       "      <td>987467</td>\n",
       "      <td>3.158495</td>\n",
       "      <td>-1.292033</td>\n",
       "    </tr>\n",
       "    <tr>\n",
       "      <th>10294</th>\n",
       "      <td>987483</td>\n",
       "      <td>-0.383952</td>\n",
       "      <td>-2.127307</td>\n",
       "    </tr>\n",
       "  </tbody>\n",
       "</table>\n",
       "<p>10295 rows × 3 columns</p>\n",
       "</div>"
      ],
      "text/plain": [
       "       ESTABLECIMIENTO  RESULTADOS_FINANCIEROS    VENTAS\n",
       "0               145898               -0.128186  0.396362\n",
       "1               145904               -0.742689  0.376404\n",
       "2               145912               -0.451469 -2.112449\n",
       "3               145913               -0.758665  0.376002\n",
       "...                ...                     ...       ...\n",
       "10291           987459               -0.465659  0.381208\n",
       "10292           987465               -0.003190  0.395005\n",
       "10293           987467                3.158495 -1.292033\n",
       "10294           987483               -0.383952 -2.127307\n",
       "\n",
       "[10295 rows x 3 columns]"
      ]
     },
     "execution_count": 59,
     "metadata": {},
     "output_type": "execute_result"
    }
   ],
   "source": [
    "PCArecursosh.reset_index(drop=True, inplace=True) \n",
    "establecimiento.reset_index(drop=True, inplace=True) \n",
    "PCA = pd.concat([establecimiento,PCArecursosh], axis=1)\n",
    "PCA"
   ]
  },
  {
   "cell_type": "code",
   "execution_count": 60,
   "metadata": {},
   "outputs": [
    {
     "name": "stderr",
     "output_type": "stream",
     "text": [
      "C:\\ProgramData\\Anaconda3\\lib\\site-packages\\scipy\\stats\\stats.py:1713: FutureWarning: Using a non-tuple sequence for multidimensional indexing is deprecated; use `arr[tuple(seq)]` instead of `arr[seq]`. In the future this will be interpreted as an array index, `arr[np.array(seq)]`, which will result either in an error or a different result.\n",
      "  return np.add.reduce(sorted[indexer] * weights, axis=axis) / sumval\n"
     ]
    },
    {
     "data": {
      "text/plain": [
       "<seaborn.axisgrid.PairGrid at 0xc9d6a70>"
      ]
     },
     "execution_count": 60,
     "metadata": {},
     "output_type": "execute_result"
    },
    {
     "data": {
      "image/png": "[encoded data removed]",
      "text/plain": [
       "<Figure size 360x360 with 6 Axes>"
      ]
     },
     "metadata": {
      "needs_background": "light"
     },
     "output_type": "display_data"
    }
   ],
   "source": [
    "b = sns.pairplot(PCA, vars=[\"RESULTADOS_FINANCIEROS\",\"VENTAS\"],kind=\"reg\") \n",
    "b # Resumen gráfico con histogramas y diagramas de dispersión de las variables"
   ]
  },
  {
   "cell_type": "code",
   "execution_count": 61,
   "metadata": {},
   "outputs": [
    {
     "name": "stdout",
     "output_type": "stream",
     "text": [
      "[0.62597762 0.33336572]\n"
     ]
    }
   ],
   "source": [
    "print(sklearn_PCA.explained_variance_ratio_) "
   ]
  }
 ],
 "metadata": {
  "kernelspec": {
   "display_name": "Python 3",
   "language": "python",
   "name": "python3"
  },
  "language_info": {
   "codemirror_mode": {
    "name": "ipython",
    "version": 3
   },
   "file_extension": ".py",
   "mimetype": "text/x-python",
   "name": "python",
   "nbconvert_exporter": "python",
   "pygments_lexer": "ipython3",
   "version": "3.7.0"
  }
 },
 "nbformat": 4,
 "nbformat_minor": 2
}
