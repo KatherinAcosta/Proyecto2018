{
 "cells": [
  {
   "cell_type": "markdown",
   "metadata": {},
   "source": [
    "# Regresión"
   ]
  },
  {
   "cell_type": "markdown",
   "metadata": {},
   "source": [
    "# Regresión con ceros inflados\n",
    "\n",
    "https://www.uv.mx/mapli/files/2012/05/Un-Modelo-de-Regresion-Poisson-Inflado-con-Ceros-para-Analizar-Datos-de-un-experimento-de-Fungicidas-en-Jitomate.pdf (Páginas 18-20)\n",
    "\n",
    "http://www.iesta.edu.uy/wp-content/uploads/2018/01/pasantia_martinez_voucher.pdf (Páginas 40-43)\n",
    "\n",
    "http://www.aprendemachinelearning.com/regresion-lineal-en-espanol-con-python/ (Fórmula)\n",
    "\n",
    "http://www.academia.edu/20664018/Zero-inflated_and_Hurdle_models_of_count_data_with_extra_example_from_an_HIV-Risk_reduction_intervention_trial \n",
    "\n",
    "El modelo de regresion cero inflado fue propuesto por Lambert con el fin de,como  en  los  modelos  Hurdle,  tratar  el  problema  en  los  datos  que  muestran  una cantidad de ceros mucho m ́as alta que la que es compatible con las distribuciones usualmente utilizadas, es decir, los datos a ser estudiados presentan m ́as ceros que los esperados. Al igual que los modelos de regresi ́on Hurdle, este modelo combina una variable binaria con un modelo de conteo Poisson, PIG o Binomial Negativo. Es un modelo mixto de dos componentes que da mayor peso a la probabilidad de que la variable sea igual a cero, por lo que la funci ́on de probabilidad para un modelo de  regresi ́on  Cero  Inflado  es  una  mezcla  de  una  funci ́on  de  masa  concentrada  en cero y un modelo perteneciente a la familia exponencial. A diferencia de los Modelos Hurdle, el primer componente genera s ́olo conteos cero, pero el segundo genera el rango completo de conteos, incluyendo los ceros\n",
    "\n",
    "En 1992Lambert, ideó el modelo Poisson inﬂado con ceros (ZIP), el cual postula de que existe: una probabilidad pi de que la i-ésima observación sea siempre igual a cero, es decir que la variable respuesta,Yi, tomesiempre el valor de cero y una probabilidad 1−pi de que el valor de la i-ésima observación proceda deuna distribución Poisson. "
   ]
  }
 ],
 "metadata": {
  "kernelspec": {
   "display_name": "Python 3",
   "language": "python",
   "name": "python3"
  },
  "language_info": {
   "codemirror_mode": {
    "name": "ipython",
    "version": 3
   },
   "file_extension": ".py",
   "mimetype": "text/x-python",
   "name": "python",
   "nbconvert_exporter": "python",
   "pygments_lexer": "ipython3",
   "version": "3.7.0"
  }
 },
 "nbformat": 4,
 "nbformat_minor": 2
}
