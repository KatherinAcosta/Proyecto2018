{
 "cells": [
  {
   "cell_type": "code",
   "execution_count": 1,
   "metadata": {},
   "outputs": [],
   "source": [
    "#Se importan las librerias\n",
    "\n",
    "%matplotlib inline\n",
    "\n",
    "import pandas as pd \n",
    "import numpy as np\n",
    "from scipy import stats # importando scipy.stats\n",
    "import matplotlib.pyplot as plt # importando matplotlib\n",
    "from matplotlib.ticker import NullFormatter\n",
    "import seaborn as sns # importando seaborn\n",
    "import statsmodels.api as sm\n",
    "from sklearn.preprocessing import StandardScaler\n",
    "import calendar\n",
    "from statsmodels.formula.api import ols\n",
    "from sklearn.cluster import KMeans\n",
    "pd.set_option(\"display.max_rows\", 9) # Especificar el número de filas a mostrar\n",
    "plt.style.use('seaborn-whitegrid') # Se define el estilo, en este caso se elige la visualización clásica de Matlab"
   ]
  },
  {
   "cell_type": "code",
   "execution_count": 3,
   "metadata": {},
   "outputs": [],
   "source": [
    "#Se cargan los archivos \n",
    "\n",
    "total=pd.read_excel(\"NORMALIZADO.xlsx\",index_col=0) "
   ]
  },
  {
   "cell_type": "code",
   "execution_count": 5,
   "metadata": {},
   "outputs": [
    {
     "name": "stderr",
     "output_type": "stream",
     "text": [
      "C:\\Users\\Invitado\\Anaconda3\\lib\\site-packages\\ipykernel_launcher.py:2: FutureWarning: Method .as_matrix will be removed in a future version. Use .values instead.\n",
      "  \n"
     ]
    }
   ],
   "source": [
    "#Se establecen las variables independientes\n",
    "X = total.drop([\"VENTAS\"],axis=1).as_matrix()\n",
    "variables = total.drop(\"VENTAS\",axis=1).columns\n",
    "\n",
    "#Se establecen la variable dependiente = VENTAS\n",
    "y = total[\"VENTAS\"]\n",
    "scale = StandardScaler()"
   ]
  },
  {
   "cell_type": "code",
   "execution_count": 8,
   "metadata": {},
   "outputs": [],
   "source": [
    "#Se escribe la fórmula del modelo regresivo\n",
    "\n",
    "formula = \"VENTAS ~ APRENDIZ + OBRERO  + COSTOS_PT_ELAB_TERCEROS + OUTSOURCING_PROD + COMPRAS_MP_EXTERIOR + PUBLICIDAD_PROD + GASTOSCARTERA  + SEGUROS  + TOTALINVER + INV_PT + MPCOMPRADA\""
   ]
  },
  {
   "cell_type": "code",
   "execution_count": 9,
   "metadata": {},
   "outputs": [
    {
     "data": {
      "text/html": [
       "<table class=\"simpletable\">\n",
       "<caption>OLS Regression Results</caption>\n",
       "<tr>\n",
       "  <th>Dep. Variable:</th>         <td>VENTAS</td>      <th>  R-squared:         </th> <td>   0.834</td> \n",
       "</tr>\n",
       "<tr>\n",
       "  <th>Model:</th>                   <td>OLS</td>       <th>  Adj. R-squared:    </th> <td>   0.834</td> \n",
       "</tr>\n",
       "<tr>\n",
       "  <th>Method:</th>             <td>Least Squares</td>  <th>  F-statistic:       </th> <td>   4690.</td> \n",
       "</tr>\n",
       "<tr>\n",
       "  <th>Date:</th>             <td>Wed, 23 Jan 2019</td> <th>  Prob (F-statistic):</th>  <td>  0.00</td>  \n",
       "</tr>\n",
       "<tr>\n",
       "  <th>Time:</th>                 <td>17:35:50</td>     <th>  Log-Likelihood:    </th> <td> -5368.6</td> \n",
       "</tr>\n",
       "<tr>\n",
       "  <th>No. Observations:</th>      <td> 10294</td>      <th>  AIC:               </th> <td>1.076e+04</td>\n",
       "</tr>\n",
       "<tr>\n",
       "  <th>Df Residuals:</th>          <td> 10282</td>      <th>  BIC:               </th> <td>1.085e+04</td>\n",
       "</tr>\n",
       "<tr>\n",
       "  <th>Df Model:</th>              <td>    11</td>      <th>                     </th>     <td> </td>    \n",
       "</tr>\n",
       "<tr>\n",
       "  <th>Covariance Type:</th>      <td>nonrobust</td>    <th>                     </th>     <td> </td>    \n",
       "</tr>\n",
       "</table>\n",
       "<table class=\"simpletable\">\n",
       "<tr>\n",
       "             <td></td>                <th>coef</th>     <th>std err</th>      <th>t</th>      <th>P>|t|</th>  <th>[0.025</th>    <th>0.975]</th>  \n",
       "</tr>\n",
       "<tr>\n",
       "  <th>Intercept</th>               <td>-4.987e-07</td> <td>    0.004</td> <td>   -0.000</td> <td> 1.000</td> <td>   -0.008</td> <td>    0.008</td>\n",
       "</tr>\n",
       "<tr>\n",
       "  <th>APRENDIZ</th>                <td>   -0.0181</td> <td>    0.004</td> <td>   -4.336</td> <td> 0.000</td> <td>   -0.026</td> <td>   -0.010</td>\n",
       "</tr>\n",
       "<tr>\n",
       "  <th>OBRERO</th>                  <td>    0.2141</td> <td>    0.005</td> <td>   43.113</td> <td> 0.000</td> <td>    0.204</td> <td>    0.224</td>\n",
       "</tr>\n",
       "<tr>\n",
       "  <th>COSTOS_PT_ELAB_TERCEROS</th> <td>    0.0968</td> <td>    0.004</td> <td>   22.246</td> <td> 0.000</td> <td>    0.088</td> <td>    0.105</td>\n",
       "</tr>\n",
       "<tr>\n",
       "  <th>OUTSOURCING_PROD</th>        <td>    0.0200</td> <td>    0.004</td> <td>    4.951</td> <td> 0.000</td> <td>    0.012</td> <td>    0.028</td>\n",
       "</tr>\n",
       "<tr>\n",
       "  <th>COMPRAS_MP_EXTERIOR</th>     <td>   -0.0711</td> <td>    0.004</td> <td>  -17.130</td> <td> 0.000</td> <td>   -0.079</td> <td>   -0.063</td>\n",
       "</tr>\n",
       "<tr>\n",
       "  <th>PUBLICIDAD_PROD</th>         <td>    0.0195</td> <td>    0.004</td> <td>    4.839</td> <td> 0.000</td> <td>    0.012</td> <td>    0.027</td>\n",
       "</tr>\n",
       "<tr>\n",
       "  <th>GASTOSCARTERA</th>           <td>   -0.0711</td> <td>    0.004</td> <td>  -16.674</td> <td> 0.000</td> <td>   -0.079</td> <td>   -0.063</td>\n",
       "</tr>\n",
       "<tr>\n",
       "  <th>SEGUROS</th>                 <td>    0.0639</td> <td>    0.005</td> <td>   13.857</td> <td> 0.000</td> <td>    0.055</td> <td>    0.073</td>\n",
       "</tr>\n",
       "<tr>\n",
       "  <th>TOTALINVER</th>              <td>    0.0333</td> <td>    0.004</td> <td>    8.107</td> <td> 0.000</td> <td>    0.025</td> <td>    0.041</td>\n",
       "</tr>\n",
       "<tr>\n",
       "  <th>INV_PT</th>                  <td>    0.0485</td> <td>    0.004</td> <td>   11.013</td> <td> 0.000</td> <td>    0.040</td> <td>    0.057</td>\n",
       "</tr>\n",
       "<tr>\n",
       "  <th>MPCOMPRADA</th>              <td>    0.6726</td> <td>    0.005</td> <td>  123.808</td> <td> 0.000</td> <td>    0.662</td> <td>    0.683</td>\n",
       "</tr>\n",
       "</table>\n",
       "<table class=\"simpletable\">\n",
       "<tr>\n",
       "  <th>Omnibus:</th>       <td>6748.201</td> <th>  Durbin-Watson:     </th>  <td>   1.709</td> \n",
       "</tr>\n",
       "<tr>\n",
       "  <th>Prob(Omnibus):</th>  <td> 0.000</td>  <th>  Jarque-Bera (JB):  </th> <td>433819.490</td>\n",
       "</tr>\n",
       "<tr>\n",
       "  <th>Skew:</th>           <td> 2.438</td>  <th>  Prob(JB):          </th>  <td>    0.00</td> \n",
       "</tr>\n",
       "<tr>\n",
       "  <th>Kurtosis:</th>       <td>34.427</td>  <th>  Cond. No.          </th>  <td>    2.51</td> \n",
       "</tr>\n",
       "</table><br/><br/>Warnings:<br/>[1] Standard Errors assume that the covariance matrix of the errors is correctly specified."
      ],
      "text/plain": [
       "<class 'statsmodels.iolib.summary.Summary'>\n",
       "\"\"\"\n",
       "                            OLS Regression Results                            \n",
       "==============================================================================\n",
       "Dep. Variable:                 VENTAS   R-squared:                       0.834\n",
       "Model:                            OLS   Adj. R-squared:                  0.834\n",
       "Method:                 Least Squares   F-statistic:                     4690.\n",
       "Date:                Wed, 23 Jan 2019   Prob (F-statistic):               0.00\n",
       "Time:                        17:35:50   Log-Likelihood:                -5368.6\n",
       "No. Observations:               10294   AIC:                         1.076e+04\n",
       "Df Residuals:                   10282   BIC:                         1.085e+04\n",
       "Df Model:                          11                                         \n",
       "Covariance Type:            nonrobust                                         \n",
       "===========================================================================================\n",
       "                              coef    std err          t      P>|t|      [0.025      0.975]\n",
       "-------------------------------------------------------------------------------------------\n",
       "Intercept               -4.987e-07      0.004     -0.000      1.000      -0.008       0.008\n",
       "APRENDIZ                   -0.0181      0.004     -4.336      0.000      -0.026      -0.010\n",
       "OBRERO                      0.2141      0.005     43.113      0.000       0.204       0.224\n",
       "COSTOS_PT_ELAB_TERCEROS     0.0968      0.004     22.246      0.000       0.088       0.105\n",
       "OUTSOURCING_PROD            0.0200      0.004      4.951      0.000       0.012       0.028\n",
       "COMPRAS_MP_EXTERIOR        -0.0711      0.004    -17.130      0.000      -0.079      -0.063\n",
       "PUBLICIDAD_PROD             0.0195      0.004      4.839      0.000       0.012       0.027\n",
       "GASTOSCARTERA              -0.0711      0.004    -16.674      0.000      -0.079      -0.063\n",
       "SEGUROS                     0.0639      0.005     13.857      0.000       0.055       0.073\n",
       "TOTALINVER                  0.0333      0.004      8.107      0.000       0.025       0.041\n",
       "INV_PT                      0.0485      0.004     11.013      0.000       0.040       0.057\n",
       "MPCOMPRADA                  0.6726      0.005    123.808      0.000       0.662       0.683\n",
       "==============================================================================\n",
       "Omnibus:                     6748.201   Durbin-Watson:                   1.709\n",
       "Prob(Omnibus):                  0.000   Jarque-Bera (JB):           433819.490\n",
       "Skew:                           2.438   Prob(JB):                         0.00\n",
       "Kurtosis:                      34.427   Cond. No.                         2.51\n",
       "==============================================================================\n",
       "\n",
       "Warnings:\n",
       "[1] Standard Errors assume that the covariance matrix of the errors is correctly specified.\n",
       "\"\"\""
      ]
     },
     "execution_count": 9,
     "metadata": {},
     "output_type": "execute_result"
    }
   ],
   "source": [
    "#Se ejecuta el modelo\n",
    "\n",
    "est = ols(formula, total).fit()\n",
    " \n",
    "est.summary()"
   ]
  }
 ],
 "metadata": {
  "kernelspec": {
   "display_name": "Python 3",
   "language": "python",
   "name": "python3"
  },
  "language_info": {
   "codemirror_mode": {
    "name": "ipython",
    "version": 3
   },
   "file_extension": ".py",
   "mimetype": "text/x-python",
   "name": "python",
   "nbconvert_exporter": "python",
   "pygments_lexer": "ipython3",
   "version": "3.7.1"
  }
 },
 "nbformat": 4,
 "nbformat_minor": 2
}
