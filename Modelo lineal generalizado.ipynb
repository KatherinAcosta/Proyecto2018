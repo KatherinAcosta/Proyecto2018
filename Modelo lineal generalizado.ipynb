{
 "cells": [
  {
   "cell_type": "code",
   "execution_count": 1,
   "metadata": {},
   "outputs": [],
   "source": [
    "%matplotlib inline\n",
    "import pandas as pd\n",
    "import numpy as np\n",
    "import matplotlib.pyplot as plt\n",
    "from sklearn.metrics import r2_score\n",
    "import statsmodels.api as sm\n",
    "from statsmodels.graphics.api import abline_plot\n",
    "from sklearn.model_selection import train_test_split, cross_val_predict, cross_validate, RepeatedKFold, ShuffleSplit, learning_curve\n",
    "from scipy import stats\n",
    "from sklearn.metrics import r2_score, median_absolute_error,mean_squared_error\n",
    "from statsmodels import graphics\n",
    "\n",
    "from sklearn.model_selection import train_test_split\n",
    "from statsmodels.tools.eval_measures import rmse\n",
    "pd.set_option(\"display.max_rows\", 10)"
   ]
  },
  {
   "cell_type": "code",
   "execution_count": 11,
   "metadata": {},
   "outputs": [
    {
     "data": {
      "text/html": [
       "<div>\n",
       "<style scoped>\n",
       "    .dataframe tbody tr th:only-of-type {\n",
       "        vertical-align: middle;\n",
       "    }\n",
       "\n",
       "    .dataframe tbody tr th {\n",
       "        vertical-align: top;\n",
       "    }\n",
       "\n",
       "    .dataframe thead th {\n",
       "        text-align: right;\n",
       "    }\n",
       "</style>\n",
       "<table border=\"1\" class=\"dataframe\">\n",
       "  <thead>\n",
       "    <tr style=\"text-align: right;\">\n",
       "      <th></th>\n",
       "      <th>PERMANENTE</th>\n",
       "      <th>PROD_NAL</th>\n",
       "      <th>OBRERO</th>\n",
       "      <th>TOTPERSONAL</th>\n",
       "      <th>COSTOS_PT_ELAB_TERCEROS</th>\n",
       "      <th>TOTAL_OUTSOURCING</th>\n",
       "      <th>TOT_MUESTRASGRATIS</th>\n",
       "      <th>PUBLICIDAD_PROD</th>\n",
       "      <th>GASTOSCARTERA</th>\n",
       "      <th>TOTALGASTOS_USOPROPIO</th>\n",
       "      <th>INVER_MAQ</th>\n",
       "      <th>INVER_OFICINA</th>\n",
       "      <th>TOTALINVER</th>\n",
       "      <th>VALORACTIVOS</th>\n",
       "      <th>MPCOMPRADA</th>\n",
       "      <th>VENTAS</th>\n",
       "    </tr>\n",
       "  </thead>\n",
       "  <tbody>\n",
       "    <tr>\n",
       "      <th>1</th>\n",
       "      <td>2.000000</td>\n",
       "      <td>2.000000</td>\n",
       "      <td>10.0</td>\n",
       "      <td>13.0</td>\n",
       "      <td>1.789890e+05</td>\n",
       "      <td>218224.843465</td>\n",
       "      <td>47359.806799</td>\n",
       "      <td>22549.880305</td>\n",
       "      <td>8.969314e+06</td>\n",
       "      <td>568773.225613</td>\n",
       "      <td>340794.846346</td>\n",
       "      <td>49702.437665</td>\n",
       "      <td>493915.398347</td>\n",
       "      <td>641984.0</td>\n",
       "      <td>2602400.0</td>\n",
       "      <td>3460300.0</td>\n",
       "    </tr>\n",
       "    <tr>\n",
       "      <th>2</th>\n",
       "      <td>7.000000</td>\n",
       "      <td>12.562613</td>\n",
       "      <td>3.0</td>\n",
       "      <td>9.0</td>\n",
       "      <td>1.158180e+06</td>\n",
       "      <td>218224.843465</td>\n",
       "      <td>47359.806799</td>\n",
       "      <td>22549.880305</td>\n",
       "      <td>8.969314e+06</td>\n",
       "      <td>568773.225613</td>\n",
       "      <td>4478.000000</td>\n",
       "      <td>49702.437665</td>\n",
       "      <td>53869.000000</td>\n",
       "      <td>201817.0</td>\n",
       "      <td>102941.0</td>\n",
       "      <td>296411.0</td>\n",
       "    </tr>\n",
       "    <tr>\n",
       "      <th>3</th>\n",
       "      <td>46.562075</td>\n",
       "      <td>1.000000</td>\n",
       "      <td>30.0</td>\n",
       "      <td>36.0</td>\n",
       "      <td>2.726740e+05</td>\n",
       "      <td>4464.000000</td>\n",
       "      <td>47359.806799</td>\n",
       "      <td>22549.880305</td>\n",
       "      <td>8.969314e+06</td>\n",
       "      <td>568773.225613</td>\n",
       "      <td>340794.846346</td>\n",
       "      <td>3200.000000</td>\n",
       "      <td>3200.000000</td>\n",
       "      <td>143460.0</td>\n",
       "      <td>867491.0</td>\n",
       "      <td>1597520.0</td>\n",
       "    </tr>\n",
       "    <tr>\n",
       "      <th>4</th>\n",
       "      <td>46.562075</td>\n",
       "      <td>2.000000</td>\n",
       "      <td>3.0</td>\n",
       "      <td>5.0</td>\n",
       "      <td>1.158180e+06</td>\n",
       "      <td>218224.843465</td>\n",
       "      <td>47359.806799</td>\n",
       "      <td>22549.880305</td>\n",
       "      <td>8.969314e+06</td>\n",
       "      <td>568773.225613</td>\n",
       "      <td>340794.846346</td>\n",
       "      <td>49702.437665</td>\n",
       "      <td>493915.398347</td>\n",
       "      <td>8704.0</td>\n",
       "      <td>26720.0</td>\n",
       "      <td>231480.0</td>\n",
       "    </tr>\n",
       "    <tr>\n",
       "      <th>5</th>\n",
       "      <td>19.000000</td>\n",
       "      <td>12.562613</td>\n",
       "      <td>15.0</td>\n",
       "      <td>19.0</td>\n",
       "      <td>3.154950e+05</td>\n",
       "      <td>218224.843465</td>\n",
       "      <td>47359.806799</td>\n",
       "      <td>22549.880305</td>\n",
       "      <td>8.969314e+06</td>\n",
       "      <td>541844.380952</td>\n",
       "      <td>39292.000000</td>\n",
       "      <td>13033.000000</td>\n",
       "      <td>527797.000000</td>\n",
       "      <td>1598624.0</td>\n",
       "      <td>1548929.0</td>\n",
       "      <td>3451232.0</td>\n",
       "    </tr>\n",
       "    <tr>\n",
       "      <th>...</th>\n",
       "      <td>...</td>\n",
       "      <td>...</td>\n",
       "      <td>...</td>\n",
       "      <td>...</td>\n",
       "      <td>...</td>\n",
       "      <td>...</td>\n",
       "      <td>...</td>\n",
       "      <td>...</td>\n",
       "      <td>...</td>\n",
       "      <td>...</td>\n",
       "      <td>...</td>\n",
       "      <td>...</td>\n",
       "      <td>...</td>\n",
       "      <td>...</td>\n",
       "      <td>...</td>\n",
       "      <td>...</td>\n",
       "    </tr>\n",
       "    <tr>\n",
       "      <th>10291</th>\n",
       "      <td>11.000000</td>\n",
       "      <td>3.000000</td>\n",
       "      <td>4.0</td>\n",
       "      <td>11.0</td>\n",
       "      <td>1.158180e+06</td>\n",
       "      <td>218224.843465</td>\n",
       "      <td>47359.806799</td>\n",
       "      <td>22549.880305</td>\n",
       "      <td>8.969314e+06</td>\n",
       "      <td>568773.225613</td>\n",
       "      <td>340794.846346</td>\n",
       "      <td>49702.437665</td>\n",
       "      <td>493915.398347</td>\n",
       "      <td>93659.0</td>\n",
       "      <td>155361.0</td>\n",
       "      <td>907882.0</td>\n",
       "    </tr>\n",
       "    <tr>\n",
       "      <th>10292</th>\n",
       "      <td>46.562075</td>\n",
       "      <td>12.562613</td>\n",
       "      <td>27.0</td>\n",
       "      <td>46.0</td>\n",
       "      <td>1.158180e+06</td>\n",
       "      <td>218224.843465</td>\n",
       "      <td>47359.806799</td>\n",
       "      <td>22549.880305</td>\n",
       "      <td>8.969314e+06</td>\n",
       "      <td>568773.225613</td>\n",
       "      <td>340794.846346</td>\n",
       "      <td>49702.437665</td>\n",
       "      <td>11182.000000</td>\n",
       "      <td>188741.0</td>\n",
       "      <td>618268.0</td>\n",
       "      <td>1100444.0</td>\n",
       "    </tr>\n",
       "    <tr>\n",
       "      <th>10293</th>\n",
       "      <td>40.000000</td>\n",
       "      <td>12.562613</td>\n",
       "      <td>29.0</td>\n",
       "      <td>46.0</td>\n",
       "      <td>1.158180e+06</td>\n",
       "      <td>218224.843465</td>\n",
       "      <td>47359.806799</td>\n",
       "      <td>22549.880305</td>\n",
       "      <td>8.969314e+06</td>\n",
       "      <td>568773.225613</td>\n",
       "      <td>340794.846346</td>\n",
       "      <td>49702.437665</td>\n",
       "      <td>493915.398347</td>\n",
       "      <td>465071.0</td>\n",
       "      <td>2164604.0</td>\n",
       "      <td>3300208.0</td>\n",
       "    </tr>\n",
       "    <tr>\n",
       "      <th>10294</th>\n",
       "      <td>36.000000</td>\n",
       "      <td>9.000000</td>\n",
       "      <td>260.0</td>\n",
       "      <td>303.0</td>\n",
       "      <td>6.470340e+05</td>\n",
       "      <td>218224.843465</td>\n",
       "      <td>47359.806799</td>\n",
       "      <td>22549.880305</td>\n",
       "      <td>2.444700e+04</td>\n",
       "      <td>568773.225613</td>\n",
       "      <td>118002.000000</td>\n",
       "      <td>49702.437665</td>\n",
       "      <td>503083.000000</td>\n",
       "      <td>2874293.0</td>\n",
       "      <td>6940062.0</td>\n",
       "      <td>15443532.0</td>\n",
       "    </tr>\n",
       "    <tr>\n",
       "      <th>10295</th>\n",
       "      <td>3.000000</td>\n",
       "      <td>12.562613</td>\n",
       "      <td>11.0</td>\n",
       "      <td>21.0</td>\n",
       "      <td>1.158180e+06</td>\n",
       "      <td>218224.843465</td>\n",
       "      <td>47359.806799</td>\n",
       "      <td>22549.880305</td>\n",
       "      <td>8.969314e+06</td>\n",
       "      <td>568773.225613</td>\n",
       "      <td>340794.846346</td>\n",
       "      <td>49702.437665</td>\n",
       "      <td>493915.398347</td>\n",
       "      <td>300842.0</td>\n",
       "      <td>421689.0</td>\n",
       "      <td>1180126.0</td>\n",
       "    </tr>\n",
       "  </tbody>\n",
       "</table>\n",
       "<p>10295 rows × 16 columns</p>\n",
       "</div>"
      ],
      "text/plain": [
       "       PERMANENTE   PROD_NAL  OBRERO  TOTPERSONAL  COSTOS_PT_ELAB_TERCEROS  \\\n",
       "1        2.000000   2.000000    10.0         13.0             1.789890e+05   \n",
       "2        7.000000  12.562613     3.0          9.0             1.158180e+06   \n",
       "3       46.562075   1.000000    30.0         36.0             2.726740e+05   \n",
       "4       46.562075   2.000000     3.0          5.0             1.158180e+06   \n",
       "5       19.000000  12.562613    15.0         19.0             3.154950e+05   \n",
       "...           ...        ...     ...          ...                      ...   \n",
       "10291   11.000000   3.000000     4.0         11.0             1.158180e+06   \n",
       "10292   46.562075  12.562613    27.0         46.0             1.158180e+06   \n",
       "10293   40.000000  12.562613    29.0         46.0             1.158180e+06   \n",
       "10294   36.000000   9.000000   260.0        303.0             6.470340e+05   \n",
       "10295    3.000000  12.562613    11.0         21.0             1.158180e+06   \n",
       "\n",
       "       TOTAL_OUTSOURCING  TOT_MUESTRASGRATIS  PUBLICIDAD_PROD  GASTOSCARTERA  \\\n",
       "1          218224.843465        47359.806799     22549.880305   8.969314e+06   \n",
       "2          218224.843465        47359.806799     22549.880305   8.969314e+06   \n",
       "3            4464.000000        47359.806799     22549.880305   8.969314e+06   \n",
       "4          218224.843465        47359.806799     22549.880305   8.969314e+06   \n",
       "5          218224.843465        47359.806799     22549.880305   8.969314e+06   \n",
       "...                  ...                 ...              ...            ...   \n",
       "10291      218224.843465        47359.806799     22549.880305   8.969314e+06   \n",
       "10292      218224.843465        47359.806799     22549.880305   8.969314e+06   \n",
       "10293      218224.843465        47359.806799     22549.880305   8.969314e+06   \n",
       "10294      218224.843465        47359.806799     22549.880305   2.444700e+04   \n",
       "10295      218224.843465        47359.806799     22549.880305   8.969314e+06   \n",
       "\n",
       "       TOTALGASTOS_USOPROPIO      INVER_MAQ  INVER_OFICINA     TOTALINVER  \\\n",
       "1              568773.225613  340794.846346   49702.437665  493915.398347   \n",
       "2              568773.225613    4478.000000   49702.437665   53869.000000   \n",
       "3              568773.225613  340794.846346    3200.000000    3200.000000   \n",
       "4              568773.225613  340794.846346   49702.437665  493915.398347   \n",
       "5              541844.380952   39292.000000   13033.000000  527797.000000   \n",
       "...                      ...            ...            ...            ...   \n",
       "10291          568773.225613  340794.846346   49702.437665  493915.398347   \n",
       "10292          568773.225613  340794.846346   49702.437665   11182.000000   \n",
       "10293          568773.225613  340794.846346   49702.437665  493915.398347   \n",
       "10294          568773.225613  118002.000000   49702.437665  503083.000000   \n",
       "10295          568773.225613  340794.846346   49702.437665  493915.398347   \n",
       "\n",
       "       VALORACTIVOS  MPCOMPRADA      VENTAS  \n",
       "1          641984.0   2602400.0   3460300.0  \n",
       "2          201817.0    102941.0    296411.0  \n",
       "3          143460.0    867491.0   1597520.0  \n",
       "4            8704.0     26720.0    231480.0  \n",
       "5         1598624.0   1548929.0   3451232.0  \n",
       "...             ...         ...         ...  \n",
       "10291       93659.0    155361.0    907882.0  \n",
       "10292      188741.0    618268.0   1100444.0  \n",
       "10293      465071.0   2164604.0   3300208.0  \n",
       "10294     2874293.0   6940062.0  15443532.0  \n",
       "10295      300842.0    421689.0   1180126.0  \n",
       "\n",
       "[10295 rows x 16 columns]"
      ]
     },
     "execution_count": 11,
     "metadata": {},
     "output_type": "execute_result"
    }
   ],
   "source": [
    "#Se cargan los archivos \n",
    "\n",
    "total=pd.read_excel(\"GLM.xlsx\",index_col=0) \n",
    "total"
   ]
  },
  {
   "cell_type": "code",
   "execution_count": 12,
   "metadata": {},
   "outputs": [],
   "source": [
    "#Eliminar valores faltantes del conjunto de datos\n",
    "\n",
    "total=total.dropna()"
   ]
  },
  {
   "cell_type": "markdown",
   "metadata": {},
   "source": [
    "Las variables endógenas son equivalentes a la variable dependiente, mientras que las variables exógenas lo son para las variables independientes"
   ]
  },
  {
   "cell_type": "code",
   "execution_count": 15,
   "metadata": {},
   "outputs": [],
   "source": [
    "#Definir variables exógenas\n",
    "\n",
    "x=total[[\"PERMANENTE\",\"PROD_NAL\", \"OBRERO\", \"TOTPERSONAL\", \"COSTOS_PT_ELAB_TERCEROS\",\"TOTAL_OUTSOURCING\", \"TOT_MUESTRASGRATIS\", \"PUBLICIDAD_PROD\", \"GASTOSCARTERA\", \"TOTALGASTOS_USOPROPIO\", \"INVER_MAQ\", \"INVER_OFICINA\", \"TOTALINVER\", \"VALORACTIVOS\", \"MPCOMPRADA\"]]"
   ]
  },
  {
   "cell_type": "code",
   "execution_count": 29,
   "metadata": {},
   "outputs": [],
   "source": [
    "#Definir variable endógena\n",
    "\n",
    "y1=total[[\"VENTAS\"]]"
   ]
  },
  {
   "cell_type": "code",
   "execution_count": 30,
   "metadata": {},
   "outputs": [
    {
     "data": {
      "image/png": "[encoded data removed]",
      "text/plain": [
       "<Figure size 432x288 with 1 Axes>"
      ]
     },
     "metadata": {
      "needs_background": "light"
     },
     "output_type": "display_data"
    }
   ],
   "source": [
    "Respuesta=[\"VENTAS\"]\n",
    "total.hist(Respuesta);"
   ]
  },
  {
   "cell_type": "code",
   "execution_count": 31,
   "metadata": {
    "scrolled": false
   },
   "outputs": [
    {
     "name": "stdout",
     "output_type": "stream",
     "text": [
      "                 Generalized Linear Model Regression Results                  \n",
      "==============================================================================\n",
      "Dep. Variable:                 VENTAS   No. Observations:                10295\n",
      "Model:                            GLM   Df Residuals:                    10280\n",
      "Model Family:                Binomial   Df Model:                           14\n",
      "Link Function:                  logit   Scale:                          1.0000\n",
      "Method:                          IRLS   Log-Likelihood:                    nan\n",
      "Date:                Mon, 21 Jan 2019   Deviance:                          inf\n",
      "Time:                        19:03:14   Pearson chi2:                 1.84e+33\n",
      "No. Iterations:                     2   Covariance Type:             nonrobust\n",
      "===========================================================================================\n",
      "                              coef    std err          z      P>|z|      [0.025      0.975]\n",
      "-------------------------------------------------------------------------------------------\n",
      "PERMANENTE               3.507e+19    2.4e+04   1.46e+15      0.000    3.51e+19    3.51e+19\n",
      "PROD_NAL                 1.388e+20   1.09e+05   1.27e+15      0.000    1.39e+20    1.39e+20\n",
      "OBRERO                  -9.572e+19   3.61e+04  -2.65e+15      0.000   -9.57e+19   -9.57e+19\n",
      "TOTPERSONAL              2.155e+20   3.17e+04    6.8e+15      0.000    2.15e+20    2.15e+20\n",
      "COSTOS_PT_ELAB_TERCEROS  4.338e+15      0.850    5.1e+15      0.000    4.34e+15    4.34e+15\n",
      "TOTAL_OUTSOURCING        4.976e+15      8.189   6.08e+14      0.000    4.98e+15    4.98e+15\n",
      "TOT_MUESTRASGRATIS      -8.523e+16     60.591  -1.41e+15      0.000   -8.52e+16   -8.52e+16\n",
      "PUBLICIDAD_PROD          1.188e+17     92.570   1.28e+15      0.000    1.19e+17    1.19e+17\n",
      "GASTOSCARTERA           -5.107e+14      0.197   -2.6e+15      0.000   -5.11e+14   -5.11e+14\n",
      "TOTALGASTOS_USOPROPIO    -3.19e+15      7.198  -4.43e+14      0.000   -3.19e+15   -3.19e+15\n",
      "INVER_MAQ                7.383e+15      4.528   1.63e+15      0.000    7.38e+15    7.38e+15\n",
      "INVER_OFICINA            1.056e+16     28.729   3.67e+14      0.000    1.06e+16    1.06e+16\n",
      "TOTALINVER              -7.692e+14      3.326  -2.31e+14      0.000   -7.69e+14   -7.69e+14\n",
      "VALORACTIVOS             8.924e+14      0.222   4.02e+15      0.000    8.92e+14    8.92e+14\n",
      "MPCOMPRADA               8.721e+15      0.358   2.43e+16      0.000    8.72e+15    8.72e+15\n",
      "===========================================================================================\n"
     ]
    }
   ],
   "source": [
    "glm_binom=sm.GLM(y1,x,family=sm.families.Binomial()) # En este caso se asume una regresión binomial en la familia\n",
    "res= glm_binom.fit()  # Se ajustan el modelo\n",
    "print(res.summary()) # Se muestra la salida para el modelo utilizado"
   ]
  },
  {
   "cell_type": "code",
   "execution_count": 23,
   "metadata": {},
   "outputs": [
    {
     "data": {
      "text/html": [
       "<table class=\"simpletable\">\n",
       "<caption>Generalized Linear Model Regression Results</caption>\n",
       "<tr>\n",
       "  <th>Dep. Variable:</th>       <td>VENTAS</td>      <th>  No. Observations:  </th>  <td> 10295</td>  \n",
       "</tr>\n",
       "<tr>\n",
       "  <th>Model:</th>                 <td>GLM</td>       <th>  Df Residuals:      </th>  <td> 10280</td>  \n",
       "</tr>\n",
       "<tr>\n",
       "  <th>Model Family:</th>       <td>Binomial</td>     <th>  Df Model:          </th>  <td>    14</td>  \n",
       "</tr>\n",
       "<tr>\n",
       "  <th>Link Function:</th>        <td>logit</td>      <th>  Scale:             </th> <td>  1.0000</td> \n",
       "</tr>\n",
       "<tr>\n",
       "  <th>Method:</th>               <td>IRLS</td>       <th>  Log-Likelihood:    </th> <td>     nan</td> \n",
       "</tr>\n",
       "<tr>\n",
       "  <th>Date:</th>           <td>Mon, 21 Jan 2019</td> <th>  Deviance:          </th> <td>     inf</td> \n",
       "</tr>\n",
       "<tr>\n",
       "  <th>Time:</th>               <td>19:00:38</td>     <th>  Pearson chi2:      </th> <td>1.84e+33</td> \n",
       "</tr>\n",
       "<tr>\n",
       "  <th>No. Iterations:</th>         <td>2</td>        <th>  Covariance Type:   </th> <td>nonrobust</td>\n",
       "</tr>\n",
       "</table>\n",
       "<table class=\"simpletable\">\n",
       "<tr>\n",
       "             <td></td>                <th>coef</th>     <th>std err</th>      <th>z</th>      <th>P>|z|</th>  <th>[0.025</th>    <th>0.975]</th>  \n",
       "</tr>\n",
       "<tr>\n",
       "  <th>PERMANENTE</th>              <td> 3.507e+19</td> <td>  2.4e+04</td> <td> 1.46e+15</td> <td> 0.000</td> <td> 3.51e+19</td> <td> 3.51e+19</td>\n",
       "</tr>\n",
       "<tr>\n",
       "  <th>PROD_NAL</th>                <td> 1.388e+20</td> <td> 1.09e+05</td> <td> 1.27e+15</td> <td> 0.000</td> <td> 1.39e+20</td> <td> 1.39e+20</td>\n",
       "</tr>\n",
       "<tr>\n",
       "  <th>OBRERO</th>                  <td>-9.572e+19</td> <td> 3.61e+04</td> <td>-2.65e+15</td> <td> 0.000</td> <td>-9.57e+19</td> <td>-9.57e+19</td>\n",
       "</tr>\n",
       "<tr>\n",
       "  <th>TOTPERSONAL</th>             <td> 2.155e+20</td> <td> 3.17e+04</td> <td>  6.8e+15</td> <td> 0.000</td> <td> 2.15e+20</td> <td> 2.15e+20</td>\n",
       "</tr>\n",
       "<tr>\n",
       "  <th>COSTOS_PT_ELAB_TERCEROS</th> <td> 4.338e+15</td> <td>    0.850</td> <td>  5.1e+15</td> <td> 0.000</td> <td> 4.34e+15</td> <td> 4.34e+15</td>\n",
       "</tr>\n",
       "<tr>\n",
       "  <th>TOTAL_OUTSOURCING</th>       <td> 4.976e+15</td> <td>    8.189</td> <td> 6.08e+14</td> <td> 0.000</td> <td> 4.98e+15</td> <td> 4.98e+15</td>\n",
       "</tr>\n",
       "<tr>\n",
       "  <th>TOT_MUESTRASGRATIS</th>      <td>-8.523e+16</td> <td>   60.591</td> <td>-1.41e+15</td> <td> 0.000</td> <td>-8.52e+16</td> <td>-8.52e+16</td>\n",
       "</tr>\n",
       "<tr>\n",
       "  <th>PUBLICIDAD_PROD</th>         <td> 1.188e+17</td> <td>   92.570</td> <td> 1.28e+15</td> <td> 0.000</td> <td> 1.19e+17</td> <td> 1.19e+17</td>\n",
       "</tr>\n",
       "<tr>\n",
       "  <th>GASTOSCARTERA</th>           <td>-5.107e+14</td> <td>    0.197</td> <td> -2.6e+15</td> <td> 0.000</td> <td>-5.11e+14</td> <td>-5.11e+14</td>\n",
       "</tr>\n",
       "<tr>\n",
       "  <th>TOTALGASTOS_USOPROPIO</th>   <td> -3.19e+15</td> <td>    7.198</td> <td>-4.43e+14</td> <td> 0.000</td> <td>-3.19e+15</td> <td>-3.19e+15</td>\n",
       "</tr>\n",
       "<tr>\n",
       "  <th>INVER_MAQ</th>               <td> 7.383e+15</td> <td>    4.528</td> <td> 1.63e+15</td> <td> 0.000</td> <td> 7.38e+15</td> <td> 7.38e+15</td>\n",
       "</tr>\n",
       "<tr>\n",
       "  <th>INVER_OFICINA</th>           <td> 1.056e+16</td> <td>   28.729</td> <td> 3.67e+14</td> <td> 0.000</td> <td> 1.06e+16</td> <td> 1.06e+16</td>\n",
       "</tr>\n",
       "<tr>\n",
       "  <th>TOTALINVER</th>              <td>-7.692e+14</td> <td>    3.326</td> <td>-2.31e+14</td> <td> 0.000</td> <td>-7.69e+14</td> <td>-7.69e+14</td>\n",
       "</tr>\n",
       "<tr>\n",
       "  <th>VALORACTIVOS</th>            <td> 8.924e+14</td> <td>    0.222</td> <td> 4.02e+15</td> <td> 0.000</td> <td> 8.92e+14</td> <td> 8.92e+14</td>\n",
       "</tr>\n",
       "<tr>\n",
       "  <th>MPCOMPRADA</th>              <td> 8.721e+15</td> <td>    0.358</td> <td> 2.43e+16</td> <td> 0.000</td> <td> 8.72e+15</td> <td> 8.72e+15</td>\n",
       "</tr>\n",
       "</table>"
      ],
      "text/plain": [
       "<class 'statsmodels.iolib.summary.Summary'>\n",
       "\"\"\"\n",
       "                 Generalized Linear Model Regression Results                  \n",
       "==============================================================================\n",
       "Dep. Variable:                 VENTAS   No. Observations:                10295\n",
       "Model:                            GLM   Df Residuals:                    10280\n",
       "Model Family:                Binomial   Df Model:                           14\n",
       "Link Function:                  logit   Scale:                          1.0000\n",
       "Method:                          IRLS   Log-Likelihood:                    nan\n",
       "Date:                Mon, 21 Jan 2019   Deviance:                          inf\n",
       "Time:                        19:00:38   Pearson chi2:                 1.84e+33\n",
       "No. Iterations:                     2   Covariance Type:             nonrobust\n",
       "===========================================================================================\n",
       "                              coef    std err          z      P>|z|      [0.025      0.975]\n",
       "-------------------------------------------------------------------------------------------\n",
       "PERMANENTE               3.507e+19    2.4e+04   1.46e+15      0.000    3.51e+19    3.51e+19\n",
       "PROD_NAL                 1.388e+20   1.09e+05   1.27e+15      0.000    1.39e+20    1.39e+20\n",
       "OBRERO                  -9.572e+19   3.61e+04  -2.65e+15      0.000   -9.57e+19   -9.57e+19\n",
       "TOTPERSONAL              2.155e+20   3.17e+04    6.8e+15      0.000    2.15e+20    2.15e+20\n",
       "COSTOS_PT_ELAB_TERCEROS  4.338e+15      0.850    5.1e+15      0.000    4.34e+15    4.34e+15\n",
       "TOTAL_OUTSOURCING        4.976e+15      8.189   6.08e+14      0.000    4.98e+15    4.98e+15\n",
       "TOT_MUESTRASGRATIS      -8.523e+16     60.591  -1.41e+15      0.000   -8.52e+16   -8.52e+16\n",
       "PUBLICIDAD_PROD          1.188e+17     92.570   1.28e+15      0.000    1.19e+17    1.19e+17\n",
       "GASTOSCARTERA           -5.107e+14      0.197   -2.6e+15      0.000   -5.11e+14   -5.11e+14\n",
       "TOTALGASTOS_USOPROPIO    -3.19e+15      7.198  -4.43e+14      0.000   -3.19e+15   -3.19e+15\n",
       "INVER_MAQ                7.383e+15      4.528   1.63e+15      0.000    7.38e+15    7.38e+15\n",
       "INVER_OFICINA            1.056e+16     28.729   3.67e+14      0.000    1.06e+16    1.06e+16\n",
       "TOTALINVER              -7.692e+14      3.326  -2.31e+14      0.000   -7.69e+14   -7.69e+14\n",
       "VALORACTIVOS             8.924e+14      0.222   4.02e+15      0.000    8.92e+14    8.92e+14\n",
       "MPCOMPRADA               8.721e+15      0.358   2.43e+16      0.000    8.72e+15    8.72e+15\n",
       "===========================================================================================\n",
       "\"\"\""
      ]
     },
     "execution_count": 23,
     "metadata": {},
     "output_type": "execute_result"
    }
   ],
   "source": [
    "res.summary()"
   ]
  },
  {
   "cell_type": "markdown",
   "metadata": {},
   "source": [
    "Se definen las variables significativas de acuerdo al valor p, para este caso todas las variables son significativas"
   ]
  },
  {
   "cell_type": "code",
   "execution_count": 25,
   "metadata": {},
   "outputs": [
    {
     "name": "stdout",
     "output_type": "stream",
     "text": [
      "Total number of trials: VENTAS    3.259936e+10\n",
      "dtype: float64\n",
      "Parameters:  PERMANENTE                 3.507085e+19\n",
      "PROD_NAL                   1.388198e+20\n",
      "OBRERO                    -9.572024e+19\n",
      "TOTPERSONAL                2.154656e+20\n",
      "COSTOS_PT_ELAB_TERCEROS    4.337677e+15\n",
      "                               ...     \n",
      "INVER_MAQ                  7.382899e+15\n",
      "INVER_OFICINA              1.055767e+16\n",
      "TOTALINVER                -7.692313e+14\n",
      "VALORACTIVOS               8.923540e+14\n",
      "MPCOMPRADA                 8.720873e+15\n",
      "Length: 15, dtype: float64\n",
      "T-values:  PERMANENTE                 1.460341e+15\n",
      "PROD_NAL                   1.268864e+15\n",
      "OBRERO                    -2.653544e+15\n",
      "TOTPERSONAL                6.803450e+15\n",
      "COSTOS_PT_ELAB_TERCEROS    5.102107e+15\n",
      "                               ...     \n",
      "INVER_MAQ                  1.630467e+15\n",
      "INVER_OFICINA              3.674960e+14\n",
      "TOTALINVER                -2.313126e+14\n",
      "VALORACTIVOS               4.017150e+15\n",
      "MPCOMPRADA                 2.434765e+16\n",
      "Length: 15, dtype: float64\n"
     ]
    }
   ],
   "source": [
    "print('Total number of trials:',  y.sum())\n",
    "print('Parameters: ', res.params)\n",
    "print('T-values: ', res.tvalues)"
   ]
  },
  {
   "cell_type": "markdown",
   "metadata": {},
   "source": [
    "## Plots"
   ]
  },
  {
   "cell_type": "code",
   "execution_count": 39,
   "metadata": {},
   "outputs": [],
   "source": [
    "#NO ESTAMOS SEGURAS DE ESTA PARTE\n",
    "\n",
    "nobs = res.nobs\n",
    "y = y1.values[:,0]/y1.values.sum(1) # Como se tomó la familia binomial se hace la transformación de la variable respuesta observada\n",
    "yhat = res.mu # Valores pronósticados"
   ]
  },
  {
   "cell_type": "code",
   "execution_count": 40,
   "metadata": {},
   "outputs": [
    {
     "data": {
      "text/plain": [
       "-0.337213145291529"
      ]
     },
     "execution_count": 40,
     "metadata": {},
     "output_type": "execute_result"
    }
   ],
   "source": [
    "r2_score(y1,yhat) # Estimación del R_2 "
   ]
  },
  {
   "cell_type": "markdown",
   "metadata": {},
   "source": [
    "Plots yhat vs y"
   ]
  },
  {
   "cell_type": "code",
   "execution_count": 41,
   "metadata": {},
   "outputs": [],
   "source": [
    "from statsmodels.graphics.api import abline_plot # Función para graficar linea de distribución"
   ]
  },
  {
   "cell_type": "markdown",
   "metadata": {},
   "source": [
    "En este gráfico se comparan los valores observados y los pronósticados con el objetivos de evaluar que tan bueno es el ajuste del modelo propuesto"
   ]
  },
  {
   "cell_type": "code",
   "execution_count": 42,
   "metadata": {},
   "outputs": [
    {
     "data": {
      "image/png": "[encoded data removed]",
      "text/plain": [
       "<Figure size 432x288 with 1 Axes>"
      ]
     },
     "metadata": {
      "needs_background": "light"
     },
     "output_type": "display_data"
    }
   ],
   "source": [
    "fig,ax=plt.subplots()\n",
    "ax.scatter(yhat,y)\n",
    "line_fit=sm.OLS(y,sm.add_constant(yhat,prepend=True)).fit()\n",
    "abline_plot(model_results=line_fit,ax=ax)\n",
    "\n",
    "ax.set_title('Model Fit Plot')\n",
    "ax.set_ylabel('Observed values')\n",
    "ax.set_xlabel('Fitted values');"
   ]
  },
  {
   "cell_type": "markdown",
   "metadata": {},
   "source": [
    "Histograma de desviaciones estandarizadas"
   ]
  },
  {
   "cell_type": "code",
   "execution_count": 45,
   "metadata": {},
   "outputs": [
    {
     "ename": "ValueError",
     "evalue": "max must be larger than min in range parameter.",
     "output_type": "error",
     "traceback": [
      "\u001b[1;31m---------------------------------------------------------------------------\u001b[0m",
      "\u001b[1;31mValueError\u001b[0m                                Traceback (most recent call last)",
      "\u001b[1;32m<ipython-input-45-6ddb7d6167f6>\u001b[0m in \u001b[0;36m<module>\u001b[1;34m\u001b[0m\n\u001b[0;32m      5\u001b[0m \u001b[0mresid\u001b[0m \u001b[1;33m=\u001b[0m \u001b[0mres\u001b[0m\u001b[1;33m.\u001b[0m\u001b[0mresid_deviance\u001b[0m\u001b[1;33m.\u001b[0m\u001b[0mcopy\u001b[0m\u001b[1;33m(\u001b[0m\u001b[1;33m)\u001b[0m\u001b[1;33m\u001b[0m\u001b[1;33m\u001b[0m\u001b[0m\n\u001b[0;32m      6\u001b[0m \u001b[0mresid_std\u001b[0m \u001b[1;33m=\u001b[0m \u001b[0mstats\u001b[0m\u001b[1;33m.\u001b[0m\u001b[0mzscore\u001b[0m\u001b[1;33m(\u001b[0m\u001b[0mresid\u001b[0m\u001b[1;33m)\u001b[0m\u001b[1;33m\u001b[0m\u001b[1;33m\u001b[0m\u001b[0m\n\u001b[1;32m----> 7\u001b[1;33m \u001b[0max\u001b[0m\u001b[1;33m.\u001b[0m\u001b[0mhist\u001b[0m\u001b[1;33m(\u001b[0m\u001b[0mresid_std\u001b[0m\u001b[1;33m,\u001b[0m \u001b[0mbins\u001b[0m\u001b[1;33m=\u001b[0m\u001b[1;36m5\u001b[0m\u001b[1;33m)\u001b[0m\u001b[1;33m\u001b[0m\u001b[1;33m\u001b[0m\u001b[0m\n\u001b[0m\u001b[0;32m      8\u001b[0m \u001b[0max\u001b[0m\u001b[1;33m.\u001b[0m\u001b[0mset_title\u001b[0m\u001b[1;33m(\u001b[0m\u001b[1;34m'Histograma de desviaciones estandarizadas'\u001b[0m\u001b[1;33m)\u001b[0m\u001b[1;33m;\u001b[0m\u001b[1;33m\u001b[0m\u001b[1;33m\u001b[0m\u001b[0m\n",
      "\u001b[1;32m~\\Anaconda3\\lib\\site-packages\\matplotlib\\__init__.py\u001b[0m in \u001b[0;36minner\u001b[1;34m(ax, data, *args, **kwargs)\u001b[0m\n\u001b[0;32m   1808\u001b[0m                         \u001b[1;34m\"the Matplotlib list!)\"\u001b[0m \u001b[1;33m%\u001b[0m \u001b[1;33m(\u001b[0m\u001b[0mlabel_namer\u001b[0m\u001b[1;33m,\u001b[0m \u001b[0mfunc\u001b[0m\u001b[1;33m.\u001b[0m\u001b[0m__name__\u001b[0m\u001b[1;33m)\u001b[0m\u001b[1;33m,\u001b[0m\u001b[1;33m\u001b[0m\u001b[1;33m\u001b[0m\u001b[0m\n\u001b[0;32m   1809\u001b[0m                         RuntimeWarning, stacklevel=2)\n\u001b[1;32m-> 1810\u001b[1;33m             \u001b[1;32mreturn\u001b[0m \u001b[0mfunc\u001b[0m\u001b[1;33m(\u001b[0m\u001b[0max\u001b[0m\u001b[1;33m,\u001b[0m \u001b[1;33m*\u001b[0m\u001b[0margs\u001b[0m\u001b[1;33m,\u001b[0m \u001b[1;33m**\u001b[0m\u001b[0mkwargs\u001b[0m\u001b[1;33m)\u001b[0m\u001b[1;33m\u001b[0m\u001b[1;33m\u001b[0m\u001b[0m\n\u001b[0m\u001b[0;32m   1811\u001b[0m \u001b[1;33m\u001b[0m\u001b[0m\n\u001b[0;32m   1812\u001b[0m         inner.__doc__ = _add_data_doc(inner.__doc__,\n",
      "\u001b[1;32m~\\Anaconda3\\lib\\site-packages\\matplotlib\\axes\\_axes.py\u001b[0m in \u001b[0;36mhist\u001b[1;34m(self, x, bins, range, density, weights, cumulative, bottom, histtype, align, orientation, rwidth, log, color, label, stacked, normed, **kwargs)\u001b[0m\n\u001b[0;32m   6589\u001b[0m             \u001b[1;31m# this will automatically overwrite bins,\u001b[0m\u001b[1;33m\u001b[0m\u001b[1;33m\u001b[0m\u001b[1;33m\u001b[0m\u001b[0m\n\u001b[0;32m   6590\u001b[0m             \u001b[1;31m# so that each histogram uses the same bins\u001b[0m\u001b[1;33m\u001b[0m\u001b[1;33m\u001b[0m\u001b[1;33m\u001b[0m\u001b[0m\n\u001b[1;32m-> 6591\u001b[1;33m             \u001b[0mm\u001b[0m\u001b[1;33m,\u001b[0m \u001b[0mbins\u001b[0m \u001b[1;33m=\u001b[0m \u001b[0mnp\u001b[0m\u001b[1;33m.\u001b[0m\u001b[0mhistogram\u001b[0m\u001b[1;33m(\u001b[0m\u001b[0mx\u001b[0m\u001b[1;33m[\u001b[0m\u001b[0mi\u001b[0m\u001b[1;33m]\u001b[0m\u001b[1;33m,\u001b[0m \u001b[0mbins\u001b[0m\u001b[1;33m,\u001b[0m \u001b[0mweights\u001b[0m\u001b[1;33m=\u001b[0m\u001b[0mw\u001b[0m\u001b[1;33m[\u001b[0m\u001b[0mi\u001b[0m\u001b[1;33m]\u001b[0m\u001b[1;33m,\u001b[0m \u001b[1;33m**\u001b[0m\u001b[0mhist_kwargs\u001b[0m\u001b[1;33m)\u001b[0m\u001b[1;33m\u001b[0m\u001b[1;33m\u001b[0m\u001b[0m\n\u001b[0m\u001b[0;32m   6592\u001b[0m             \u001b[0mm\u001b[0m \u001b[1;33m=\u001b[0m \u001b[0mm\u001b[0m\u001b[1;33m.\u001b[0m\u001b[0mastype\u001b[0m\u001b[1;33m(\u001b[0m\u001b[0mfloat\u001b[0m\u001b[1;33m)\u001b[0m  \u001b[1;31m# causes problems later if it's an int\u001b[0m\u001b[1;33m\u001b[0m\u001b[1;33m\u001b[0m\u001b[0m\n\u001b[0;32m   6593\u001b[0m             \u001b[1;32mif\u001b[0m \u001b[0mmlast\u001b[0m \u001b[1;32mis\u001b[0m \u001b[1;32mNone\u001b[0m\u001b[1;33m:\u001b[0m\u001b[1;33m\u001b[0m\u001b[1;33m\u001b[0m\u001b[0m\n",
      "\u001b[1;32m~\\Anaconda3\\lib\\site-packages\\numpy\\lib\\histograms.py\u001b[0m in \u001b[0;36mhistogram\u001b[1;34m(a, bins, range, normed, weights, density)\u001b[0m\n\u001b[0;32m    708\u001b[0m     \u001b[0ma\u001b[0m\u001b[1;33m,\u001b[0m \u001b[0mweights\u001b[0m \u001b[1;33m=\u001b[0m \u001b[0m_ravel_and_check_weights\u001b[0m\u001b[1;33m(\u001b[0m\u001b[0ma\u001b[0m\u001b[1;33m,\u001b[0m \u001b[0mweights\u001b[0m\u001b[1;33m)\u001b[0m\u001b[1;33m\u001b[0m\u001b[1;33m\u001b[0m\u001b[0m\n\u001b[0;32m    709\u001b[0m \u001b[1;33m\u001b[0m\u001b[0m\n\u001b[1;32m--> 710\u001b[1;33m     \u001b[0mbin_edges\u001b[0m\u001b[1;33m,\u001b[0m \u001b[0muniform_bins\u001b[0m \u001b[1;33m=\u001b[0m \u001b[0m_get_bin_edges\u001b[0m\u001b[1;33m(\u001b[0m\u001b[0ma\u001b[0m\u001b[1;33m,\u001b[0m \u001b[0mbins\u001b[0m\u001b[1;33m,\u001b[0m \u001b[0mrange\u001b[0m\u001b[1;33m,\u001b[0m \u001b[0mweights\u001b[0m\u001b[1;33m)\u001b[0m\u001b[1;33m\u001b[0m\u001b[1;33m\u001b[0m\u001b[0m\n\u001b[0m\u001b[0;32m    711\u001b[0m \u001b[1;33m\u001b[0m\u001b[0m\n\u001b[0;32m    712\u001b[0m     \u001b[1;31m# Histogram is an integer or a float array depending on the weights.\u001b[0m\u001b[1;33m\u001b[0m\u001b[1;33m\u001b[0m\u001b[1;33m\u001b[0m\u001b[0m\n",
      "\u001b[1;32m~\\Anaconda3\\lib\\site-packages\\numpy\\lib\\histograms.py\u001b[0m in \u001b[0;36m_get_bin_edges\u001b[1;34m(a, bins, range, weights)\u001b[0m\n\u001b[0;32m    361\u001b[0m             \u001b[1;32mraise\u001b[0m \u001b[0mValueError\u001b[0m\u001b[1;33m(\u001b[0m\u001b[1;34m'`bins` must be positive, when an integer'\u001b[0m\u001b[1;33m)\u001b[0m\u001b[1;33m\u001b[0m\u001b[1;33m\u001b[0m\u001b[0m\n\u001b[0;32m    362\u001b[0m \u001b[1;33m\u001b[0m\u001b[0m\n\u001b[1;32m--> 363\u001b[1;33m         \u001b[0mfirst_edge\u001b[0m\u001b[1;33m,\u001b[0m \u001b[0mlast_edge\u001b[0m \u001b[1;33m=\u001b[0m \u001b[0m_get_outer_edges\u001b[0m\u001b[1;33m(\u001b[0m\u001b[0ma\u001b[0m\u001b[1;33m,\u001b[0m \u001b[0mrange\u001b[0m\u001b[1;33m)\u001b[0m\u001b[1;33m\u001b[0m\u001b[1;33m\u001b[0m\u001b[0m\n\u001b[0m\u001b[0;32m    364\u001b[0m \u001b[1;33m\u001b[0m\u001b[0m\n\u001b[0;32m    365\u001b[0m     \u001b[1;32melif\u001b[0m \u001b[0mnp\u001b[0m\u001b[1;33m.\u001b[0m\u001b[0mndim\u001b[0m\u001b[1;33m(\u001b[0m\u001b[0mbins\u001b[0m\u001b[1;33m)\u001b[0m \u001b[1;33m==\u001b[0m \u001b[1;36m1\u001b[0m\u001b[1;33m:\u001b[0m\u001b[1;33m\u001b[0m\u001b[1;33m\u001b[0m\u001b[0m\n",
      "\u001b[1;32m~\\Anaconda3\\lib\\site-packages\\numpy\\lib\\histograms.py\u001b[0m in \u001b[0;36m_get_outer_edges\u001b[1;34m(a, range)\u001b[0m\n\u001b[0;32m    248\u001b[0m         \u001b[1;32mif\u001b[0m \u001b[0mfirst_edge\u001b[0m \u001b[1;33m>\u001b[0m \u001b[0mlast_edge\u001b[0m\u001b[1;33m:\u001b[0m\u001b[1;33m\u001b[0m\u001b[1;33m\u001b[0m\u001b[0m\n\u001b[0;32m    249\u001b[0m             raise ValueError(\n\u001b[1;32m--> 250\u001b[1;33m                 'max must be larger than min in range parameter.')\n\u001b[0m\u001b[0;32m    251\u001b[0m         \u001b[1;32mif\u001b[0m \u001b[1;32mnot\u001b[0m \u001b[1;33m(\u001b[0m\u001b[0mnp\u001b[0m\u001b[1;33m.\u001b[0m\u001b[0misfinite\u001b[0m\u001b[1;33m(\u001b[0m\u001b[0mfirst_edge\u001b[0m\u001b[1;33m)\u001b[0m \u001b[1;32mand\u001b[0m \u001b[0mnp\u001b[0m\u001b[1;33m.\u001b[0m\u001b[0misfinite\u001b[0m\u001b[1;33m(\u001b[0m\u001b[0mlast_edge\u001b[0m\u001b[1;33m)\u001b[0m\u001b[1;33m)\u001b[0m\u001b[1;33m:\u001b[0m\u001b[1;33m\u001b[0m\u001b[1;33m\u001b[0m\u001b[0m\n\u001b[0;32m    252\u001b[0m             raise ValueError(\n",
      "\u001b[1;31mValueError\u001b[0m: max must be larger than min in range parameter."
     ]
    },
    {
     "data": {
      "image/png": "[encoded data removed]",
      "text/plain": [
       "<Figure size 432x288 with 1 Axes>"
      ]
     },
     "metadata": {
      "needs_background": "light"
     },
     "output_type": "display_data"
    }
   ],
   "source": [
    "from scipy import stats\n",
    "\n",
    "fig, ax = plt.subplots()\n",
    "\n",
    "resid = res.resid_deviance.copy()\n",
    "resid_std = stats.zscore(resid)\n",
    "ax.hist(resid_std, bins=5)\n",
    "ax.set_title('Histograma de desviaciones estandarizadas');"
   ]
  },
  {
   "cell_type": "code",
   "execution_count": 46,
   "metadata": {},
   "outputs": [
    {
     "name": "stderr",
     "output_type": "stream",
     "text": [
      "C:\\Users\\Invitado\\Anaconda3\\lib\\site-packages\\scipy\\stats\\_continuous_distns.py:195: RuntimeWarning: invalid value encountered in subtract\n",
      "  scale = np.sqrt(((data - loc)**2).mean())\n"
     ]
    },
    {
     "data": {
      "image/png": "[encoded data removed]",
      "text/plain": [
       "<Figure size 432x288 with 1 Axes>"
      ]
     },
     "execution_count": 46,
     "metadata": {},
     "output_type": "execute_result"
    },
    {
     "data": {
      "image/png": "[encoded data removed]",
      "text/plain": [
       "<Figure size 432x288 with 1 Axes>"
      ]
     },
     "metadata": {
      "needs_background": "light"
     },
     "output_type": "display_data"
    }
   ],
   "source": [
    "from statsmodels import graphics\n",
    "graphics.gofplots.qqplot(resid, line='r')"
   ]
  },
  {
   "cell_type": "markdown",
   "metadata": {},
   "source": [
    "# GLM: Distribución Gamma"
   ]
  },
  {
   "cell_type": "code",
   "execution_count": 47,
   "metadata": {},
   "outputs": [
    {
     "data": {
      "text/html": [
       "<div>\n",
       "<style scoped>\n",
       "    .dataframe tbody tr th:only-of-type {\n",
       "        vertical-align: middle;\n",
       "    }\n",
       "\n",
       "    .dataframe tbody tr th {\n",
       "        vertical-align: top;\n",
       "    }\n",
       "\n",
       "    .dataframe thead th {\n",
       "        text-align: right;\n",
       "    }\n",
       "</style>\n",
       "<table border=\"1\" class=\"dataframe\">\n",
       "  <thead>\n",
       "    <tr style=\"text-align: right;\">\n",
       "      <th></th>\n",
       "      <th>PERMANENTE</th>\n",
       "      <th>PROD_NAL</th>\n",
       "      <th>OBRERO</th>\n",
       "      <th>TOTPERSONAL</th>\n",
       "      <th>COSTOS_PT_ELAB_TERCEROS</th>\n",
       "      <th>TOTAL_OUTSOURCING</th>\n",
       "      <th>TOT_MUESTRASGRATIS</th>\n",
       "      <th>PUBLICIDAD_PROD</th>\n",
       "      <th>GASTOSCARTERA</th>\n",
       "      <th>TOTALGASTOS_USOPROPIO</th>\n",
       "      <th>INVER_MAQ</th>\n",
       "      <th>INVER_OFICINA</th>\n",
       "      <th>TOTALINVER</th>\n",
       "      <th>VALORACTIVOS</th>\n",
       "      <th>MPCOMPRADA</th>\n",
       "      <th>VENTAS</th>\n",
       "    </tr>\n",
       "  </thead>\n",
       "  <tbody>\n",
       "    <tr>\n",
       "      <th>1</th>\n",
       "      <td>2.000000</td>\n",
       "      <td>2.000000</td>\n",
       "      <td>10.0</td>\n",
       "      <td>13.0</td>\n",
       "      <td>1.789890e+05</td>\n",
       "      <td>218224.843465</td>\n",
       "      <td>47359.806799</td>\n",
       "      <td>22549.880305</td>\n",
       "      <td>8.969314e+06</td>\n",
       "      <td>568773.225613</td>\n",
       "      <td>340794.846346</td>\n",
       "      <td>49702.437665</td>\n",
       "      <td>493915.398347</td>\n",
       "      <td>641984.0</td>\n",
       "      <td>2602400.0</td>\n",
       "      <td>3460300.0</td>\n",
       "    </tr>\n",
       "    <tr>\n",
       "      <th>2</th>\n",
       "      <td>7.000000</td>\n",
       "      <td>12.562613</td>\n",
       "      <td>3.0</td>\n",
       "      <td>9.0</td>\n",
       "      <td>1.158180e+06</td>\n",
       "      <td>218224.843465</td>\n",
       "      <td>47359.806799</td>\n",
       "      <td>22549.880305</td>\n",
       "      <td>8.969314e+06</td>\n",
       "      <td>568773.225613</td>\n",
       "      <td>4478.000000</td>\n",
       "      <td>49702.437665</td>\n",
       "      <td>53869.000000</td>\n",
       "      <td>201817.0</td>\n",
       "      <td>102941.0</td>\n",
       "      <td>296411.0</td>\n",
       "    </tr>\n",
       "    <tr>\n",
       "      <th>3</th>\n",
       "      <td>46.562075</td>\n",
       "      <td>1.000000</td>\n",
       "      <td>30.0</td>\n",
       "      <td>36.0</td>\n",
       "      <td>2.726740e+05</td>\n",
       "      <td>4464.000000</td>\n",
       "      <td>47359.806799</td>\n",
       "      <td>22549.880305</td>\n",
       "      <td>8.969314e+06</td>\n",
       "      <td>568773.225613</td>\n",
       "      <td>340794.846346</td>\n",
       "      <td>3200.000000</td>\n",
       "      <td>3200.000000</td>\n",
       "      <td>143460.0</td>\n",
       "      <td>867491.0</td>\n",
       "      <td>1597520.0</td>\n",
       "    </tr>\n",
       "    <tr>\n",
       "      <th>4</th>\n",
       "      <td>46.562075</td>\n",
       "      <td>2.000000</td>\n",
       "      <td>3.0</td>\n",
       "      <td>5.0</td>\n",
       "      <td>1.158180e+06</td>\n",
       "      <td>218224.843465</td>\n",
       "      <td>47359.806799</td>\n",
       "      <td>22549.880305</td>\n",
       "      <td>8.969314e+06</td>\n",
       "      <td>568773.225613</td>\n",
       "      <td>340794.846346</td>\n",
       "      <td>49702.437665</td>\n",
       "      <td>493915.398347</td>\n",
       "      <td>8704.0</td>\n",
       "      <td>26720.0</td>\n",
       "      <td>231480.0</td>\n",
       "    </tr>\n",
       "    <tr>\n",
       "      <th>5</th>\n",
       "      <td>19.000000</td>\n",
       "      <td>12.562613</td>\n",
       "      <td>15.0</td>\n",
       "      <td>19.0</td>\n",
       "      <td>3.154950e+05</td>\n",
       "      <td>218224.843465</td>\n",
       "      <td>47359.806799</td>\n",
       "      <td>22549.880305</td>\n",
       "      <td>8.969314e+06</td>\n",
       "      <td>541844.380952</td>\n",
       "      <td>39292.000000</td>\n",
       "      <td>13033.000000</td>\n",
       "      <td>527797.000000</td>\n",
       "      <td>1598624.0</td>\n",
       "      <td>1548929.0</td>\n",
       "      <td>3451232.0</td>\n",
       "    </tr>\n",
       "    <tr>\n",
       "      <th>...</th>\n",
       "      <td>...</td>\n",
       "      <td>...</td>\n",
       "      <td>...</td>\n",
       "      <td>...</td>\n",
       "      <td>...</td>\n",
       "      <td>...</td>\n",
       "      <td>...</td>\n",
       "      <td>...</td>\n",
       "      <td>...</td>\n",
       "      <td>...</td>\n",
       "      <td>...</td>\n",
       "      <td>...</td>\n",
       "      <td>...</td>\n",
       "      <td>...</td>\n",
       "      <td>...</td>\n",
       "      <td>...</td>\n",
       "    </tr>\n",
       "    <tr>\n",
       "      <th>10291</th>\n",
       "      <td>11.000000</td>\n",
       "      <td>3.000000</td>\n",
       "      <td>4.0</td>\n",
       "      <td>11.0</td>\n",
       "      <td>1.158180e+06</td>\n",
       "      <td>218224.843465</td>\n",
       "      <td>47359.806799</td>\n",
       "      <td>22549.880305</td>\n",
       "      <td>8.969314e+06</td>\n",
       "      <td>568773.225613</td>\n",
       "      <td>340794.846346</td>\n",
       "      <td>49702.437665</td>\n",
       "      <td>493915.398347</td>\n",
       "      <td>93659.0</td>\n",
       "      <td>155361.0</td>\n",
       "      <td>907882.0</td>\n",
       "    </tr>\n",
       "    <tr>\n",
       "      <th>10292</th>\n",
       "      <td>46.562075</td>\n",
       "      <td>12.562613</td>\n",
       "      <td>27.0</td>\n",
       "      <td>46.0</td>\n",
       "      <td>1.158180e+06</td>\n",
       "      <td>218224.843465</td>\n",
       "      <td>47359.806799</td>\n",
       "      <td>22549.880305</td>\n",
       "      <td>8.969314e+06</td>\n",
       "      <td>568773.225613</td>\n",
       "      <td>340794.846346</td>\n",
       "      <td>49702.437665</td>\n",
       "      <td>11182.000000</td>\n",
       "      <td>188741.0</td>\n",
       "      <td>618268.0</td>\n",
       "      <td>1100444.0</td>\n",
       "    </tr>\n",
       "    <tr>\n",
       "      <th>10293</th>\n",
       "      <td>40.000000</td>\n",
       "      <td>12.562613</td>\n",
       "      <td>29.0</td>\n",
       "      <td>46.0</td>\n",
       "      <td>1.158180e+06</td>\n",
       "      <td>218224.843465</td>\n",
       "      <td>47359.806799</td>\n",
       "      <td>22549.880305</td>\n",
       "      <td>8.969314e+06</td>\n",
       "      <td>568773.225613</td>\n",
       "      <td>340794.846346</td>\n",
       "      <td>49702.437665</td>\n",
       "      <td>493915.398347</td>\n",
       "      <td>465071.0</td>\n",
       "      <td>2164604.0</td>\n",
       "      <td>3300208.0</td>\n",
       "    </tr>\n",
       "    <tr>\n",
       "      <th>10294</th>\n",
       "      <td>36.000000</td>\n",
       "      <td>9.000000</td>\n",
       "      <td>260.0</td>\n",
       "      <td>303.0</td>\n",
       "      <td>6.470340e+05</td>\n",
       "      <td>218224.843465</td>\n",
       "      <td>47359.806799</td>\n",
       "      <td>22549.880305</td>\n",
       "      <td>2.444700e+04</td>\n",
       "      <td>568773.225613</td>\n",
       "      <td>118002.000000</td>\n",
       "      <td>49702.437665</td>\n",
       "      <td>503083.000000</td>\n",
       "      <td>2874293.0</td>\n",
       "      <td>6940062.0</td>\n",
       "      <td>15443532.0</td>\n",
       "    </tr>\n",
       "    <tr>\n",
       "      <th>10295</th>\n",
       "      <td>3.000000</td>\n",
       "      <td>12.562613</td>\n",
       "      <td>11.0</td>\n",
       "      <td>21.0</td>\n",
       "      <td>1.158180e+06</td>\n",
       "      <td>218224.843465</td>\n",
       "      <td>47359.806799</td>\n",
       "      <td>22549.880305</td>\n",
       "      <td>8.969314e+06</td>\n",
       "      <td>568773.225613</td>\n",
       "      <td>340794.846346</td>\n",
       "      <td>49702.437665</td>\n",
       "      <td>493915.398347</td>\n",
       "      <td>300842.0</td>\n",
       "      <td>421689.0</td>\n",
       "      <td>1180126.0</td>\n",
       "    </tr>\n",
       "  </tbody>\n",
       "</table>\n",
       "<p>10295 rows × 16 columns</p>\n",
       "</div>"
      ],
      "text/plain": [
       "       PERMANENTE   PROD_NAL  OBRERO  TOTPERSONAL  COSTOS_PT_ELAB_TERCEROS  \\\n",
       "1        2.000000   2.000000    10.0         13.0             1.789890e+05   \n",
       "2        7.000000  12.562613     3.0          9.0             1.158180e+06   \n",
       "3       46.562075   1.000000    30.0         36.0             2.726740e+05   \n",
       "4       46.562075   2.000000     3.0          5.0             1.158180e+06   \n",
       "5       19.000000  12.562613    15.0         19.0             3.154950e+05   \n",
       "...           ...        ...     ...          ...                      ...   \n",
       "10291   11.000000   3.000000     4.0         11.0             1.158180e+06   \n",
       "10292   46.562075  12.562613    27.0         46.0             1.158180e+06   \n",
       "10293   40.000000  12.562613    29.0         46.0             1.158180e+06   \n",
       "10294   36.000000   9.000000   260.0        303.0             6.470340e+05   \n",
       "10295    3.000000  12.562613    11.0         21.0             1.158180e+06   \n",
       "\n",
       "       TOTAL_OUTSOURCING  TOT_MUESTRASGRATIS  PUBLICIDAD_PROD  GASTOSCARTERA  \\\n",
       "1          218224.843465        47359.806799     22549.880305   8.969314e+06   \n",
       "2          218224.843465        47359.806799     22549.880305   8.969314e+06   \n",
       "3            4464.000000        47359.806799     22549.880305   8.969314e+06   \n",
       "4          218224.843465        47359.806799     22549.880305   8.969314e+06   \n",
       "5          218224.843465        47359.806799     22549.880305   8.969314e+06   \n",
       "...                  ...                 ...              ...            ...   \n",
       "10291      218224.843465        47359.806799     22549.880305   8.969314e+06   \n",
       "10292      218224.843465        47359.806799     22549.880305   8.969314e+06   \n",
       "10293      218224.843465        47359.806799     22549.880305   8.969314e+06   \n",
       "10294      218224.843465        47359.806799     22549.880305   2.444700e+04   \n",
       "10295      218224.843465        47359.806799     22549.880305   8.969314e+06   \n",
       "\n",
       "       TOTALGASTOS_USOPROPIO      INVER_MAQ  INVER_OFICINA     TOTALINVER  \\\n",
       "1              568773.225613  340794.846346   49702.437665  493915.398347   \n",
       "2              568773.225613    4478.000000   49702.437665   53869.000000   \n",
       "3              568773.225613  340794.846346    3200.000000    3200.000000   \n",
       "4              568773.225613  340794.846346   49702.437665  493915.398347   \n",
       "5              541844.380952   39292.000000   13033.000000  527797.000000   \n",
       "...                      ...            ...            ...            ...   \n",
       "10291          568773.225613  340794.846346   49702.437665  493915.398347   \n",
       "10292          568773.225613  340794.846346   49702.437665   11182.000000   \n",
       "10293          568773.225613  340794.846346   49702.437665  493915.398347   \n",
       "10294          568773.225613  118002.000000   49702.437665  503083.000000   \n",
       "10295          568773.225613  340794.846346   49702.437665  493915.398347   \n",
       "\n",
       "       VALORACTIVOS  MPCOMPRADA      VENTAS  \n",
       "1          641984.0   2602400.0   3460300.0  \n",
       "2          201817.0    102941.0    296411.0  \n",
       "3          143460.0    867491.0   1597520.0  \n",
       "4            8704.0     26720.0    231480.0  \n",
       "5         1598624.0   1548929.0   3451232.0  \n",
       "...             ...         ...         ...  \n",
       "10291       93659.0    155361.0    907882.0  \n",
       "10292      188741.0    618268.0   1100444.0  \n",
       "10293      465071.0   2164604.0   3300208.0  \n",
       "10294     2874293.0   6940062.0  15443532.0  \n",
       "10295      300842.0    421689.0   1180126.0  \n",
       "\n",
       "[10295 rows x 16 columns]"
      ]
     },
     "execution_count": 47,
     "metadata": {},
     "output_type": "execute_result"
    }
   ],
   "source": [
    "#Se cargan los archivos \n",
    "\n",
    "total2=pd.read_excel(\"GLM.xlsx\",index_col=0) \n",
    "total2"
   ]
  },
  {
   "cell_type": "code",
   "execution_count": 54,
   "metadata": {},
   "outputs": [],
   "source": [
    "#Definir variables exógenas\n",
    "\n",
    "x2=total2[[\"PERMANENTE\",\"PROD_NAL\", \"OBRERO\", \"TOTPERSONAL\", \"COSTOS_PT_ELAB_TERCEROS\",\"TOTAL_OUTSOURCING\", \"TOT_MUESTRASGRATIS\", \"PUBLICIDAD_PROD\", \"GASTOSCARTERA\", \"TOTALGASTOS_USOPROPIO\", \"INVER_MAQ\", \"INVER_OFICINA\", \"TOTALINVER\", \"VALORACTIVOS\", \"MPCOMPRADA\"]]"
   ]
  },
  {
   "cell_type": "code",
   "execution_count": 55,
   "metadata": {},
   "outputs": [],
   "source": [
    "#Definir variable endógena\n",
    "\n",
    "y2=total2[[\"VENTAS\"]]"
   ]
  },
  {
   "cell_type": "markdown",
   "metadata": {},
   "source": [
    " ### Ajustar"
   ]
  },
  {
   "cell_type": "code",
   "execution_count": 50,
   "metadata": {},
   "outputs": [
    {
     "data": {
      "text/plain": [
       "statsmodels.genmod.families.family.Gamma"
      ]
     },
     "execution_count": 50,
     "metadata": {},
     "output_type": "execute_result"
    }
   ],
   "source": [
    "sm.families.Gamma"
   ]
  },
  {
   "cell_type": "code",
   "execution_count": 56,
   "metadata": {},
   "outputs": [
    {
     "name": "stderr",
     "output_type": "stream",
     "text": [
      "C:\\Users\\Invitado\\Anaconda3\\lib\\site-packages\\statsmodels\\genmod\\generalized_linear_model.py:302: DomainWarning: The inverse_power link function does not respect the domain of the Gamma family.\n",
      "  DomainWarning)\n"
     ]
    },
    {
     "name": "stdout",
     "output_type": "stream",
     "text": [
      "                 Generalized Linear Model Regression Results                  \n",
      "==============================================================================\n",
      "Dep. Variable:                 VENTAS   No. Observations:                10295\n",
      "Model:                            GLM   Df Residuals:                    10280\n",
      "Model Family:                   Gamma   Df Model:                           14\n",
      "Link Function:          inverse_power   Scale:                          15.278\n",
      "Method:                          IRLS   Log-Likelihood:            -1.7664e+05\n",
      "Date:                Mon, 21 Jan 2019   Deviance:                       21413.\n",
      "Time:                        19:17:37   Pearson chi2:                 1.57e+05\n",
      "No. Iterations:                    59   Covariance Type:             nonrobust\n",
      "===========================================================================================\n",
      "                              coef    std err          z      P>|z|      [0.025      0.975]\n",
      "-------------------------------------------------------------------------------------------\n",
      "PERMANENTE              -1.146e-09   4.91e-11    -23.365      0.000   -1.24e-09   -1.05e-09\n",
      "PROD_NAL                 2.208e-09   1.62e-10     13.620      0.000    1.89e-09    2.53e-09\n",
      "OBRERO                   1.349e-09   6.18e-11     21.837      0.000    1.23e-09    1.47e-09\n",
      "TOTPERSONAL             -2.549e-09   1.01e-10    -25.158      0.000   -2.75e-09   -2.35e-09\n",
      "COSTOS_PT_ELAB_TERCEROS -5.531e-14   2.22e-15    -24.896      0.000   -5.97e-14    -5.1e-14\n",
      "TOTAL_OUTSOURCING       -2.556e-13   1.82e-14    -14.025      0.000   -2.91e-13    -2.2e-13\n",
      "TOT_MUESTRASGRATIS       2.392e-12   1.52e-13     15.772      0.000    2.09e-12    2.69e-12\n",
      "PUBLICIDAD_PROD         -2.124e-12   2.12e-13    -10.025      0.000   -2.54e-12   -1.71e-12\n",
      "GASTOSCARTERA             8.25e-15   4.56e-16     18.101      0.000    7.36e-15    9.14e-15\n",
      "TOTALGASTOS_USOPROPIO    1.282e-12   5.15e-14     24.873      0.000    1.18e-12    1.38e-12\n",
      "INVER_MAQ                 9.27e-14   7.07e-15     13.103      0.000    7.88e-14    1.07e-13\n",
      "INVER_OFICINA            8.838e-13   5.33e-14     16.577      0.000    7.79e-13    9.88e-13\n",
      "TOTALINVER              -6.322e-14   5.71e-15    -11.068      0.000   -7.44e-14    -5.2e-14\n",
      "VALORACTIVOS               1.2e-15   1.31e-16      9.153      0.000    9.43e-16    1.46e-15\n",
      "MPCOMPRADA              -3.709e-14   1.48e-15    -25.120      0.000      -4e-14   -3.42e-14\n",
      "===========================================================================================\n"
     ]
    }
   ],
   "source": [
    "glm_gamma=sm.GLM(y2,x2,family=sm.families.Gamma())\n",
    "glm_results=glm_gamma.fit()\n",
    "print(glm_results.summary())"
   ]
  },
  {
   "cell_type": "code",
   "execution_count": 57,
   "metadata": {},
   "outputs": [],
   "source": [
    "nobs = glm_results.nobs\n",
    "y = y2\n",
    "yhat = glm_results.mu"
   ]
  },
  {
   "cell_type": "code",
   "execution_count": 58,
   "metadata": {},
   "outputs": [
    {
     "data": {
      "image/png": "[encoded data removed]",
      "text/plain": [
       "<Figure size 432x288 with 1 Axes>"
      ]
     },
     "metadata": {
      "needs_background": "light"
     },
     "output_type": "display_data"
    }
   ],
   "source": [
    "fig, ax = plt.subplots()\n",
    "ax.scatter(yhat, y)\n",
    "line_fit = sm.OLS(y, sm.add_constant(yhat, prepend=True)).fit()\n",
    "abline_plot(model_results=line_fit, ax=ax)\n",
    "\n",
    "ax.set_title('Model Fit Plot')\n",
    "ax.set_ylabel('Observed values')\n",
    "ax.set_xlabel('Fitted values');"
   ]
  },
  {
   "cell_type": "code",
   "execution_count": 59,
   "metadata": {},
   "outputs": [
    {
     "data": {
      "text/plain": [
       "-233.6408612301203"
      ]
     },
     "execution_count": 59,
     "metadata": {},
     "output_type": "execute_result"
    }
   ],
   "source": [
    "r2_score(y,yhat)"
   ]
  },
  {
   "cell_type": "code",
   "execution_count": 60,
   "metadata": {},
   "outputs": [
    {
     "data": {
      "image/png": "[encoded data removed]",
      "text/plain": [
       "<Figure size 432x288 with 1 Axes>"
      ]
     },
     "metadata": {
      "needs_background": "light"
     },
     "output_type": "display_data"
    }
   ],
   "source": [
    "from scipy import stats\n",
    "\n",
    "fig, ax = plt.subplots()\n",
    "\n",
    "resid = glm_results.resid_deviance.copy()\n",
    "resid_std = stats.zscore(resid)\n",
    "ax.hist(resid_std, bins=25)\n",
    "ax.set_title('Histogram of standardized deviance residuals');"
   ]
  },
  {
   "cell_type": "code",
   "execution_count": 61,
   "metadata": {},
   "outputs": [
    {
     "data": {
      "image/png": "[encoded data removed]",
      "text/plain": [
       "<Figure size 432x288 with 1 Axes>"
      ]
     },
     "metadata": {
      "needs_background": "light"
     },
     "output_type": "display_data"
    }
   ],
   "source": [
    "x=np.random.gamma(2,2,100)\n",
    "plt.hist(x);"
   ]
  }
 ],
 "metadata": {
  "kernelspec": {
   "display_name": "Python 3",
   "language": "python",
   "name": "python3"
  },
  "language_info": {
   "codemirror_mode": {
    "name": "ipython",
    "version": 3
   },
   "file_extension": ".py",
   "mimetype": "text/x-python",
   "name": "python",
   "nbconvert_exporter": "python",
   "pygments_lexer": "ipython3",
   "version": "3.7.1"
  }
 },
 "nbformat": 4,
 "nbformat_minor": 2
}
